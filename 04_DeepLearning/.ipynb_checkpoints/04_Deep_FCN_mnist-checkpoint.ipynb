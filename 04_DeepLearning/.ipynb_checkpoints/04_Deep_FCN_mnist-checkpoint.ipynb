{
 "cells": [
  {
   "cell_type": "code",
   "execution_count": null,
   "metadata": {
    "id": "YIGsXgwDN_KZ"
   },
   "outputs": [],
   "source": [
    "import torch\n",
    "import torch.nn as nn\n",
    "import torchvision\n",
    "import torchvision.transforms as transforms\n",
    "import matplotlib.pyplot as plt\n",
    "\n",
    "# 우리가 사용할 컴퓨터를 check하는 부분, cpu/gpu 지원받을지...\n",
    "device = torch.device('cuda' if torch.cuda.is_available() else 'cpu')\n",
    "device"
   ]
  },
  {
   "cell_type": "code",
   "execution_count": null,
   "metadata": {
    "id": "BjpH9h81RWbq"
   },
   "outputs": [],
   "source": [
    "# 하이퍼 파라미터 지정\n",
    "input_size = 784\n",
    "hidden_size = 500\n",
    "num_classes = 10\n",
    "num_epochs = 5\n",
    "batch_size = 100\n",
    "learning_rate = 0.001\n",
    "\n",
    "# 데이타셋 로딩 -- 2번에 걸쳐서 로딩\n",
    "# train_dataset\n",
    "train_dataset = torchvision.datasets.MNIST(root='../../data',\n",
    "                                           train = True, \n",
    "                                           transform=transforms.ToTensor(),\n",
    "                                           download = True)\n",
    "test_dataset = torchvision.datasets.MNIST(root='../../data',\n",
    "                                           train = False, \n",
    "                                           transform=transforms.ToTensor())\n",
    "\n",
    "# 2step...DataLoader...BatchSize를 이용함\n",
    "train_loader = torch.utils.data.DataLoader(dataset=train_dataset,\n",
    "                                           batch_size = batch_size,\n",
    "                                           shuffle = True)\n",
    "\n",
    "test_loader = torch.utils.data.DataLoader(dataset=test_dataset,\n",
    "                                           batch_size = batch_size,\n",
    "                                           shuffle = False)"
   ]
  },
  {
   "cell_type": "markdown",
   "metadata": {
    "id": "tNZ9neKRXAH0"
   },
   "source": [
    "Model 생성하기\n"
   ]
  },
  {
   "cell_type": "code",
   "execution_count": null,
   "metadata": {
    "id": "2VSYh-ZUXIRm"
   },
   "outputs": [],
   "source": [
    "class NeuralNet(nn.Module):\n",
    "    # 모델 설계\n",
    "    def __init__(self, input_size,  hidden_size  ,num_classes):\n",
    "\n",
    "        super(NeuralNet, self).__init__()\n",
    "        self.fc1=nn.Linear(input_size, hidden_size)\n",
    "        self.relu=nn.ReLU()\n",
    "        self.fc2=nn.Linear(hidden_size, num_classes)\n",
    "\n",
    "    # 모델의 Forward Path를 정의\n",
    "    def forward(self, x):\n",
    "        out=self.fc1(x)        \n",
    "        out=self.relu(out)\n",
    "        out=self.fc2(out)\n",
    "\n",
    "        return out  # 여기까지가 클래스 정의부분\n",
    "\n",
    "# 위에서 정의한 클래스를 인스턴스화 시킴\n",
    "model = NeuralNet(input_size, hidden_size, num_classes).to(device) # 이 model 을 gpu서버에서 돌리겠다\n",
    "\n",
    "# loss and optimizer를 선정의\n",
    "loss_function = nn.CrossEntropyLoss() # Loss 기능안에 Softmax 함수기능 포함되어져 있다.\n",
    "optimizer = torch.optim.Adam(model.parameters(), lr=learning_rate)\n",
    "\n",
    "total_step=len(train_loader) # 600번 로딩..600번 학습이 진행된다.\n",
    "\n",
    "for epoch in range(num_epochs): # 5번 ...\n",
    "    for i, (images, labels) in enumerate(train_loader): \n",
    "        # 네트워크에 넣어줄때는 1차원으로 펼쳐서 넣는다\n",
    "        images = images.reshape(-1, 28*28).to(device) #gpu로 돌린다.\n",
    "        labels = labels.to(device)\n",
    "\n",
    "        # Forward Pass\n",
    "        pred=model(images)\n",
    "        loss = loss_function(pred, labels)\n",
    "\n",
    "        optimizer.zero_grad()\n",
    "        loss.backward()\n",
    "\n",
    "        optimizer.step()\n",
    "\n",
    "        if(i+1) % 100 ==0:\n",
    "            print('Epoch[{}/{}], Step [{}/{}], Loss: {:.4f}'.format(epoch+1, num_epochs, i+1, total_step, loss.item()))\n",
    "\n",
    "\n"
   ]
  }
 ],
 "metadata": {
  "accelerator": "GPU",
  "colab": {
   "authorship_tag": "ABX9TyMnhhLq3bDbPxgDaZM6idm2",
   "name": "04_Deep_FCN_mnist.ipynb",
   "private_outputs": true,
   "provenance": []
  },
  "kernelspec": {
   "display_name": "Python 3",
   "language": "python",
   "name": "python3"
  },
  "language_info": {
   "codemirror_mode": {
    "name": "ipython",
    "version": 3
   },
   "file_extension": ".py",
   "mimetype": "text/x-python",
   "name": "python",
   "nbconvert_exporter": "python",
   "pygments_lexer": "ipython3",
   "version": "3.8.5"
  }
 },
 "nbformat": 4,
 "nbformat_minor": 1
}
