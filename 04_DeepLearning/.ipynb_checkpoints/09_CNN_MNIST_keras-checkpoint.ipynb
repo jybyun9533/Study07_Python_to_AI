{
 "cells": [
  {
   "cell_type": "code",
   "execution_count": 1,
   "metadata": {
    "colab": {
     "base_uri": "https://localhost:8080/"
    },
    "id": "EYSihnopQJDs",
    "outputId": "d885f7f9-a654-468a-c107-4df433ddab62"
   },
   "outputs": [
    {
     "name": "stdout",
     "output_type": "stream",
     "text": [
      "Downloading data from https://storage.googleapis.com/tensorflow/tf-keras-datasets/mnist.npz\n",
      "11493376/11490434 [==============================] - 0s 0us/step\n",
      "(60000, 28, 28)\n"
     ]
    }
   ],
   "source": [
    "import numpy as np\n",
    "from keras import datasets\n",
    "from keras import models, layers\n",
    "from keras.utils import np_utils\n",
    "import tensorflow as tf\n",
    "from tensorflow import keras\n",
    "import matplotlib.pyplot as plt\n",
    "\n",
    "from keras import  backend\n",
    " \n",
    "\n",
    "# 1. DataLoader\n",
    "(X_train, y_train),(X_test, y_test)=keras.datasets.mnist.load_data()\n",
    "print(X_train.shape[:])\n",
    "\n",
    "# 2. 입력 데이타 전처리하기\n",
    "H,W=X_train.shape[1:]\n",
    "\n",
    "'''\n",
    "입력 데이타가 2차원일때 전처리 과정중 채널 정보를 확인하는 과정이 중요하다\n",
    "흑백은 채널정보가 따로 없지만 그래도 1이라는 값을 추가해줘야 한다.\n",
    "칼라는 채널정보가 3으로 존재한다.\n",
    "\n",
    "또한 채널은 다른 정보의 앞에올수도 /  뒤에 붙을수도 있다.\n",
    "                     Channel First /  Channel Last\n",
    "backend 모듈 사용한다.\n",
    "\n",
    "'''\n",
    "# 전처리 1)\n",
    "channel=backend.image_data_format()\n",
    "channel\n",
    "\n",
    "if backend.image_data_format =='channels_first':\n",
    "  X_train = X_train.reshape(X_train.shape[0],1, H, W) # X_train[0] 대신에 -1써도 동일한 표현\n",
    "  X_test = X_test.reshape(X_test.shape[0], 1, H, W)\n",
    "  input_shape = (1, H, W) #채널이 앞으로 간다\n",
    "else:\n",
    "  X_train = X_train.reshape(X_train.shape[0], H, W,1) # X_train[0] 대신에 -1써도 동일한 표현\n",
    "  X_test = X_test.reshape(X_test.shape[0], H, W, 1)\n",
    "  input_shape = ( H, W, 1) #채널이 앞으로 간다\n",
    "\n",
    "# 전처리 2)\n",
    "X_train = X_train.astype('float32')\n",
    "X_test = X_test.astype('float32')\n",
    "X_train /= 255\n",
    "X_test /=255\n",
    "\n",
    "# 전처리 3)\n",
    "Y_train = np_utils.to_categorical(y_train)\n",
    "Y_test = np_utils.to_categorical(y_test)\n",
    "\n",
    "## 3. 모델 생성하기\n",
    "model = keras.models.Sequential()\n",
    "model.add(layers.Conv2D(32, kernel_size=(3,3), activation='relu', input_shape = input_shape))\n",
    "model.add(layers.Conv2D(64, (3,3), activation='relu'))\n",
    "model.add(layers.BatchNormalization())\n",
    "model.add(layers.MaxPool2D(pool_size=(2,2)))\n",
    "model.add(layers.Dropout(0.25))\n",
    "#위에서 나온 2차원 이미지 값들을 1차원으로 펼쳐서 FCN을 만든다\n",
    "model.add(layers.Flatten())\n",
    "model.add(layers.Dense(128, activation='relu'))\n",
    "model.add(layers.Dropout(0.5))\n",
    "model.add(layers.Dense(10, activation='softmax'))\n",
    "\n",
    "model.compile('rmsprop','categorical_crossentropy','accuracy')\n",
    "\n"
   ]
  },
  {
   "cell_type": "code",
   "execution_count": 2,
   "metadata": {
    "colab": {
     "base_uri": "https://localhost:8080/",
     "height": 1000
    },
    "id": "-qVeIx3DYcjy",
    "outputId": "7d22fc6f-8d5d-40aa-d7c3-1ce4851ca352"
   },
   "outputs": [
    {
     "name": "stdout",
     "output_type": "stream",
     "text": [
      "Epoch 1/20\n",
      "375/375 [==============================] - 36s 10ms/step - loss: 0.2362 - accuracy: 0.9361 - val_loss: 1.1694 - val_accuracy: 0.9220\n",
      "Epoch 2/20\n",
      "375/375 [==============================] - 4s 10ms/step - loss: 0.0878 - accuracy: 0.9744 - val_loss: 0.0733 - val_accuracy: 0.9814\n",
      "Epoch 3/20\n",
      "375/375 [==============================] - 4s 10ms/step - loss: 0.0754 - accuracy: 0.9790 - val_loss: 0.0512 - val_accuracy: 0.9871\n",
      "Epoch 4/20\n",
      "375/375 [==============================] - 4s 10ms/step - loss: 0.0689 - accuracy: 0.9817 - val_loss: 0.0476 - val_accuracy: 0.9851\n",
      "Epoch 5/20\n",
      "375/375 [==============================] - 4s 11ms/step - loss: 0.0609 - accuracy: 0.9837 - val_loss: 0.0468 - val_accuracy: 0.9873\n",
      "Epoch 6/20\n",
      "375/375 [==============================] - 4s 10ms/step - loss: 0.0594 - accuracy: 0.9840 - val_loss: 0.0670 - val_accuracy: 0.9862\n",
      "Epoch 7/20\n",
      "375/375 [==============================] - 4s 11ms/step - loss: 0.0549 - accuracy: 0.9844 - val_loss: 0.0591 - val_accuracy: 0.9857\n",
      "Epoch 8/20\n",
      "375/375 [==============================] - 4s 11ms/step - loss: 0.0537 - accuracy: 0.9864 - val_loss: 0.0442 - val_accuracy: 0.9894\n",
      "Epoch 9/20\n",
      "375/375 [==============================] - 4s 10ms/step - loss: 0.0492 - accuracy: 0.9864 - val_loss: 0.0620 - val_accuracy: 0.9898\n",
      "Epoch 10/20\n",
      "375/375 [==============================] - 4s 10ms/step - loss: 0.0467 - accuracy: 0.9875 - val_loss: 0.0518 - val_accuracy: 0.9878\n",
      "Epoch 11/20\n",
      "375/375 [==============================] - 4s 10ms/step - loss: 0.0485 - accuracy: 0.9868 - val_loss: 0.0713 - val_accuracy: 0.9840\n",
      "Epoch 12/20\n",
      "375/375 [==============================] - 4s 10ms/step - loss: 0.0491 - accuracy: 0.9873 - val_loss: 0.0493 - val_accuracy: 0.9897\n",
      "Epoch 13/20\n",
      "375/375 [==============================] - 4s 10ms/step - loss: 0.0481 - accuracy: 0.9879 - val_loss: 0.0764 - val_accuracy: 0.9889\n",
      "Epoch 14/20\n",
      "375/375 [==============================] - 4s 10ms/step - loss: 0.0443 - accuracy: 0.9884 - val_loss: 0.0590 - val_accuracy: 0.9894\n",
      "Epoch 15/20\n",
      "375/375 [==============================] - 4s 11ms/step - loss: 0.0432 - accuracy: 0.9887 - val_loss: 0.0929 - val_accuracy: 0.9846\n",
      "Epoch 16/20\n",
      "375/375 [==============================] - 4s 10ms/step - loss: 0.0428 - accuracy: 0.9884 - val_loss: 0.0934 - val_accuracy: 0.9843\n",
      "Epoch 17/20\n",
      "375/375 [==============================] - 4s 10ms/step - loss: 0.0444 - accuracy: 0.9892 - val_loss: 0.1105 - val_accuracy: 0.9858\n",
      "Epoch 18/20\n",
      "375/375 [==============================] - 4s 10ms/step - loss: 0.0434 - accuracy: 0.9892 - val_loss: 0.0959 - val_accuracy: 0.9807\n",
      "Epoch 19/20\n",
      "375/375 [==============================] - 4s 10ms/step - loss: 0.0430 - accuracy: 0.9890 - val_loss: 0.0854 - val_accuracy: 0.9868\n",
      "Epoch 20/20\n",
      "375/375 [==============================] - 4s 10ms/step - loss: 0.0421 - accuracy: 0.9903 - val_loss: 0.0562 - val_accuracy: 0.9902\n",
      "313/313 [==============================] - 1s 3ms/step - loss: 0.0540 - accuracy: 0.9887\n",
      "Test Loss :  0.05400028079748154\n",
      "Test Accuracy :  0.9886999726295471\n"
     ]
    },
    {
     "data": {
      "image/png": "[encoded data removed]",
      "text/plain": [
       "<Figure size 432x288 with 1 Axes>"
      ]
     },
     "metadata": {
      "needs_background": "light",
      "tags": []
     },
     "output_type": "display_data"
    }
   ],
   "source": [
    "import matplotlib.pyplot as plt\n",
    "\n",
    "def plot_loss(history):\n",
    "  plt.plot(history.history['loss'])\n",
    "  plt.plot(history.history['val_loss'])\n",
    "  plt.title('Model Loss')\n",
    "  plt.ylabel('Loss')\n",
    "  plt.xlabel('Epoch')\n",
    "  plt.legend(['Train','Validation'])\n",
    "\n",
    "def plot_acc(history):\n",
    "  plt.plot(history.history['accuracy'])\n",
    "  plt.plot(history.history['val_accuracy'])\n",
    "  plt.title('Model Accuracy')\n",
    "  plt.ylabel('Accuracy')\n",
    "  plt.xlabel('Epoch')\n",
    "  plt.legend(['Train','Validation'])\n",
    "\n",
    "# fit...학습할때 나오는 로그메세지들을 다 모아서 리턴한다...history\n",
    "history=model.fit(X_train, Y_train,epochs = 20, batch_size = 128, validation_split = 0.2)\n",
    "score = model.evaluate(X_test, Y_test)\n",
    "\n",
    "print(\"Test Loss : \",score[0])\n",
    "print(\"Test Accuracy : \",score[1])\n",
    "\n",
    "plot_loss(history)\n",
    "plot_acc(history)\n",
    "plt.show()"
   ]
  }
 ],
 "metadata": {
  "accelerator": "GPU",
  "colab": {
   "name": "09_CNN_MNIST_keras.ipynb",
   "provenance": []
  },
  "kernelspec": {
   "display_name": "Python 3",
   "language": "python",
   "name": "python3"
  },
  "language_info": {
   "codemirror_mode": {
    "name": "ipython",
    "version": 3
   },
   "file_extension": ".py",
   "mimetype": "text/x-python",
   "name": "python",
   "nbconvert_exporter": "python",
   "pygments_lexer": "ipython3",
   "version": "3.8.5"
  }
 },
 "nbformat": 4,
 "nbformat_minor": 1
}
