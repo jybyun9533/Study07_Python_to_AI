{
 "cells": [
  {
   "cell_type": "code",
   "execution_count": 1,
   "metadata": {
    "colab": {
     "base_uri": "https://localhost:8080/",
     "height": 1000
    },
    "id": "2yYHVOuSCU1D",
    "outputId": "91f6f183-20f6-4c2a-915f-b79b7bc78574"
   },
   "outputs": [
    {
     "name": "stdout",
     "output_type": "stream",
     "text": [
      "Downloading data from https://storage.googleapis.com/tensorflow/tf-keras-datasets/train-labels-idx1-ubyte.gz\n",
      "32768/29515 [=================================] - 0s 0us/step\n",
      "Downloading data from https://storage.googleapis.com/tensorflow/tf-keras-datasets/train-images-idx3-ubyte.gz\n",
      "26427392/26421880 [==============================] - 0s 0us/step\n",
      "Downloading data from https://storage.googleapis.com/tensorflow/tf-keras-datasets/t10k-labels-idx1-ubyte.gz\n",
      "8192/5148 [===============================================] - 0s 0us/step\n",
      "Downloading data from https://storage.googleapis.com/tensorflow/tf-keras-datasets/t10k-images-idx3-ubyte.gz\n",
      "4423680/4422102 [==============================] - 0s 0us/step\n",
      "(60000, 784) (10000, 784)\n",
      "Epoch 1/20\n",
      "480/480 [==============================] - 15s 4ms/step - loss: 1.8569 - accuracy: 0.3374 - val_loss: 0.8985 - val_accuracy: 0.7017\n",
      "Epoch 2/20\n",
      "480/480 [==============================] - 1s 3ms/step - loss: 1.0893 - accuracy: 0.6067 - val_loss: 0.7309 - val_accuracy: 0.7590\n",
      "Epoch 3/20\n",
      "480/480 [==============================] - 1s 3ms/step - loss: 0.9203 - accuracy: 0.6680 - val_loss: 0.6579 - val_accuracy: 0.7789\n",
      "Epoch 4/20\n",
      "480/480 [==============================] - 1s 3ms/step - loss: 0.8373 - accuracy: 0.6963 - val_loss: 0.6137 - val_accuracy: 0.7903\n",
      "Epoch 5/20\n",
      "480/480 [==============================] - 1s 3ms/step - loss: 0.7812 - accuracy: 0.7225 - val_loss: 0.5781 - val_accuracy: 0.7996\n",
      "Epoch 6/20\n",
      "480/480 [==============================] - 1s 3ms/step - loss: 0.7409 - accuracy: 0.7393 - val_loss: 0.5501 - val_accuracy: 0.8085\n",
      "Epoch 7/20\n",
      "480/480 [==============================] - 1s 3ms/step - loss: 0.7036 - accuracy: 0.7523 - val_loss: 0.5323 - val_accuracy: 0.8125\n",
      "Epoch 8/20\n",
      "480/480 [==============================] - 1s 3ms/step - loss: 0.6755 - accuracy: 0.7627 - val_loss: 0.5130 - val_accuracy: 0.8195\n",
      "Epoch 9/20\n",
      "480/480 [==============================] - 1s 3ms/step - loss: 0.6590 - accuracy: 0.7720 - val_loss: 0.4976 - val_accuracy: 0.8245\n",
      "Epoch 10/20\n",
      "480/480 [==============================] - 1s 3ms/step - loss: 0.6351 - accuracy: 0.7765 - val_loss: 0.4863 - val_accuracy: 0.8275\n",
      "Epoch 11/20\n",
      "480/480 [==============================] - 1s 3ms/step - loss: 0.6118 - accuracy: 0.7835 - val_loss: 0.4767 - val_accuracy: 0.8313\n",
      "Epoch 12/20\n",
      "480/480 [==============================] - 1s 3ms/step - loss: 0.6117 - accuracy: 0.7856 - val_loss: 0.4659 - val_accuracy: 0.8338\n",
      "Epoch 13/20\n",
      "480/480 [==============================] - 1s 3ms/step - loss: 0.5899 - accuracy: 0.7941 - val_loss: 0.4622 - val_accuracy: 0.8347\n",
      "Epoch 14/20\n",
      "480/480 [==============================] - 1s 3ms/step - loss: 0.5822 - accuracy: 0.7986 - val_loss: 0.4541 - val_accuracy: 0.8363\n",
      "Epoch 15/20\n",
      "480/480 [==============================] - 1s 3ms/step - loss: 0.5800 - accuracy: 0.7951 - val_loss: 0.4481 - val_accuracy: 0.8388\n",
      "Epoch 16/20\n",
      "480/480 [==============================] - 1s 3ms/step - loss: 0.5718 - accuracy: 0.8006 - val_loss: 0.4425 - val_accuracy: 0.8395\n",
      "Epoch 17/20\n",
      "480/480 [==============================] - 1s 3ms/step - loss: 0.5582 - accuracy: 0.8043 - val_loss: 0.4390 - val_accuracy: 0.8431\n",
      "Epoch 18/20\n",
      "480/480 [==============================] - 1s 3ms/step - loss: 0.5382 - accuracy: 0.8112 - val_loss: 0.4360 - val_accuracy: 0.8422\n",
      "Epoch 19/20\n",
      "480/480 [==============================] - 1s 3ms/step - loss: 0.5409 - accuracy: 0.8088 - val_loss: 0.4347 - val_accuracy: 0.8420\n",
      "Epoch 20/20\n",
      "480/480 [==============================] - 1s 3ms/step - loss: 0.5420 - accuracy: 0.8120 - val_loss: 0.4301 - val_accuracy: 0.8443\n",
      "100/100 [==============================] - 0s 2ms/step - loss: 0.4525 - accuracy: 0.8372\n"
     ]
    },
    {
     "data": {
      "image/png": "[encoded data removed]",
      "text/plain": [
       "<Figure size 432x288 with 1 Axes>"
      ]
     },
     "metadata": {
      "needs_background": "light",
      "tags": []
     },
     "output_type": "display_data"
    }
   ],
   "source": [
    "import numpy as np\n",
    "from keras import datasets\n",
    "from keras import models, layers\n",
    "from keras.utils import np_utils\n",
    "import tensorflow as tf\n",
    "from tensorflow import keras\n",
    "import matplotlib.pyplot as plt\n",
    " \n",
    "\n",
    "# 1. DataLoader\n",
    "(X_train, y_train),(X_test, y_test)=keras.datasets.fashion_mnist.load_data()\n",
    "\n",
    "# print(X_train[0])\n",
    "# print(X_test[0])\n",
    "# print(X_train[0].shape)\n",
    "# print(X_train.shape)\n",
    "# print(X_test.shape)\n",
    "\n",
    "plt.imshow(X_train[0],cmap='gray')\n",
    "\n",
    "# 숫자 1,3을 구분하는 것보다는 바지와 신발을 구분하는 것이 더 복잡할 수 있다.\n",
    "# 어제 작업을 바탕으로 오늘은 이미지 정확도 결과를 97% 이상으로 끌어올리는 것을 목표로 잡자.\n",
    "\n",
    "# 2. 데이타 입력전 전처리과정 ---\n",
    "# 1) 1차원으로 펼치기  2) /255   3)원핫인코딩\n",
    "L,H,W = X_train.shape # 3차원으로 출력된다...60000, 28, 28\n",
    "X_train = X_train.reshape(-1, H*W)\n",
    "X_test = X_test.reshape(-1, H * W)\n",
    "\n",
    "print(X_train.shape, X_test.shape)\n",
    "\n",
    "# 2) 스케일링\n",
    "X_train = X_train/255\n",
    "X_test = X_test/255\n",
    "\n",
    "# print(X_train[0])\n",
    "\n",
    "#3)  one hot encoding\n",
    "Y_train = np_utils.to_categorical(y_train,10)\n",
    "Y_test = np_utils.to_categorical(y_test,10)\n",
    "# print(Y_train[0])\n",
    "# 3. 모델 생성...히든 레이어를 2개만 생성...\n",
    "model = models.Sequential()\n",
    "model.add(layers.Dense(100, activation='relu', input_shape=(W*H,)))\n",
    "model.add(layers.Dropout(0.5))\n",
    "model.add(layers.Dense(50, activation='relu'))\n",
    "model.add(layers.Dropout(0.25))\n",
    "model.add(layers.Dense(10, activation='softmax'))\n",
    "\n",
    "# 4. compile\n",
    "model.compile('sgd', 'categorical_crossentropy','accuracy')\n",
    "\n",
    "# 5. fit\n",
    "model.fit(X_train, Y_train, epochs=20, batch_size=100, validation_split=0.2)\n",
    "\n",
    "# 6. \n",
    "performance = model.evaluate(X_test, Y_test, batch_size=100)"
   ]
  },
  {
   "cell_type": "code",
   "execution_count": 2,
   "metadata": {
    "colab": {
     "base_uri": "https://localhost:8080/"
    },
    "id": "lZQ-zfndCf_X",
    "outputId": "3f436d97-04ba-4d59-84b8-94cdbf223cd2"
   },
   "outputs": [
    {
     "name": "stdout",
     "output_type": "stream",
     "text": [
      "Epoch 1/50\n",
      "480/480 [==============================] - 1s 3ms/step - loss: 0.5341 - accuracy: 0.8121 - val_loss: 0.4240 - val_accuracy: 0.8460\n",
      "Epoch 2/50\n",
      "480/480 [==============================] - 1s 3ms/step - loss: 0.5315 - accuracy: 0.8138 - val_loss: 0.4220 - val_accuracy: 0.8468\n",
      "Epoch 3/50\n",
      "480/480 [==============================] - 1s 3ms/step - loss: 0.5258 - accuracy: 0.8171 - val_loss: 0.4196 - val_accuracy: 0.8486\n",
      "Epoch 4/50\n",
      "480/480 [==============================] - 1s 3ms/step - loss: 0.5167 - accuracy: 0.8201 - val_loss: 0.4167 - val_accuracy: 0.8503\n",
      "Epoch 5/50\n",
      "480/480 [==============================] - 1s 3ms/step - loss: 0.5125 - accuracy: 0.8210 - val_loss: 0.4122 - val_accuracy: 0.8491\n",
      "Epoch 6/50\n",
      "480/480 [==============================] - 1s 3ms/step - loss: 0.5105 - accuracy: 0.8216 - val_loss: 0.4108 - val_accuracy: 0.8498\n",
      "Epoch 7/50\n",
      "480/480 [==============================] - 1s 3ms/step - loss: 0.5051 - accuracy: 0.8242 - val_loss: 0.4100 - val_accuracy: 0.8515\n",
      "Epoch 8/50\n",
      "480/480 [==============================] - 1s 3ms/step - loss: 0.5015 - accuracy: 0.8239 - val_loss: 0.4072 - val_accuracy: 0.8515\n",
      "Epoch 9/50\n",
      "480/480 [==============================] - 1s 3ms/step - loss: 0.4961 - accuracy: 0.8251 - val_loss: 0.4066 - val_accuracy: 0.8521\n",
      "Epoch 10/50\n",
      "480/480 [==============================] - 1s 3ms/step - loss: 0.4963 - accuracy: 0.8274 - val_loss: 0.4039 - val_accuracy: 0.8548\n",
      "Epoch 11/50\n",
      "480/480 [==============================] - 1s 3ms/step - loss: 0.4933 - accuracy: 0.8265 - val_loss: 0.4009 - val_accuracy: 0.8535\n",
      "Epoch 12/50\n",
      "480/480 [==============================] - 1s 3ms/step - loss: 0.4840 - accuracy: 0.8270 - val_loss: 0.3981 - val_accuracy: 0.8559\n",
      "Epoch 13/50\n",
      "480/480 [==============================] - 1s 3ms/step - loss: 0.4875 - accuracy: 0.8311 - val_loss: 0.3979 - val_accuracy: 0.8558\n",
      "Epoch 14/50\n",
      "480/480 [==============================] - 1s 3ms/step - loss: 0.4843 - accuracy: 0.8310 - val_loss: 0.3959 - val_accuracy: 0.8572\n",
      "Epoch 15/50\n",
      "480/480 [==============================] - 1s 3ms/step - loss: 0.4868 - accuracy: 0.8313 - val_loss: 0.3940 - val_accuracy: 0.8568\n",
      "Epoch 16/50\n",
      "480/480 [==============================] - 1s 3ms/step - loss: 0.4784 - accuracy: 0.8345 - val_loss: 0.3934 - val_accuracy: 0.8583\n",
      "Epoch 17/50\n",
      "480/480 [==============================] - 1s 3ms/step - loss: 0.4774 - accuracy: 0.8338 - val_loss: 0.3934 - val_accuracy: 0.8572\n",
      "Epoch 18/50\n",
      "480/480 [==============================] - 1s 3ms/step - loss: 0.4758 - accuracy: 0.8322 - val_loss: 0.3896 - val_accuracy: 0.8585\n",
      "Epoch 19/50\n",
      "480/480 [==============================] - 1s 3ms/step - loss: 0.4739 - accuracy: 0.8349 - val_loss: 0.3910 - val_accuracy: 0.8586\n",
      "Epoch 20/50\n",
      "480/480 [==============================] - 1s 3ms/step - loss: 0.4629 - accuracy: 0.8371 - val_loss: 0.3878 - val_accuracy: 0.8581\n",
      "Epoch 21/50\n",
      "480/480 [==============================] - 1s 3ms/step - loss: 0.4643 - accuracy: 0.8380 - val_loss: 0.3868 - val_accuracy: 0.8601\n",
      "Epoch 22/50\n",
      "480/480 [==============================] - 1s 3ms/step - loss: 0.4650 - accuracy: 0.8382 - val_loss: 0.3844 - val_accuracy: 0.8612\n",
      "Epoch 23/50\n",
      "480/480 [==============================] - 1s 3ms/step - loss: 0.4604 - accuracy: 0.8380 - val_loss: 0.3848 - val_accuracy: 0.8612\n",
      "Epoch 24/50\n",
      "480/480 [==============================] - 1s 3ms/step - loss: 0.4547 - accuracy: 0.8396 - val_loss: 0.3851 - val_accuracy: 0.8607\n",
      "Epoch 25/50\n",
      "480/480 [==============================] - 1s 3ms/step - loss: 0.4583 - accuracy: 0.8399 - val_loss: 0.3818 - val_accuracy: 0.8622\n",
      "Epoch 26/50\n",
      "480/480 [==============================] - 1s 3ms/step - loss: 0.4560 - accuracy: 0.8407 - val_loss: 0.3796 - val_accuracy: 0.8640\n",
      "Epoch 27/50\n",
      "480/480 [==============================] - 1s 3ms/step - loss: 0.4529 - accuracy: 0.8418 - val_loss: 0.3800 - val_accuracy: 0.8616\n",
      "Epoch 28/50\n",
      "480/480 [==============================] - 1s 3ms/step - loss: 0.4518 - accuracy: 0.8411 - val_loss: 0.3801 - val_accuracy: 0.8607\n",
      "Epoch 29/50\n",
      "480/480 [==============================] - 1s 3ms/step - loss: 0.4497 - accuracy: 0.8417 - val_loss: 0.3762 - val_accuracy: 0.8632\n",
      "Epoch 30/50\n",
      "480/480 [==============================] - 1s 3ms/step - loss: 0.4515 - accuracy: 0.8422 - val_loss: 0.3774 - val_accuracy: 0.8620\n",
      "Epoch 31/50\n",
      "480/480 [==============================] - 1s 3ms/step - loss: 0.4492 - accuracy: 0.8420 - val_loss: 0.3791 - val_accuracy: 0.8633\n",
      "Epoch 32/50\n",
      "480/480 [==============================] - 1s 3ms/step - loss: 0.4462 - accuracy: 0.8444 - val_loss: 0.3761 - val_accuracy: 0.8632\n",
      "Epoch 33/50\n",
      "480/480 [==============================] - 1s 3ms/step - loss: 0.4454 - accuracy: 0.8447 - val_loss: 0.3752 - val_accuracy: 0.8648\n",
      "Epoch 34/50\n",
      "480/480 [==============================] - 1s 3ms/step - loss: 0.4453 - accuracy: 0.8438 - val_loss: 0.3724 - val_accuracy: 0.8645\n",
      "Epoch 35/50\n",
      "480/480 [==============================] - 1s 3ms/step - loss: 0.4386 - accuracy: 0.8462 - val_loss: 0.3715 - val_accuracy: 0.8646\n",
      "Epoch 36/50\n",
      "480/480 [==============================] - 1s 3ms/step - loss: 0.4384 - accuracy: 0.8461 - val_loss: 0.3729 - val_accuracy: 0.8652\n",
      "Epoch 37/50\n",
      "480/480 [==============================] - 1s 3ms/step - loss: 0.4369 - accuracy: 0.8464 - val_loss: 0.3701 - val_accuracy: 0.8657\n",
      "Epoch 38/50\n",
      "480/480 [==============================] - 1s 3ms/step - loss: 0.4365 - accuracy: 0.8479 - val_loss: 0.3689 - val_accuracy: 0.8660\n",
      "Epoch 39/50\n",
      "480/480 [==============================] - 1s 3ms/step - loss: 0.4367 - accuracy: 0.8471 - val_loss: 0.3686 - val_accuracy: 0.8661\n",
      "Epoch 40/50\n",
      "480/480 [==============================] - 1s 3ms/step - loss: 0.4321 - accuracy: 0.8480 - val_loss: 0.3685 - val_accuracy: 0.8669\n",
      "Epoch 41/50\n",
      "480/480 [==============================] - 1s 3ms/step - loss: 0.4307 - accuracy: 0.8487 - val_loss: 0.3683 - val_accuracy: 0.8660\n",
      "Epoch 42/50\n",
      "480/480 [==============================] - 1s 3ms/step - loss: 0.4326 - accuracy: 0.8481 - val_loss: 0.3676 - val_accuracy: 0.8662\n",
      "Epoch 43/50\n",
      "480/480 [==============================] - 1s 3ms/step - loss: 0.4264 - accuracy: 0.8483 - val_loss: 0.3658 - val_accuracy: 0.8670\n",
      "Epoch 44/50\n",
      "480/480 [==============================] - 1s 3ms/step - loss: 0.4275 - accuracy: 0.8507 - val_loss: 0.3666 - val_accuracy: 0.8674\n",
      "Epoch 45/50\n",
      "480/480 [==============================] - 1s 3ms/step - loss: 0.4263 - accuracy: 0.8506 - val_loss: 0.3630 - val_accuracy: 0.8689\n",
      "Epoch 46/50\n",
      "480/480 [==============================] - 1s 3ms/step - loss: 0.4228 - accuracy: 0.8502 - val_loss: 0.3632 - val_accuracy: 0.8676\n",
      "Epoch 47/50\n",
      "480/480 [==============================] - 1s 3ms/step - loss: 0.4216 - accuracy: 0.8516 - val_loss: 0.3649 - val_accuracy: 0.8677\n",
      "Epoch 48/50\n",
      "480/480 [==============================] - 1s 3ms/step - loss: 0.4209 - accuracy: 0.8524 - val_loss: 0.3619 - val_accuracy: 0.8685\n",
      "Epoch 49/50\n",
      "480/480 [==============================] - 1s 3ms/step - loss: 0.4220 - accuracy: 0.8524 - val_loss: 0.3614 - val_accuracy: 0.8697\n",
      "Epoch 50/50\n",
      "480/480 [==============================] - 1s 3ms/step - loss: 0.4200 - accuracy: 0.8535 - val_loss: 0.3626 - val_accuracy: 0.8685\n"
     ]
    }
   ],
   "source": [
    "import matplotlib.pyplot as plt\n",
    "\n",
    "def plot_loss(history):\n",
    "  plt.plot(history.history['loss'])\n",
    "  plt.plot(history.history['val_loss'])\n",
    "  plt.title('Model Loss')\n",
    "  plt.ylabel('Loss')\n",
    "  plt.xlabel('Epoch')\n",
    "  plt.legend(['Train','Validation'])\n",
    "\n",
    "def plot_acc(history):\n",
    "  plt.plot(history.history['accuracy'])\n",
    "  plt.plot(history.history['val_accuracy'])\n",
    "  plt.title('Model Accuracy')\n",
    "  plt.ylabel('Accuracy')\n",
    "  plt.xlabel('Epoch')\n",
    "  plt.legend(['Train','Validation'])\n",
    "\n",
    "# fit...학습할때 나오는 로그메세지들을 다 모아서 리턴한다...history\n",
    "history=model.fit(X_train, Y_train,epochs = 50, batch_size = 100, validation_split = 0.2)"
   ]
  },
  {
   "cell_type": "code",
   "execution_count": 3,
   "metadata": {
    "colab": {
     "base_uri": "https://localhost:8080/",
     "height": 295
    },
    "id": "crMUIKfjZzVI",
    "outputId": "a7f1cfc1-dd0a-4dec-9386-2455179db99f"
   },
   "outputs": [
    {
     "data": {
      "image/png": "[encoded data removed]",
      "text/plain": [
       "<Figure size 432x288 with 1 Axes>"
      ]
     },
     "metadata": {
      "needs_background": "light",
      "tags": []
     },
     "output_type": "display_data"
    }
   ],
   "source": [
    "plot_acc(history)"
   ]
  },
  {
   "cell_type": "code",
   "execution_count": 4,
   "metadata": {
    "colab": {
     "base_uri": "https://localhost:8080/",
     "height": 295
    },
    "id": "Nb2U8v45Z0Zu",
    "outputId": "b3b196a7-95cd-4299-cb14-79041f288963"
   },
   "outputs": [
    {
     "data": {
      "image/png": "[encoded data removed]",
      "text/plain": [
       "<Figure size 432x288 with 1 Axes>"
      ]
     },
     "metadata": {
      "needs_background": "light",
      "tags": []
     },
     "output_type": "display_data"
    }
   ],
   "source": [
    "plot_loss(history)"
   ]
  },
  {
   "cell_type": "markdown",
   "metadata": {
    "id": "LXov0oJAOqvd"
   },
   "source": [
    "#다시 이미지 데이터 Plotting 시켜놓기"
   ]
  },
  {
   "cell_type": "code",
   "execution_count": 5,
   "metadata": {
    "colab": {
     "base_uri": "https://localhost:8080/",
     "height": 283
    },
    "id": "pGbL951GCgBa",
    "outputId": "50d83137-7a26-4170-d0b6-93d565653c43"
   },
   "outputs": [
    {
     "data": {
      "text/plain": [
       "<matplotlib.image.AxesImage at 0x7f141019abd0>"
      ]
     },
     "execution_count": 5,
     "metadata": {
      "tags": []
     },
     "output_type": "execute_result"
    },
    {
     "data": {
      "image/png": "[encoded data removed]",
      "text/plain": [
       "<Figure size 432x288 with 1 Axes>"
      ]
     },
     "metadata": {
      "needs_background": "light",
      "tags": []
     },
     "output_type": "display_data"
    }
   ],
   "source": [
    "# 1차원으로 펼친 데이타를 다시 2차원으로 만들어놓아야 한다\n",
    "# plt.imshow(X_train[0],cmap='gray')\n",
    "X_train[0]\n",
    "\n",
    "'''\n",
    "interpolation은 결측값에 대해서 어떤 처리를 해줄지를 지정하는 옵션\n",
    "우리는 지금 이런 옵션이 전혀 필요가 없다.\n",
    "이 데이타는 이미지이기 때문에 누락데이타 있을수 없다. \n",
    "0~255의 값을 가지고 있다.\n",
    "'''\n",
    "# plt.imshow(X_train[0].reshape(28,28), interpolation='none', cmap='gray')\n",
    "# plt.imshow(X_train[100].reshape(28,28), interpolation='none', cmap='gray')\n",
    "# plt.imshow(X_train[1020].reshape(28,28), interpolation='none', cmap='gray')\n",
    "# plt.imshow(X_train[10923].reshape(28,28), interpolation='none', cmap='gray')\n",
    "plt.imshow(X_train[45000].reshape(28,28), interpolation='none', cmap='gray')"
   ]
  },
  {
   "cell_type": "code",
   "execution_count": 6,
   "metadata": {
    "colab": {
     "base_uri": "https://localhost:8080/"
    },
    "id": "ui7fMbNFZ3L0",
    "outputId": "05ecd0ef-cdeb-4530-f784-520f14ffc419"
   },
   "outputs": [
    {
     "name": "stdout",
     "output_type": "stream",
     "text": [
      "Model: \"sequential\"\n",
      "_________________________________________________________________\n",
      "Layer (type)                 Output Shape              Param #   \n",
      "=================================================================\n",
      "dense (Dense)                (None, 100)               78500     \n",
      "_________________________________________________________________\n",
      "dropout (Dropout)            (None, 100)               0         \n",
      "_________________________________________________________________\n",
      "dense_1 (Dense)              (None, 50)                5050      \n",
      "_________________________________________________________________\n",
      "dropout_1 (Dropout)          (None, 50)                0         \n",
      "_________________________________________________________________\n",
      "dense_2 (Dense)              (None, 10)                510       \n",
      "=================================================================\n",
      "Total params: 84,060\n",
      "Trainable params: 84,060\n",
      "Non-trainable params: 0\n",
      "_________________________________________________________________\n"
     ]
    }
   ],
   "source": [
    "model.summary()"
   ]
  },
  {
   "cell_type": "markdown",
   "metadata": {
    "id": "wm9JgPF5Z4WR"
   },
   "source": [
    "#모델 저장"
   ]
  },
  {
   "cell_type": "code",
   "execution_count": 7,
   "metadata": {
    "id": "GdSdxPpICgHW"
   },
   "outputs": [],
   "source": [
    "##############################################\n",
    "##  지금까지 학습한 weight값 저장하기\n",
    "##  hdf5 파일로 저장\n",
    "##############################################\n",
    "\n",
    "model.save('C:\\encore_bjy\\model.h5')"
   ]
  }
 ],
 "metadata": {
  "accelerator": "GPU",
  "colab": {
   "name": "08_DNN_FashionMnist_keras.ipynb",
   "provenance": []
  },
  "kernelspec": {
   "display_name": "Python 3",
   "language": "python",
   "name": "python3"
  },
  "language_info": {
   "codemirror_mode": {
    "name": "ipython",
    "version": 3
   },
   "file_extension": ".py",
   "mimetype": "text/x-python",
   "name": "python",
   "nbconvert_exporter": "python",
   "pygments_lexer": "ipython3",
   "version": "3.8.5"
  }
 },
 "nbformat": 4,
 "nbformat_minor": 1
}
