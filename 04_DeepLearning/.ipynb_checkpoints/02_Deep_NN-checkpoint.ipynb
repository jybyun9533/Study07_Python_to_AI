{
 "cells": [
  {
   "cell_type": "code",
   "execution_count": 1,
   "metadata": {},
   "outputs": [],
   "source": [
    "import torch\n",
    "import torch.nn as nn\n",
    "import numpy as np\n",
    "import matplotlib.pyplot as plt"
   ]
  },
  {
   "cell_type": "markdown",
   "metadata": {},
   "source": [
    "#### Hyper-Parameters"
   ]
  },
  {
   "cell_type": "code",
   "execution_count": 2,
   "metadata": {},
   "outputs": [],
   "source": [
    "input_size = 1 # 1차원 데이터\n",
    "output_size = 1 # 1차원 데이터\n",
    "num_epochs = 200 # 반복 횟수\n",
    "learning_rate = 0.001"
   ]
  },
  {
   "cell_type": "markdown",
   "metadata": {},
   "source": [
    "#### Toy DataSets"
   ]
  },
  {
   "cell_type": "code",
   "execution_count": 3,
   "metadata": {},
   "outputs": [
    {
     "data": {
      "text/plain": [
       "array([[1.7  ],\n",
       "       [2.76 ],\n",
       "       [2.09 ],\n",
       "       [3.19 ],\n",
       "       [1.694],\n",
       "       [1.573],\n",
       "       [3.366],\n",
       "       [2.596],\n",
       "       [2.53 ],\n",
       "       [1.221],\n",
       "       [2.827],\n",
       "       [3.465],\n",
       "       [1.65 ],\n",
       "       [2.904],\n",
       "       [1.3  ]], dtype=float32)"
      ]
     },
     "execution_count": 3,
     "metadata": {},
     "output_type": "execute_result"
    }
   ],
   "source": [
    "x_train = np.array([[3.3], [4.4], [5.5], [6.71], [6.93], [4.168], \n",
    "                    [9.779], [6.182], [7.59], [2.167], [7.042], \n",
    "                    [10.791], [5.313], [7.997], [3.1]], dtype=np.float32)\n",
    "\n",
    "y_train = np.array([[1.7], [2.76], [2.09], [3.19], [1.694], [1.573], \n",
    "                    [3.366], [2.596], [2.53], [1.221], [2.827], \n",
    "                    [3.465], [1.65], [2.904], [1.3]], dtype=np.float32)\n",
    "\n",
    "x_train\n",
    "y_train"
   ]
  },
  {
   "cell_type": "code",
   "execution_count": 4,
   "metadata": {},
   "outputs": [
    {
     "data": {
      "text/plain": [
       "'\\n1. 모델생성\\n2. loss, optimizer 선정의\\n3. 모델에 데이터를 입력하고 그 결과로 예측값을 반환 받는다.\\n4. 예측값이 반환되면 Loss를 알 수 있다.(이때 2번에 미리 정의된 loss함수를 호출)\\n5. loss.backward() --> Loss에 대한 책임을 W에 묻는다() -> 편미분 적용\\n6. 5번의 결과를 가지고 학습을 진행\\n\\n3-6 과정을 총 100번 진행한다. num_epochs = 100\\n'"
      ]
     },
     "execution_count": 4,
     "metadata": {},
     "output_type": "execute_result"
    }
   ],
   "source": [
    "'''\n",
    "1. 모델생성\n",
    "2. loss, optimizer 선정의\n",
    "3. 모델에 데이터를 입력하고 그 결과로 예측값을 반환 받는다.\n",
    "4. 예측값이 반환되면 Loss를 알 수 있다.(이때 2번에 미리 정의된 loss함수를 호출)\n",
    "5. loss.backward() --> Loss에 대한 책임을 W에 묻는다() -> 편미분 적용\n",
    "6. 5번의 결과를 가지고 학습을 진행\n",
    "\n",
    "3-6 과정을 총 100번 진행한다. num_epochs = 100\n",
    "'''"
   ]
  },
  {
   "cell_type": "markdown",
   "metadata": {},
   "source": [
    "#### Linear Regression Model"
   ]
  },
  {
   "cell_type": "code",
   "execution_count": 5,
   "metadata": {},
   "outputs": [],
   "source": [
    "model = nn.Linear(input_size, output_size)"
   ]
  },
  {
   "cell_type": "markdown",
   "metadata": {},
   "source": [
    "#### Loss Function and Optimizer"
   ]
  },
  {
   "cell_type": "code",
   "execution_count": 6,
   "metadata": {},
   "outputs": [],
   "source": [
    "loss_function = nn.MSELoss()\n",
    "optimizer = torch.optim.SGD(model.parameters(), lr=learning_rate)"
   ]
  },
  {
   "cell_type": "markdown",
   "metadata": {},
   "source": [
    "#### Train Model"
   ]
  },
  {
   "cell_type": "code",
   "execution_count": 7,
   "metadata": {},
   "outputs": [
    {
     "ename": "SyntaxError",
     "evalue": "unexpected EOF while parsing (<ipython-input-7-455f624ace56>, line 1)",
     "output_type": "error",
     "traceback": [
      "\u001b[1;36m  File \u001b[1;32m\"<ipython-input-7-455f624ace56>\"\u001b[1;36m, line \u001b[1;32m1\u001b[0m\n\u001b[1;33m    for epoch in range(num_epochs) : # 100번 학습한다.\u001b[0m\n\u001b[1;37m                                                 ^\u001b[0m\n\u001b[1;31mSyntaxError\u001b[0m\u001b[1;31m:\u001b[0m unexpected EOF while parsing\n"
     ]
    }
   ],
   "source": [
    "for epoch in range(num_epochs) : # 100번 학습한다.\n",
    "    # numpy arrays를 torch의 Tensor로 만들어서 머신에 입력해야 함.\n",
    "    inputs = torch.from_numpy(x_train)\n",
    "    targets = torch.from_numpy(y_train)\n",
    "    \n",
    "    # Forward Pass\n",
    "    pred = model(inputs)\n",
    "    loss = loss_function(pred, targets)\n",
    "    \n",
    "    # Backward and Optimizer\n",
    "    optimizer.zero_grad() # 이 부분이 가장 먼저나와야 함.. 초기화\n",
    "    loss.backward()\n",
    "    optimizer.step()\n",
    "    \n",
    "    if(epoch+1)%5 == 0:\n",
    "        print('Epoch[{][]}]')"
   ]
  },
  {
   "cell_type": "markdown",
   "metadata": {},
   "source": [
    "#### Plot the Graph"
   ]
  },
  {
   "cell_type": "code",
   "execution_count": null,
   "metadata": {},
   "outputs": [],
   "source": []
  }
 ],
 "metadata": {
  "kernelspec": {
   "display_name": "Python 3",
   "language": "python",
   "name": "python3"
  },
  "language_info": {
   "codemirror_mode": {
    "name": "ipython",
    "version": 3
   },
   "file_extension": ".py",
   "mimetype": "text/x-python",
   "name": "python",
   "nbconvert_exporter": "python",
   "pygments_lexer": "ipython3",
   "version": "3.8.5"
  }
 },
 "nbformat": 4,
 "nbformat_minor": 4
}
