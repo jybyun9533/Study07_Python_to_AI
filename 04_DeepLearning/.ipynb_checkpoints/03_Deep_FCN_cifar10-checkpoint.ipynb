{
 "cells": [
  {
   "cell_type": "markdown",
   "metadata": {
    "id": "8iaByf-kGdG4"
   },
   "source": [
    "### Colab - 구글에서 제공하는 무료 GPU 서버 + 쥬피터 노트북\n",
    "### 무료 GPU 서버 -  CUDA는 전통적으로 CPU가 처리하던 응용 프로그램 계산을  GPU로 병렬처리 하도록 하는 소프트웨어의 일종\n",
    "### Mvedia에서 제공하는 GPU 소프트웨어. 딥러닝은 거의 다 엠비디아 GPU 사용한다 \n",
    "\n",
    "\n",
    "                 \n",
    "           \n",
    "            \n",
    "            \n"
   ]
  },
  {
   "cell_type": "code",
   "execution_count": null,
   "metadata": {
    "id": "hLaqv0SS-JPn"
   },
   "outputs": [],
   "source": [
    "import torch\n",
    "import torchvision\n",
    "import torch.nn as nn\n",
    "import numpy as np\n",
    "import torchvision.transforms as transforms\n",
    "import matplotlib.pyplot as plt"
   ]
  },
  {
   "cell_type": "markdown",
   "metadata": {
    "id": "GRdkDunN-W2r"
   },
   "source": [
    "### CIFAR10 DataSet Loading and Show Image"
   ]
  },
  {
   "cell_type": "markdown",
   "metadata": {
    "id": "Y9wJGOpeHlKT"
   },
   "source": []
  },
  {
   "cell_type": "code",
   "execution_count": null,
   "metadata": {
    "id": "oeNikPgd-jju"
   },
   "outputs": [],
   "source": [
    "import torch\n",
    "import torch.nn as nn\n",
    "import torchvision\n",
    "import torchvision.transforms as transforms\n",
    "import matplotlib.pyplot as plt\n",
    "\n",
    "train_dataset = torchvision.datasets.CIFAR10(root='../../data/', # 데이타셋이 저장되는 물리적 위치\n",
    "                                             train = True, #train dataset만 \n",
    "                                             transform=transforms.ToTensor(), #중요!!\n",
    "                                             download = True       # 다운로드가 root에 진행됨                       \n",
    "                                            )\n",
    "## 다운로드 된 이미지 실제로 찍어볼수 있다.\n",
    "print(train_dataset[0]) #속성과 함꼐 label\n",
    "image, label = train_dataset[0]\n",
    "\n",
    "print('image 픽셀값 ',image)\n",
    "print('label ',label )\n",
    "\n",
    "print('Image Size ', image.size())\n",
    "\n",
    "image = image.numpy() # 3x 32x32 이렇게 되도록 채널을 뒤로 뺴준다\n",
    "image\n",
    "image = np.moveaxis(image, 0, -1)\n",
    "print(image.shape)\n",
    "\n",
    "plt.imshow(image)"
   ]
  },
  {
   "cell_type": "markdown",
   "metadata": {
    "id": "jKWRWFCnItxQ"
   },
   "source": [
    "CIFAR10 DataSet Loading Using BatchSize"
   ]
  },
  {
   "cell_type": "code",
   "execution_count": null,
   "metadata": {
    "id": "okthoXZrItFn"
   },
   "outputs": [],
   "source": [
    "train_loader = torch.utils.data.DataLoader(dataset=train_dataset,\n",
    "                                           batch_size=64,\n",
    "                                           shuffle=True)\n",
    "\n",
    "cnt = 0\n",
    "for images, labels in train_loader:\n",
    "    '''\n",
    "    이 안에서 실질적으로 어떤 작업이 진행되는가?\n",
    "    model 생성\n",
    "    loss, optimizer 선정의\n",
    "    model 값 입력..예측값 반환\n",
    "    loss 값\n",
    "    backward()\n",
    "    학습을 진행 step()\n",
    "    '''\n",
    "    cnt = cnt+1\n",
    "print('cnt ', cnt)"
   ]
  }
 ],
 "metadata": {
  "accelerator": "GPU",
  "colab": {
   "name": "03_Deep_FCN_cifar10.ipynb",
   "private_outputs": true,
   "provenance": [],
   "toc_visible": true
  },
  "kernelspec": {
   "display_name": "Python 3",
   "language": "python",
   "name": "python3"
  },
  "language_info": {
   "codemirror_mode": {
    "name": "ipython",
    "version": 3
   },
   "file_extension": ".py",
   "mimetype": "text/x-python",
   "name": "python",
   "nbconvert_exporter": "python",
   "pygments_lexer": "ipython3",
   "version": "3.8.5"
  }
 },
 "nbformat": 4,
 "nbformat_minor": 1
}
