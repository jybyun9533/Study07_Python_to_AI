{
 "cells": [
  {
   "cell_type": "markdown",
   "metadata": {
    "id": "HSrDlWG4b1rz"
   },
   "source": [
    "  모델링 순서\n",
    "    1) 데이타셋 생성\n",
    "    2) 시퀀스 모델 생성\n",
    "    3) compile\n",
    "    4) fit()\n",
    "    5) predict()\n",
    "    6) evaluate()\n",
    "\n"
   ]
  },
  {
   "cell_type": "code",
   "execution_count": 2,
   "metadata": {
    "id": "sWN5D863Ya7m"
   },
   "outputs": [
    {
     "name": "stdout",
     "output_type": "stream",
     "text": [
      "Downloading data from https://storage.googleapis.com/tensorflow/tf-keras-datasets/mnist.npz\n",
      "11493376/11490434 [==============================] - 1s 0us/step\n"
     ]
    }
   ],
   "source": [
    "import numpy as np\n",
    "from keras import datasets\n",
    "from keras import models, layers\n",
    "from keras.utils import np_utils\n",
    "import tensorflow as tf\n",
    "from tensorflow import keras\n",
    "\n",
    "\n",
    "# 1. DataLoader\n",
    "(X_train, y_train),(X_test, y_test)=keras.datasets.mnist.load_data()"
   ]
  },
  {
   "cell_type": "code",
   "execution_count": null,
   "metadata": {
    "colab": {
     "base_uri": "https://localhost:8080/"
    },
    "id": "MTvATon7dhvW",
    "outputId": "f0068272-e4a7-4f80-a830-764f0d2b6327"
   },
   "outputs": [
    {
     "name": "stdout",
     "output_type": "stream",
     "text": [
      "[[  0   0   0   0   0   0   0   0   0   0   0   0   0   0   0   0   0   0\n",
      "    0   0   0   0   0   0   0   0   0   0]\n",
      " [  0   0   0   0   0   0   0   0   0   0   0   0   0   0   0   0   0   0\n",
      "    0   0   0   0   0   0   0   0   0   0]\n",
      " [  0   0   0   0   0   0   0   0   0   0   0   0   0   0   0   0   0   0\n",
      "    0   0   0   0   0   0   0   0   0   0]\n",
      " [  0   0   0   0   0   0   0   0   0   0   0   0   0   0   0   0   0   0\n",
      "    0   0   0   0   0   0   0   0   0   0]\n",
      " [  0   0   0   0   0   0   0   0   0   0   0  29 197 255  84   0   0   0\n",
      "    0   0   0   0   0   0   0   0   0   0]\n",
      " [  0   0   0   0   0   0   0   0   0   0   0  85 251 253  83   0   0   0\n",
      "    0   0   0   0   0   0   0   0   0   0]\n",
      " [  0   0   0   0   0   0   0   0   0   0   0  86 253 254 253   0   0   0\n",
      "    0   0   0   0   0   0   0   0   0   0]\n",
      " [  0   0   0   0   0   0   0   0   0   0   0  85 251 253 251   0   0   0\n",
      "    0   0   0   0   0   0   0   0   0   0]\n",
      " [  0   0   0   0   0   0   0   0   0   0   0  86 253 254 253 169   0   0\n",
      "    0   0   0   0   0   0   0   0   0   0]\n",
      " [  0   0   0   0   0   0   0   0   0   0   0  85 251 253 251 168   0   0\n",
      "    0   0   0   0   0   0   0   0   0   0]\n",
      " [  0   0   0   0   0   0   0   0   0   0   0  86 253 254 253 169   0   0\n",
      "    0   0   0   0   0   0   0   0   0   0]\n",
      " [  0   0   0   0   0   0   0   0   0   0   0  28 196 253 251 168   0   0\n",
      "    0   0   0   0   0   0   0   0   0   0]\n",
      " [  0   0   0   0   0   0   0   0   0   0   0   0 169 254 253 169   0   0\n",
      "    0   0   0   0   0   0   0   0   0   0]\n",
      " [  0   0   0   0   0   0   0   0   0   0   0   0 168 253 251 168   0   0\n",
      "    0   0   0   0   0   0   0   0   0   0]\n",
      " [  0   0   0   0   0   0   0   0   0   0   0   0 169 254 253 169   0   0\n",
      "    0   0   0   0   0   0   0   0   0   0]\n",
      " [  0   0   0   0   0   0   0   0   0   0   0   0 168 253 251 168   0   0\n",
      "    0   0   0   0   0   0   0   0   0   0]\n",
      " [  0   0   0   0   0   0   0   0   0   0   0   0   0 254 253 254 139   0\n",
      "    0   0   0   0   0   0   0   0   0   0]\n",
      " [  0   0   0   0   0   0   0   0   0   0   0   0   0 253 251 253 251   0\n",
      "    0   0   0   0   0   0   0   0   0   0]\n",
      " [  0   0   0   0   0   0   0   0   0   0   0   0   0 254 253 254 253  57\n",
      "    0   0   0   0   0   0   0   0   0   0]\n",
      " [  0   0   0   0   0   0   0   0   0   0   0   0   0 253 251 253 251 168\n",
      "    0   0   0   0   0   0   0   0   0   0]\n",
      " [  0   0   0   0   0   0   0   0   0   0   0   0   0 198 253 254 253 114\n",
      "    0   0   0   0   0   0   0   0   0   0]\n",
      " [  0   0   0   0   0   0   0   0   0   0   0   0   0  85 251 253 251   0\n",
      "    0   0   0   0   0   0   0   0   0   0]\n",
      " [  0   0   0   0   0   0   0   0   0   0   0   0   0  85 253 254 253   0\n",
      "    0   0   0   0   0   0   0   0   0   0]\n",
      " [  0   0   0   0   0   0   0   0   0   0   0   0   0  28  83 196  83   0\n",
      "    0   0   0   0   0   0   0   0   0   0]\n",
      " [  0   0   0   0   0   0   0   0   0   0   0   0   0   0   0   0   0   0\n",
      "    0   0   0   0   0   0   0   0   0   0]\n",
      " [  0   0   0   0   0   0   0   0   0   0   0   0   0   0   0   0   0   0\n",
      "    0   0   0   0   0   0   0   0   0   0]\n",
      " [  0   0   0   0   0   0   0   0   0   0   0   0   0   0   0   0   0   0\n",
      "    0   0   0   0   0   0   0   0   0   0]\n",
      " [  0   0   0   0   0   0   0   0   0   0   0   0   0   0   0   0   0   0\n",
      "    0   0   0   0   0   0   0   0   0   0]]\n",
      "1\n"
     ]
    }
   ],
   "source": [
    "print(X_train[200])\n",
    "print(y_train[200])"
   ]
  },
  {
   "cell_type": "markdown",
   "metadata": {
    "id": "si0yNHZUd5vF"
   },
   "source": [
    "모델에 데이타 입력하기 전에\n",
    "1) 255로 나누고 / 2)한줄로 데이타를 펼쳐서 입력"
   ]
  },
  {
   "cell_type": "code",
   "execution_count": 3,
   "metadata": {
    "colab": {
     "base_uri": "https://localhost:8080/"
    },
    "id": "FpyP4I5EfDo4",
    "outputId": "38197c3b-1280-4052-8366-74abeba09f95"
   },
   "outputs": [
    {
     "name": "stdout",
     "output_type": "stream",
     "text": [
      "(60000, 28, 28)\n"
     ]
    }
   ],
   "source": [
    "print(X_train.shape)\n",
    "# L, H, W=X_train.shape\n",
    "\n",
    "# # 1) 1차원으로 들리는 과정\n",
    "# X_train = X_train.reshape(-1, H * W)\n",
    "# X_test = X_test.reshape(-1, H * W)\n",
    "\n",
    "# print(X_train.shape)\n",
    "# print(X_test.shape)\n",
    "\n",
    "# # 2) 255로 나눈다\n",
    "# X_train = X_train/255\n",
    "# X_test = X_test/255\n",
    "\n",
    "# # print(X_train[0])\n",
    "\n",
    "# # 3) y값 전처리하기...One Hot Encoding\n",
    "# Y_train=np_utils.to_categorical(y_train) #앞 문자를 대문자로 바꿨다..전처리 했다.\n",
    "# Y_test = np_utils.to_categorical(y_test)\n",
    "\n",
    "# print(Y_train[0])\n",
    "\n"
   ]
  },
  {
   "cell_type": "markdown",
   "metadata": {
    "id": "HNEbpChZiix2"
   },
   "source": [
    "하이퍼파라미터 지정한후 모델 생성"
   ]
  },
  {
   "cell_type": "code",
   "execution_count": null,
   "metadata": {
    "colab": {
     "base_uri": "https://localhost:8080/"
    },
    "id": "8N1ukkAeiqXH",
    "outputId": "eaca7251-05bd-4f98-8e42-b991bfec61f1"
   },
   "outputs": [
    {
     "name": "stdout",
     "output_type": "stream",
     "text": [
      "Epoch 1/10\n",
      "480/480 [==============================] - 15s 3ms/step - loss: 1.6359 - accuracy: 0.5287 - val_loss: 0.6434 - val_accuracy: 0.8568\n",
      "Epoch 2/10\n",
      "480/480 [==============================] - 1s 3ms/step - loss: 0.6175 - accuracy: 0.8503 - val_loss: 0.4522 - val_accuracy: 0.8856\n",
      "Epoch 3/10\n",
      "480/480 [==============================] - 1s 3ms/step - loss: 0.4705 - accuracy: 0.8777 - val_loss: 0.3871 - val_accuracy: 0.8976\n",
      "Epoch 4/10\n",
      "480/480 [==============================] - 1s 2ms/step - loss: 0.4101 - accuracy: 0.8863 - val_loss: 0.3539 - val_accuracy: 0.9036\n",
      "Epoch 5/10\n",
      "480/480 [==============================] - 1s 3ms/step - loss: 0.3767 - accuracy: 0.8955 - val_loss: 0.3321 - val_accuracy: 0.9098\n",
      "Epoch 6/10\n",
      "480/480 [==============================] - 1s 2ms/step - loss: 0.3507 - accuracy: 0.9029 - val_loss: 0.3162 - val_accuracy: 0.9123\n",
      "Epoch 7/10\n",
      "480/480 [==============================] - 1s 3ms/step - loss: 0.3382 - accuracy: 0.9058 - val_loss: 0.3037 - val_accuracy: 0.9157\n",
      "Epoch 8/10\n",
      "480/480 [==============================] - 1s 2ms/step - loss: 0.3274 - accuracy: 0.9077 - val_loss: 0.2931 - val_accuracy: 0.9182\n",
      "Epoch 9/10\n",
      "480/480 [==============================] - 1s 2ms/step - loss: 0.3078 - accuracy: 0.9140 - val_loss: 0.2846 - val_accuracy: 0.9201\n",
      "Epoch 10/10\n",
      "480/480 [==============================] - 1s 2ms/step - loss: 0.2908 - accuracy: 0.9178 - val_loss: 0.2764 - val_accuracy: 0.9230\n"
     ]
    },
    {
     "data": {
      "text/plain": [
       "<keras.callbacks.History at 0x7f8ff02dd3d0>"
      ]
     },
     "execution_count": 23,
     "metadata": {
      "tags": []
     },
     "output_type": "execute_result"
    }
   ],
   "source": [
    "input = 28*28\n",
    "unit = 100\n",
    "numClasses = 10\n",
    "epochs = 10\n",
    "bSize = 100\n",
    "\n",
    "# 모델생성\n",
    "model = models.Sequential()\n",
    "model.add(layers.Dense(unit, activation='relu',input_shape=(input,)))\n",
    "model.add(layers.Dense(numClasses,activation='softmax'))\n",
    "\n",
    "# compile\n",
    "model.compile(\"sgd\", \"categorical_crossentropy\",\"accuracy\")\n",
    "\n",
    "# fit\n",
    "model.fit(X_train, Y_train,epochs = 10, batch_size = bSize, validation_split = 0.2)"
   ]
  },
  {
   "cell_type": "code",
   "execution_count": null,
   "metadata": {
    "colab": {
     "base_uri": "https://localhost:8080/"
    },
    "id": "UzA-PFrulovl",
    "outputId": "d248fcdd-659d-42ee-9048-69f66d078180"
   },
   "outputs": [
    {
     "name": "stdout",
     "output_type": "stream",
     "text": [
      "100/100 [==============================] - 0s 2ms/step - loss: 0.2769 - accuracy: 0.9218\n",
      "Loss:0.27687686681747437, Accuracy:0.9218000173568726\n"
     ]
    }
   ],
   "source": [
    "# Evaluation\n",
    "model_performance = model.evaluate(X_test, Y_test, batch_size=bSize)\n",
    "print('Loss:{}, Accuracy:{}'.format(*model_performance))"
   ]
  },
  {
   "cell_type": "markdown",
   "metadata": {
    "id": "vFZtdSrbmhqv"
   },
   "source": [
    "# 시각화"
   ]
  },
  {
   "cell_type": "code",
   "execution_count": null,
   "metadata": {
    "colab": {
     "base_uri": "https://localhost:8080/"
    },
    "id": "qVCt2ImJmohb",
    "outputId": "f0e1dab3-0ff9-46fd-be43-3c91e2d766da"
   },
   "outputs": [
    {
     "name": "stdout",
     "output_type": "stream",
     "text": [
      "Epoch 1/50\n",
      "480/480 [==============================] - 1s 3ms/step - loss: 0.2868 - accuracy: 0.9193 - val_loss: 0.2686 - val_accuracy: 0.9253\n",
      "Epoch 2/50\n",
      "480/480 [==============================] - 1s 2ms/step - loss: 0.2787 - accuracy: 0.9223 - val_loss: 0.2621 - val_accuracy: 0.9268\n",
      "Epoch 3/50\n",
      "480/480 [==============================] - 1s 2ms/step - loss: 0.2710 - accuracy: 0.9245 - val_loss: 0.2563 - val_accuracy: 0.9277\n",
      "Epoch 4/50\n",
      "480/480 [==============================] - 1s 2ms/step - loss: 0.2638 - accuracy: 0.9265 - val_loss: 0.2498 - val_accuracy: 0.9306\n",
      "Epoch 5/50\n",
      "480/480 [==============================] - 1s 3ms/step - loss: 0.2570 - accuracy: 0.9288 - val_loss: 0.2455 - val_accuracy: 0.9309\n",
      "Epoch 6/50\n",
      "480/480 [==============================] - 1s 3ms/step - loss: 0.2507 - accuracy: 0.9307 - val_loss: 0.2395 - val_accuracy: 0.9336\n",
      "Epoch 7/50\n",
      "480/480 [==============================] - 1s 2ms/step - loss: 0.2449 - accuracy: 0.9319 - val_loss: 0.2346 - val_accuracy: 0.9349\n",
      "Epoch 8/50\n",
      "480/480 [==============================] - 1s 2ms/step - loss: 0.2391 - accuracy: 0.9337 - val_loss: 0.2302 - val_accuracy: 0.9357\n",
      "Epoch 9/50\n",
      "480/480 [==============================] - 1s 2ms/step - loss: 0.2338 - accuracy: 0.9349 - val_loss: 0.2256 - val_accuracy: 0.9369\n",
      "Epoch 10/50\n",
      "480/480 [==============================] - 1s 3ms/step - loss: 0.2287 - accuracy: 0.9364 - val_loss: 0.2214 - val_accuracy: 0.9397\n",
      "Epoch 11/50\n",
      "480/480 [==============================] - 1s 3ms/step - loss: 0.2238 - accuracy: 0.9375 - val_loss: 0.2179 - val_accuracy: 0.9397\n",
      "Epoch 12/50\n",
      "480/480 [==============================] - 1s 3ms/step - loss: 0.2190 - accuracy: 0.9387 - val_loss: 0.2141 - val_accuracy: 0.9413\n",
      "Epoch 13/50\n",
      "480/480 [==============================] - 1s 2ms/step - loss: 0.2145 - accuracy: 0.9403 - val_loss: 0.2102 - val_accuracy: 0.9428\n",
      "Epoch 14/50\n",
      "480/480 [==============================] - 1s 2ms/step - loss: 0.2102 - accuracy: 0.9416 - val_loss: 0.2065 - val_accuracy: 0.9439\n",
      "Epoch 15/50\n",
      "480/480 [==============================] - 1s 2ms/step - loss: 0.2061 - accuracy: 0.9425 - val_loss: 0.2032 - val_accuracy: 0.9452\n",
      "Epoch 16/50\n",
      "480/480 [==============================] - 1s 3ms/step - loss: 0.2020 - accuracy: 0.9439 - val_loss: 0.1999 - val_accuracy: 0.9468\n",
      "Epoch 17/50\n",
      "480/480 [==============================] - 1s 3ms/step - loss: 0.1983 - accuracy: 0.9445 - val_loss: 0.1967 - val_accuracy: 0.9473\n",
      "Epoch 18/50\n",
      "480/480 [==============================] - 1s 3ms/step - loss: 0.1946 - accuracy: 0.9461 - val_loss: 0.1942 - val_accuracy: 0.9473\n",
      "Epoch 19/50\n",
      "480/480 [==============================] - 1s 3ms/step - loss: 0.1911 - accuracy: 0.9471 - val_loss: 0.1914 - val_accuracy: 0.9491\n",
      "Epoch 20/50\n",
      "480/480 [==============================] - 1s 3ms/step - loss: 0.1877 - accuracy: 0.9479 - val_loss: 0.1889 - val_accuracy: 0.9492\n",
      "Epoch 21/50\n",
      "480/480 [==============================] - 1s 2ms/step - loss: 0.1843 - accuracy: 0.9489 - val_loss: 0.1864 - val_accuracy: 0.9498\n",
      "Epoch 22/50\n",
      "480/480 [==============================] - 1s 3ms/step - loss: 0.1812 - accuracy: 0.9495 - val_loss: 0.1834 - val_accuracy: 0.9513\n",
      "Epoch 23/50\n",
      "480/480 [==============================] - 1s 2ms/step - loss: 0.1781 - accuracy: 0.9505 - val_loss: 0.1818 - val_accuracy: 0.9509\n",
      "Epoch 24/50\n",
      "480/480 [==============================] - 1s 3ms/step - loss: 0.1752 - accuracy: 0.9514 - val_loss: 0.1797 - val_accuracy: 0.9517\n",
      "Epoch 25/50\n",
      "480/480 [==============================] - 1s 2ms/step - loss: 0.1725 - accuracy: 0.9519 - val_loss: 0.1773 - val_accuracy: 0.9531\n",
      "Epoch 26/50\n",
      "480/480 [==============================] - 1s 3ms/step - loss: 0.1697 - accuracy: 0.9525 - val_loss: 0.1755 - val_accuracy: 0.9525\n",
      "Epoch 27/50\n",
      "480/480 [==============================] - 1s 2ms/step - loss: 0.1671 - accuracy: 0.9533 - val_loss: 0.1730 - val_accuracy: 0.9544\n",
      "Epoch 28/50\n",
      "480/480 [==============================] - 1s 3ms/step - loss: 0.1645 - accuracy: 0.9540 - val_loss: 0.1705 - val_accuracy: 0.9555\n",
      "Epoch 29/50\n",
      "480/480 [==============================] - 1s 3ms/step - loss: 0.1620 - accuracy: 0.9549 - val_loss: 0.1694 - val_accuracy: 0.9548\n",
      "Epoch 30/50\n",
      "480/480 [==============================] - 1s 3ms/step - loss: 0.1597 - accuracy: 0.9557 - val_loss: 0.1671 - val_accuracy: 0.9560\n",
      "Epoch 31/50\n",
      "480/480 [==============================] - 1s 2ms/step - loss: 0.1572 - accuracy: 0.9561 - val_loss: 0.1659 - val_accuracy: 0.9565\n",
      "Epoch 32/50\n",
      "480/480 [==============================] - 1s 3ms/step - loss: 0.1551 - accuracy: 0.9569 - val_loss: 0.1638 - val_accuracy: 0.9566\n",
      "Epoch 33/50\n",
      "480/480 [==============================] - 1s 3ms/step - loss: 0.1528 - accuracy: 0.9575 - val_loss: 0.1623 - val_accuracy: 0.9567\n",
      "Epoch 34/50\n",
      "480/480 [==============================] - 1s 2ms/step - loss: 0.1508 - accuracy: 0.9576 - val_loss: 0.1605 - val_accuracy: 0.9576\n",
      "Epoch 35/50\n",
      "480/480 [==============================] - 1s 3ms/step - loss: 0.1486 - accuracy: 0.9583 - val_loss: 0.1588 - val_accuracy: 0.9578\n",
      "Epoch 36/50\n",
      "480/480 [==============================] - 1s 3ms/step - loss: 0.1467 - accuracy: 0.9593 - val_loss: 0.1575 - val_accuracy: 0.9582\n",
      "Epoch 37/50\n",
      "480/480 [==============================] - 1s 2ms/step - loss: 0.1446 - accuracy: 0.9596 - val_loss: 0.1567 - val_accuracy: 0.9585\n",
      "Epoch 38/50\n",
      "480/480 [==============================] - 1s 3ms/step - loss: 0.1427 - accuracy: 0.9603 - val_loss: 0.1544 - val_accuracy: 0.9592\n",
      "Epoch 39/50\n",
      "480/480 [==============================] - 1s 3ms/step - loss: 0.1408 - accuracy: 0.9606 - val_loss: 0.1528 - val_accuracy: 0.9592\n",
      "Epoch 40/50\n",
      "480/480 [==============================] - 1s 3ms/step - loss: 0.1392 - accuracy: 0.9612 - val_loss: 0.1516 - val_accuracy: 0.9592\n",
      "Epoch 41/50\n",
      "480/480 [==============================] - 1s 2ms/step - loss: 0.1373 - accuracy: 0.9618 - val_loss: 0.1506 - val_accuracy: 0.9596\n",
      "Epoch 42/50\n",
      "480/480 [==============================] - 1s 3ms/step - loss: 0.1356 - accuracy: 0.9626 - val_loss: 0.1492 - val_accuracy: 0.9597\n",
      "Epoch 43/50\n",
      "480/480 [==============================] - 1s 2ms/step - loss: 0.1339 - accuracy: 0.9628 - val_loss: 0.1479 - val_accuracy: 0.9601\n",
      "Epoch 44/50\n",
      "480/480 [==============================] - 1s 3ms/step - loss: 0.1323 - accuracy: 0.9636 - val_loss: 0.1470 - val_accuracy: 0.9606\n",
      "Epoch 45/50\n",
      "480/480 [==============================] - 1s 2ms/step - loss: 0.1308 - accuracy: 0.9642 - val_loss: 0.1456 - val_accuracy: 0.9604\n",
      "Epoch 46/50\n",
      "480/480 [==============================] - 1s 3ms/step - loss: 0.1291 - accuracy: 0.9643 - val_loss: 0.1445 - val_accuracy: 0.9609\n",
      "Epoch 47/50\n",
      "480/480 [==============================] - 1s 2ms/step - loss: 0.1277 - accuracy: 0.9647 - val_loss: 0.1433 - val_accuracy: 0.9612\n",
      "Epoch 48/50\n",
      "480/480 [==============================] - 1s 2ms/step - loss: 0.1262 - accuracy: 0.9653 - val_loss: 0.1423 - val_accuracy: 0.9614\n",
      "Epoch 49/50\n",
      "480/480 [==============================] - 1s 2ms/step - loss: 0.1246 - accuracy: 0.9652 - val_loss: 0.1410 - val_accuracy: 0.9616\n",
      "Epoch 50/50\n",
      "480/480 [==============================] - 1s 2ms/step - loss: 0.1233 - accuracy: 0.9660 - val_loss: 0.1402 - val_accuracy: 0.9614\n"
     ]
    }
   ],
   "source": [
    "import matplotlib.pyplot as plt\n",
    "\n",
    "def plot_loss(history):\n",
    "  plt.plot(history.history['loss'])\n",
    "  plt.plot(history.history['val_loss'])\n",
    "  plt.title('Model Loss')\n",
    "  plt.ylabel('Loss')\n",
    "  plt.xlabel('Epoch')\n",
    "  plt.legend(['Train','Validation'])\n",
    "\n",
    "def plot_acc(history):\n",
    "  plt.plot(history.history['accuracy'])\n",
    "  plt.plot(history.history['val_accuracy'])\n",
    "  plt.title('Model Accuracy')\n",
    "  plt.ylabel('Accuracy')\n",
    "  plt.xlabel('Epoch')\n",
    "  plt.legend(['Train','Validation'])\n",
    "\n",
    "# fit...학습할때 나오는 로그메세지들을 다 모아서 리턴한다...history\n",
    "history=model.fit(X_train, Y_train,epochs = 50, batch_size = bSize, validation_split = 0.2)"
   ]
  },
  {
   "cell_type": "code",
   "execution_count": null,
   "metadata": {
    "colab": {
     "base_uri": "https://localhost:8080/",
     "height": 295
    },
    "id": "vgmE_uLTmo5N",
    "outputId": "821ad161-732e-4710-9aa5-0ab2dff55199"
   },
   "outputs": [
    {
     "data": {
      "image/png": "[encoded data removed]",
      "text/plain": [
       "<Figure size 432x288 with 1 Axes>"
      ]
     },
     "metadata": {
      "needs_background": "light",
      "tags": []
     },
     "output_type": "display_data"
    }
   ],
   "source": [
    "plot_loss(history)\n"
   ]
  },
  {
   "cell_type": "code",
   "execution_count": null,
   "metadata": {
    "colab": {
     "base_uri": "https://localhost:8080/",
     "height": 295
    },
    "id": "SNHh8seeovTC",
    "outputId": "d50fb0f9-370a-41b6-9b96-100a452c0f5e"
   },
   "outputs": [
    {
     "data": {
      "image/png": "[encoded data removed]",
      "text/plain": [
       "<Figure size 432x288 with 1 Axes>"
      ]
     },
     "metadata": {
      "needs_background": "light",
      "tags": []
     },
     "output_type": "display_data"
    }
   ],
   "source": [
    "plot_acc(history)"
   ]
  },
  {
   "cell_type": "code",
   "execution_count": null,
   "metadata": {
    "id": "dmSArCIXmo8E"
   },
   "outputs": [],
   "source": []
  }
 ],
 "metadata": {
  "accelerator": "GPU",
  "colab": {
   "name": "07_ANN_MNIST_keras.ipynb",
   "provenance": []
  },
  "kernelspec": {
   "display_name": "Python 3",
   "language": "python",
   "name": "python3"
  },
  "language_info": {
   "codemirror_mode": {
    "name": "ipython",
    "version": 3
   },
   "file_extension": ".py",
   "mimetype": "text/x-python",
   "name": "python",
   "nbconvert_exporter": "python",
   "pygments_lexer": "ipython3",
   "version": "3.8.5"
  }
 },
 "nbformat": 4,
 "nbformat_minor": 1
}
