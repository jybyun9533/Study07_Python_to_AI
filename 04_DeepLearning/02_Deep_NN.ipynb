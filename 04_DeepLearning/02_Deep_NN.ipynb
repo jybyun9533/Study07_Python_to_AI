{
 "cells": [
  {
   "cell_type": "code",
   "execution_count": 1,
   "metadata": {},
   "outputs": [],
   "source": [
    "import torch\n",
    "import torch.nn as nn\n",
    "import numpy as np\n",
    "import matplotlib.pyplot as plt"
   ]
  },
  {
   "cell_type": "markdown",
   "metadata": {},
   "source": [
    "#### Hyper-Parameters"
   ]
  },
  {
   "cell_type": "code",
   "execution_count": 2,
   "metadata": {},
   "outputs": [],
   "source": [
    "input_size = 1 # 1차원 데이터\n",
    "output_size = 1 # 1차원 데이터\n",
    "num_epochs = 200 # 반복 횟수\n",
    "learning_rate = 0.001"
   ]
  },
  {
   "cell_type": "markdown",
   "metadata": {},
   "source": [
    "#### Toy DataSets"
   ]
  },
  {
   "cell_type": "code",
   "execution_count": 3,
   "metadata": {},
   "outputs": [
    {
     "data": {
      "text/plain": [
       "array([[1.7  ],\n",
       "       [2.76 ],\n",
       "       [2.09 ],\n",
       "       [3.19 ],\n",
       "       [1.694],\n",
       "       [1.573],\n",
       "       [3.366],\n",
       "       [2.596],\n",
       "       [2.53 ],\n",
       "       [1.221],\n",
       "       [2.827],\n",
       "       [3.465],\n",
       "       [1.65 ],\n",
       "       [2.904],\n",
       "       [1.3  ]], dtype=float32)"
      ]
     },
     "execution_count": 3,
     "metadata": {},
     "output_type": "execute_result"
    }
   ],
   "source": [
    "x_train = np.array([[3.3], [4.4], [5.5], [6.71], [6.93], [4.168], \n",
    "                    [9.779], [6.182], [7.59], [2.167], [7.042], \n",
    "                    [10.791], [5.313], [7.997], [3.1]], dtype=np.float32)\n",
    "\n",
    "y_train = np.array([[1.7], [2.76], [2.09], [3.19], [1.694], [1.573], \n",
    "                    [3.366], [2.596], [2.53], [1.221], [2.827], \n",
    "                    [3.465], [1.65], [2.904], [1.3]], dtype=np.float32)\n",
    "\n",
    "x_train\n",
    "y_train"
   ]
  },
  {
   "cell_type": "code",
   "execution_count": 4,
   "metadata": {},
   "outputs": [
    {
     "data": {
      "text/plain": [
       "'\\n1. 모델생성\\n2. loss, optimizer 선정의\\n3. 모델에 데이터를 입력하고 그 결과로 예측값을 반환 받는다.\\n4. 예측값이 반환되면 Loss를 알 수 있다.(이때 2번에 미리 정의된 loss함수를 호출)\\n5. loss.backward() --> Loss에 대한 책임을 W에 묻는다() -> 편미분 적용\\n6. 5번의 결과를 가지고 학습을 진행\\n\\n3-6 과정을 총 100번 진행한다. num_epochs = 100\\n'"
      ]
     },
     "execution_count": 4,
     "metadata": {},
     "output_type": "execute_result"
    }
   ],
   "source": [
    "'''\n",
    "1. 모델생성\n",
    "2. loss, optimizer 선정의\n",
    "3. 모델에 데이터를 입력하고 그 결과로 예측값을 반환 받는다.\n",
    "4. 예측값이 반환되면 Loss를 알 수 있다.(이때 2번에 미리 정의된 loss함수를 호출)\n",
    "5. loss.backward() --> Loss에 대한 책임을 W에 묻는다() -> 편미분 적용\n",
    "6. 5번의 결과를 가지고 학습을 진행\n",
    "\n",
    "3-6 과정을 총 100번 진행한다. num_epochs = 100\n",
    "'''"
   ]
  },
  {
   "cell_type": "markdown",
   "metadata": {},
   "source": [
    "#### Linear Regression Model"
   ]
  },
  {
   "cell_type": "code",
   "execution_count": 5,
   "metadata": {},
   "outputs": [],
   "source": [
    "model = nn.Linear(input_size, output_size)"
   ]
  },
  {
   "cell_type": "markdown",
   "metadata": {},
   "source": [
    "#### Loss Function and Optimizer"
   ]
  },
  {
   "cell_type": "code",
   "execution_count": 6,
   "metadata": {},
   "outputs": [],
   "source": [
    "loss_function = nn.MSELoss()\n",
    "optimizer = torch.optim.SGD(model.parameters(), lr=learning_rate)"
   ]
  },
  {
   "cell_type": "markdown",
   "metadata": {},
   "source": [
    "#### Train Model"
   ]
  },
  {
   "cell_type": "code",
   "execution_count": 7,
   "metadata": {},
   "outputs": [
    {
     "name": "stdout",
     "output_type": "stream",
     "text": [
      "Epoch[5/200], Loss:0.7261\n",
      "Epoch[10/200], Loss:0.3963\n",
      "Epoch[15/200], Loss:0.2626\n",
      "Epoch[20/200], Loss:0.2085\n",
      "Epoch[25/200], Loss:0.1866\n",
      "Epoch[30/200], Loss:0.1777\n",
      "Epoch[35/200], Loss:0.1741\n",
      "Epoch[40/200], Loss:0.1726\n",
      "Epoch[45/200], Loss:0.1720\n",
      "Epoch[50/200], Loss:0.1718\n",
      "Epoch[55/200], Loss:0.1717\n",
      "Epoch[60/200], Loss:0.1716\n",
      "Epoch[65/200], Loss:0.1716\n",
      "Epoch[70/200], Loss:0.1716\n",
      "Epoch[75/200], Loss:0.1716\n",
      "Epoch[80/200], Loss:0.1716\n",
      "Epoch[85/200], Loss:0.1715\n",
      "Epoch[90/200], Loss:0.1715\n",
      "Epoch[95/200], Loss:0.1715\n",
      "Epoch[100/200], Loss:0.1715\n",
      "Epoch[105/200], Loss:0.1715\n",
      "Epoch[110/200], Loss:0.1715\n",
      "Epoch[115/200], Loss:0.1715\n",
      "Epoch[120/200], Loss:0.1715\n",
      "Epoch[125/200], Loss:0.1715\n",
      "Epoch[130/200], Loss:0.1715\n",
      "Epoch[135/200], Loss:0.1715\n",
      "Epoch[140/200], Loss:0.1715\n",
      "Epoch[145/200], Loss:0.1715\n",
      "Epoch[150/200], Loss:0.1715\n",
      "Epoch[155/200], Loss:0.1715\n",
      "Epoch[160/200], Loss:0.1714\n",
      "Epoch[165/200], Loss:0.1714\n",
      "Epoch[170/200], Loss:0.1714\n",
      "Epoch[175/200], Loss:0.1714\n",
      "Epoch[180/200], Loss:0.1714\n",
      "Epoch[185/200], Loss:0.1714\n",
      "Epoch[190/200], Loss:0.1714\n",
      "Epoch[195/200], Loss:0.1714\n",
      "Epoch[200/200], Loss:0.1714\n"
     ]
    }
   ],
   "source": [
    "for epoch in range(num_epochs) : # 100번 학습한다.\n",
    "    # numpy arrays를 torch의 Tensor로 만들어서 머신에 입력해야 함.\n",
    "    inputs = torch.from_numpy(x_train)\n",
    "    targets = torch.from_numpy(y_train)\n",
    "    \n",
    "    # Forward Pass\n",
    "    pred = model(inputs)\n",
    "    loss = loss_function(pred, targets)\n",
    "    \n",
    "    # Backward and Optimizer\n",
    "    optimizer.zero_grad() # 이 부분이 가장 먼저나와야 함.. 초기화\n",
    "    loss.backward()\n",
    "    optimizer.step()\n",
    "    \n",
    "    if(epoch+1)%5 == 0:\n",
    "        print('Epoch[{}/{}], Loss:{:.4f}'.format(epoch+1, num_epochs, loss.item()))"
   ]
  },
  {
   "cell_type": "markdown",
   "metadata": {},
   "source": [
    "#### Plot the Graph"
   ]
  },
  {
   "cell_type": "code",
   "execution_count": 8,
   "metadata": {},
   "outputs": [
    {
     "data": {
      "image/png": "[encoded data removed]",
      "text/plain": [
       "<Figure size 432x288 with 1 Axes>"
      ]
     },
     "metadata": {
      "needs_background": "light"
     },
     "output_type": "display_data"
    }
   ],
   "source": [
    "# 시각화 할때는 다시 Tensor에서 Numpy로 다시 만들어야함\n",
    "predict = model(torch.from_numpy(x_train)).detach().numpy()\n",
    "\n",
    "plt.plot(x_train, y_train,'ro', label ='Original Data')\n",
    "plt.plot(x_train,predict,label ='Predict Line')\n",
    "plt.legend()\n",
    "plt.show()\n",
    "\n",
    "torch.save(model.state_dict(),'model.ckpt')"
   ]
  }
 ],
 "metadata": {
  "kernelspec": {
   "display_name": "Python 3",
   "language": "python",
   "name": "python3"
  },
  "language_info": {
   "codemirror_mode": {
    "name": "ipython",
    "version": 3
   },
   "file_extension": ".py",
   "mimetype": "text/x-python",
   "name": "python",
   "nbconvert_exporter": "python",
   "pygments_lexer": "ipython3",
   "version": "3.8.5"
  }
 },
 "nbformat": 4,
 "nbformat_minor": 4
}
