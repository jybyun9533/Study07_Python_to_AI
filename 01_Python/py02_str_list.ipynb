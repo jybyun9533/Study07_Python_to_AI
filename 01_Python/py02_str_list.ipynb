{
 "cells": [
  {
   "cell_type": "markdown",
   "metadata": {},
   "source": [
    "### 문자열\n",
    "    인덱싱과 슬라이싱\n",
    "    split(), join()"
   ]
  },
  {
   "cell_type": "code",
   "execution_count": 9,
   "metadata": {},
   "outputs": [
    {
     "name": "stdout",
     "output_type": "stream",
     "text": [
      "20210510\n",
      "Cloudy\n",
      "20210510Cloudy\n"
     ]
    }
   ],
   "source": [
    "mystr = '20210510Cloudy'\n",
    "\n",
    "#인덱스와 슬라이스를 이용해서 날짜와 날씨를 각각 할당\n",
    "mydate = mystr[:8]\n",
    "weather = mystr[8:]\n",
    "\n",
    "print(mydate)\n",
    "print(weather)\n",
    "\n",
    "all = mystr[:] # 전체를 의미\n",
    "print(all)"
   ]
  },
  {
   "cell_type": "code",
   "execution_count": 19,
   "metadata": {},
   "outputs": [
    {
     "name": "stdout",
     "output_type": "stream",
     "text": [
      "미나리,경계선,기생충,매트릭스\n",
      "['미나리', '경계선', '기생충', '매트릭스']\n",
      "미나리 경계선 기생충 매트릭스\n"
     ]
    }
   ],
   "source": [
    "movies = \"미나리,경계선,기생충,매트릭스\"\n",
    "print(movies)\n",
    "moviesL = movies.split(\",\")\n",
    "print(moviesL)\n",
    "\n",
    "# join()은 str에 적용되는 함수\n",
    "# 구분자.join(리스트)\n",
    "\n",
    "#movie = ' '\n",
    "#movie = movie.join(moviesL)\n",
    "\n",
    "movie = ' '.join(moviesL)\n",
    "\n",
    "print(movie)"
   ]
  },
  {
   "cell_type": "markdown",
   "metadata": {},
   "source": [
    "### 리스트 생성, 추가, 삭제, 수정"
   ]
  },
  {
   "cell_type": "markdown",
   "metadata": {},
   "source": [
    "#### 1. 리스트 생성"
   ]
  },
  {
   "cell_type": "code",
   "execution_count": 28,
   "metadata": {},
   "outputs": [
    {
     "name": "stdout",
     "output_type": "stream",
     "text": [
      "[2, 5, 3, 10, 4]\n",
      "[]\n",
      "[]\n"
     ]
    },
    {
     "data": {
      "text/plain": [
       "[2, 5, 3, 10, 4]"
      ]
     },
     "execution_count": 28,
     "metadata": {},
     "output_type": "execute_result"
    }
   ],
   "source": [
    "mylist1 = [2,5,3,10,4]\n",
    "mylist2 = []\n",
    "mylist3 = list()\n",
    "\n",
    "print(mylist1)\n",
    "print(mylist2)\n",
    "print(mylist3)\n",
    "\n",
    "len(mylist1)\n",
    "len(mylist2)\n",
    "\n",
    "mylist3.extend(mylist1)\n",
    "mylist3\n"
   ]
  },
  {
   "cell_type": "markdown",
   "metadata": {},
   "source": [
    "#### 2. 리스트 추가"
   ]
  },
  {
   "cell_type": "code",
   "execution_count": 32,
   "metadata": {},
   "outputs": [
    {
     "data": {
      "text/plain": [
       "[2, 5, 3, -10, 4]"
      ]
     },
     "execution_count": 32,
     "metadata": {},
     "output_type": "execute_result"
    }
   ],
   "source": [
    "mylist1[3] = -10\n",
    "mylist1 # 값 변경 가능"
   ]
  },
  {
   "cell_type": "markdown",
   "metadata": {},
   "source": [
    "#### 3. 리스트 추가\n",
    "    - append()\n",
    "    - insert()"
   ]
  },
  {
   "cell_type": "code",
   "execution_count": 35,
   "metadata": {},
   "outputs": [],
   "source": [
    "mylist1.append?\n",
    "mylist1.insert?"
   ]
  },
  {
   "cell_type": "code",
   "execution_count": 37,
   "metadata": {},
   "outputs": [
    {
     "data": {
      "text/plain": [
       "[2, 5, 3, -10, 4]"
      ]
     },
     "execution_count": 37,
     "metadata": {},
     "output_type": "execute_result"
    }
   ],
   "source": [
    "mylist1"
   ]
  },
  {
   "cell_type": "code",
   "execution_count": 52,
   "metadata": {},
   "outputs": [],
   "source": [
    "mylist1.append(100)\n",
    "mylist1"
   ]
  },
  {
   "cell_type": "code",
   "execution_count": 53,
   "metadata": {},
   "outputs": [
    {
     "data": {
      "text/plain": [
       "[2, 5, 3, 200, -10, 4, 100, 100, 100, 100, 100, 100, 100, 100, 100]"
      ]
     },
     "execution_count": 53,
     "metadata": {},
     "output_type": "execute_result"
    }
   ],
   "source": [
    "mylist1.insert(3,200)\n",
    "mylist1"
   ]
  },
  {
   "cell_type": "code",
   "execution_count": 71,
   "metadata": {},
   "outputs": [
    {
     "data": {
      "text/plain": [
       "[2, 5, 3, 200, -10, 4, -200, 100, -200]"
      ]
     },
     "execution_count": 71,
     "metadata": {},
     "output_type": "execute_result"
    }
   ],
   "source": [
    "#리스트 가장 마지막에 -200을 추가.. insert()사용.. 마지막을 의미하는 인덱스 적용\n",
    "# --> -1로 안됨.\n",
    "mylist1.insert(-1,-200)\n",
    "mylist1"
   ]
  },
  {
   "cell_type": "code",
   "execution_count": 79,
   "metadata": {},
   "outputs": [
    {
     "data": {
      "text/plain": [
       "[2, 5, 3, 200, -10, 4, 100, -200]"
      ]
     },
     "execution_count": 79,
     "metadata": {},
     "output_type": "execute_result"
    }
   ],
   "source": [
    "mylist1.remove(-200)\n",
    "mylist1"
   ]
  },
  {
   "cell_type": "code",
   "execution_count": 76,
   "metadata": {},
   "outputs": [
    {
     "data": {
      "text/plain": [
       "[2, 5, 3, 200, -10, 4, 100, -200, -200]"
      ]
     },
     "execution_count": 76,
     "metadata": {},
     "output_type": "execute_result"
    }
   ],
   "source": [
    "#리스트 가장 마지막에 -200을 추가.. insert()사용.. 마지막을 의미하는 인덱스 적용\n",
    "\n",
    "mylist1.insert(len(mylist1), -200)\n",
    "mylist1"
   ]
  },
  {
   "cell_type": "markdown",
   "metadata": {},
   "source": [
    "### 4. 리스트 삭제하기\n",
    "    del : 인덱스로 삭제\n",
    "    remove : 삭제할 값을 직접 입력\n",
    "    pop : 맨 마지막 값을 삭제한 후 리턴"
   ]
  },
  {
   "cell_type": "code",
   "execution_count": 82,
   "metadata": {},
   "outputs": [
    {
     "data": {
      "text/plain": [
       "[4]"
      ]
     },
     "execution_count": 82,
     "metadata": {},
     "output_type": "execute_result"
    }
   ],
   "source": [
    "mylist=[1,2,3,4,4,5]\n",
    "del mylist[2]\n",
    "\n",
    "del mylist[0:2]\n",
    "mylist\n",
    "mylist.remove(4)\n",
    "a=mylist.pop()\n",
    "a\n",
    "mylist"
   ]
  },
  {
   "cell_type": "markdown",
   "metadata": {},
   "source": [
    "### 5. 리스트에서 값 추출하기 | 정렬하기 sort()"
   ]
  },
  {
   "cell_type": "code",
   "execution_count": 83,
   "metadata": {},
   "outputs": [
    {
     "name": "stdout",
     "output_type": "stream",
     "text": [
      "[2, 3]\n",
      "[1, 2, 3]\n",
      "[5, 6, 7, 8]\n",
      "[6, 7, 8]\n"
     ]
    },
    {
     "data": {
      "text/plain": [
       "[8, 7, 6, 5, 4, 3, 2, 1]"
      ]
     },
     "execution_count": 83,
     "metadata": {},
     "output_type": "execute_result"
    }
   ],
   "source": [
    "myL=[1,2,3,4,5,6,7,8,]\n",
    "print(myL[1:3]) #[2,3]\n",
    "print(myL[:3]) #[1,2,3]\n",
    "print(myL[4:]) #[5,6,7,8]\n",
    "print(myL[-3:]) #[6,7,8]\n",
    "\n",
    "myL.sort(reverse=True)\n",
    "myL"
   ]
  },
  {
   "cell_type": "markdown",
   "metadata": {},
   "source": [
    "### 문제 1.\n",
    "    100, 200, [10,20,30], 300, 400, 500으로 리스트를 변경"
   ]
  },
  {
   "cell_type": "code",
   "execution_count": 87,
   "metadata": {},
   "outputs": [
    {
     "data": {
      "text/plain": [
       "[100, 200, [10, 20, 30], 300, 400, 500]"
      ]
     },
     "execution_count": 87,
     "metadata": {},
     "output_type": "execute_result"
    }
   ],
   "source": [
    "a=[100,200,300,400,500]\n",
    "b=[10,20,30]\n",
    "\n",
    "# a[2] = b \n",
    "# a[2:3] = b\n",
    "a.insert(2,b)\n",
    "a"
   ]
  },
  {
   "cell_type": "code",
   "execution_count": 89,
   "metadata": {},
   "outputs": [
    {
     "name": "stdout",
     "output_type": "stream",
     "text": [
      "Variable   Type    Data/Info\n",
      "----------------------------\n",
      "a          list    n=6\n",
      "all        str     20210510Cloudy\n",
      "b          list    n=3\n",
      "movie      str     미나리 경계선 기생충 매트릭스\n",
      "movies     str     미나리,경계선,기생충,매트릭스\n",
      "moviesL    list    n=4\n",
      "myL        list    n=8\n",
      "mydate     str     20210510\n",
      "mylist     list    n=1\n",
      "mylist1    list    n=8\n",
      "mylist2    list    n=0\n",
      "mylist3    list    n=5\n",
      "mystr      str     20210510Cloudy\n",
      "weather    str     Cloudy\n"
     ]
    }
   ],
   "source": [
    "'''\n",
    "파이썬에서 모든 변수는 객체이다.\n",
    "who 옵션을 사용하면 지금까지 사용한 객체변수명 출력\n",
    "동시에 간단한 정보도 확인\n",
    "\n",
    "%who\n",
    "%whos - 변수명 뿐만 아니라 변수값도 함께 출력\n",
    "'''\n",
    "%whos"
   ]
  },
  {
   "cell_type": "code",
   "execution_count": 20,
   "metadata": {},
   "outputs": [
    {
     "name": "stdout",
     "output_type": "stream",
     "text": [
      "[3, 4, 5]\n",
      "True\n"
     ]
    }
   ],
   "source": [
    "'''\n",
    "list() 내장함수와\n",
    "list 전역변수의 이름이 동일하게 사용된 경우\n",
    "\n",
    "동일한 이름의 변수가 선언시 메모리에서 찾는 순서\n",
    "1) 로컬변수는 로컬영역에 저장 -- 가장 먼저 탐색\n",
    "2) 전역변수는 전역영역에 저장 -- 두번째\n",
    "3) 내장변수는 내장영역에 저장 -- 세번째\n",
    "\n",
    "=>\n",
    "아래에서 전역변수 부분을 먼저 찾고 내장변수를 찾음\n",
    "-> 위에서 사용된 이름이라 내장변수에서 에러발생\n",
    "\n",
    "RESTART를 해서 메모리에서 싹지워버리고\n",
    "새롭게 다른 이름으로 할당.\n",
    "'''\n",
    "\n",
    "aList = list('abcd')\n",
    "aList\n",
    "\n",
    "list_data = [3,4,5]\n",
    "print(list_data)\n",
    "list_data.sort(reverse=True) # 내립차순\n",
    "list_data\n",
    "\n",
    "print(5 in list_data)"
   ]
  },
  {
   "cell_type": "markdown",
   "metadata": {},
   "source": [
    "### 6. 2차원 배열에서 데이터 추출하기"
   ]
  },
  {
   "cell_type": "code",
   "execution_count": 10,
   "metadata": {},
   "outputs": [
    {
     "name": "stdout",
     "output_type": "stream",
     "text": [
      "[[1, 3], [4, 6]]\n",
      "6\n"
     ]
    }
   ],
   "source": [
    "test2D = [[1,3], [4,6]]\n",
    "print(test2D)\n",
    "print(test2D[1][1])"
   ]
  },
  {
   "cell_type": "code",
   "execution_count": 18,
   "metadata": {},
   "outputs": [
    {
     "data": {
      "text/plain": [
       "'good'"
      ]
     },
     "execution_count": 18,
     "metadata": {},
     "output_type": "execute_result"
    }
   ],
   "source": [
    "myLang =[['hello','python'], ['good-bye','c']]\n",
    "myLang\n",
    "\n",
    "# myLang에서 good만 뽑아서 출력\n",
    "temp = myLang[1][0]\n",
    "temp[:4]\n",
    "\n",
    "myLang[1][0][:4]\n",
    "myLang[1][0].split('-')[0]"
   ]
  }
 ],
 "metadata": {
  "kernelspec": {
   "display_name": "Python 3",
   "language": "python",
   "name": "python3"
  },
  "language_info": {
   "codemirror_mode": {
    "name": "ipython",
    "version": 3
   },
   "file_extension": ".py",
   "mimetype": "text/x-python",
   "name": "python",
   "nbconvert_exporter": "python",
   "pygments_lexer": "ipython3",
   "version": "3.8.5"
  }
 },
 "nbformat": 4,
 "nbformat_minor": 4
}
