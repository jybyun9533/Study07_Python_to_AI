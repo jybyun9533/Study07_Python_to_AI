{
 "cells": [
  {
   "cell_type": "markdown",
   "metadata": {},
   "source": [
    "### 함수\n",
    "    1. 함수 정의 기본 문법"
   ]
  },
  {
   "cell_type": "code",
   "execution_count": 4,
   "metadata": {},
   "outputs": [
    {
     "name": "stdout",
     "output_type": "stream",
     "text": [
      "8\n"
     ]
    }
   ],
   "source": [
    "# 1. 위치매개변수\n",
    "# 가장 기본적인 인자값 전달방식, 함수에서 정의한 위치대로 인자값이 할당\n",
    "def calc(num1, num2):\n",
    "    '''\n",
    "    인자값으로 받은 num1, num2\n",
    "    2개의 값을 더해서 result 로컬변수에 할당\n",
    "    그 값을 리턴하는 기능을 구현\n",
    "    '''\n",
    "    result = num1+num2\n",
    "    return result\n",
    "\n",
    "print(calc(3,5))"
   ]
  },
  {
   "cell_type": "code",
   "execution_count": 5,
   "metadata": {},
   "outputs": [],
   "source": [
    "calc?? # 함수에 대한 소스코드가 보인다."
   ]
  },
  {
   "cell_type": "code",
   "execution_count": 11,
   "metadata": {},
   "outputs": [
    {
     "name": "stdout",
     "output_type": "stream",
     "text": [
      "4와 5의 합은 9 입니다.\n"
     ]
    }
   ],
   "source": [
    "# 리턴값이 없는 경우\n",
    "def add(a,b):\n",
    "    print('%d와 %d의 합은 %d 입니다.'%(a,b,(a+b)))\n",
    "    '''\n",
    "    return문 자체가 없으면 함수는 None객체를 리턴한다\n",
    "    '''\n",
    "    \n",
    "add(4,5)"
   ]
  },
  {
   "cell_type": "code",
   "execution_count": 16,
   "metadata": {},
   "outputs": [
    {
     "name": "stdout",
     "output_type": "stream",
     "text": [
      "10\n",
      "10\n"
     ]
    }
   ],
   "source": [
    "# 2. 기본매개변수\n",
    "# 변수값을 입력하지 않으면 기본값이 활성화됨\n",
    "# 기본매개변수는 반드시 일반매개변수 뒤에 나와야 한다.\n",
    "def calc(end, start=0):\n",
    "    total = 0\n",
    "    for i in range(start, end):\n",
    "        total += i\n",
    "    return total\n",
    "\n",
    "print(calc(5,1))\n",
    "print(calc(5)) # 에러나지 않는다 :: 기본값이 활성화 되어 돌아감"
   ]
  },
  {
   "cell_type": "code",
   "execution_count": 20,
   "metadata": {},
   "outputs": [],
   "source": [
    "import pandas as pd\n",
    "from pandas import DataFrame\n",
    "\n",
    "pd.read_csv?"
   ]
  },
  {
   "cell_type": "code",
   "execution_count": 18,
   "metadata": {},
   "outputs": [
    {
     "data": {
      "text/html": [
       "<div>\n",
       "<style scoped>\n",
       "    .dataframe tbody tr th:only-of-type {\n",
       "        vertical-align: middle;\n",
       "    }\n",
       "\n",
       "    .dataframe tbody tr th {\n",
       "        vertical-align: top;\n",
       "    }\n",
       "\n",
       "    .dataframe thead th {\n",
       "        text-align: right;\n",
       "    }\n",
       "</style>\n",
       "<table border=\"1\" class=\"dataframe\">\n",
       "  <thead>\n",
       "    <tr style=\"text-align: right;\">\n",
       "      <th></th>\n",
       "      <th>e</th>\n",
       "      <th>f</th>\n",
       "      <th>g</th>\n",
       "      <th>h</th>\n",
       "    </tr>\n",
       "  </thead>\n",
       "  <tbody>\n",
       "    <tr>\n",
       "      <th>a</th>\n",
       "      <td>-0.735795</td>\n",
       "      <td>-0.659573</td>\n",
       "      <td>-1.519520</td>\n",
       "      <td>-1.292826</td>\n",
       "    </tr>\n",
       "    <tr>\n",
       "      <th>b</th>\n",
       "      <td>-1.025389</td>\n",
       "      <td>-0.552728</td>\n",
       "      <td>-0.786348</td>\n",
       "      <td>0.224038</td>\n",
       "    </tr>\n",
       "    <tr>\n",
       "      <th>c</th>\n",
       "      <td>-0.060672</td>\n",
       "      <td>-1.117379</td>\n",
       "      <td>1.668555</td>\n",
       "      <td>-1.793223</td>\n",
       "    </tr>\n",
       "    <tr>\n",
       "      <th>d</th>\n",
       "      <td>-1.183348</td>\n",
       "      <td>-0.770678</td>\n",
       "      <td>0.163694</td>\n",
       "      <td>-0.795882</td>\n",
       "    </tr>\n",
       "  </tbody>\n",
       "</table>\n",
       "</div>"
      ],
      "text/plain": [
       "          e         f         g         h\n",
       "a -0.735795 -0.659573 -1.519520 -1.292826\n",
       "b -1.025389 -0.552728 -0.786348  0.224038\n",
       "c -0.060672 -1.117379  1.668555 -1.793223\n",
       "d -1.183348 -0.770678  0.163694 -0.795882"
      ]
     },
     "execution_count": 18,
     "metadata": {},
     "output_type": "execute_result"
    }
   ],
   "source": [
    "# 키워드 매개변수 사용 예\n",
    "import numpy as np\n",
    "import pandas as pd\n",
    "from pandas import DataFrame\n",
    "df1 = DataFrame(np.random.randn(4,4),\n",
    "                index=list('abcd'),\n",
    "                columns=list('efgh'))\n",
    "df1"
   ]
  },
  {
   "cell_type": "code",
   "execution_count": 26,
   "metadata": {},
   "outputs": [
    {
     "name": "stdout",
     "output_type": "stream",
     "text": [
      "(3,)\n",
      "(3, 4)\n"
     ]
    }
   ],
   "source": [
    "# 4. 가변 매개변수 : 인자값이 몇개인지 모르는 상황에서 사용\n",
    "# 파이썬에서 print()함수가 대표적. 원하는 만큼 인자값을 받을 수 있도록 작성\n",
    "# 일반매개변수와 다르게 변수명 앞에 *을 붙임\n",
    "# 역시 가변매개변수 뒤에 일반매개변수가 뒤에 올 수 없다.\n",
    "\n",
    "def calc3(*args):\n",
    "    print(args)\n",
    "\n",
    "calc3(3)\n",
    "calc3(3,4) # 출력은 튜플 타입"
   ]
  },
  {
   "cell_type": "code",
   "execution_count": 34,
   "metadata": {},
   "outputs": [
    {
     "name": "stdout",
     "output_type": "stream",
     "text": [
      "{'name': 'James', 'age': 44, 'addr': 'NY'}\n"
     ]
    }
   ],
   "source": [
    "# 5. \n",
    "def calc4(**args):\n",
    "    print(args)\n",
    "# calc4(1,2) -- 에러발생\n",
    "'''\n",
    "** 일시\n",
    "반드시 인자값 입력시 주의를 요한다\n",
    "=> 딕셔너리 타입\n",
    "'''\n",
    "calc4(name=\"James\",age=44,addr=\"NY\")"
   ]
  },
  {
   "cell_type": "code",
   "execution_count": 36,
   "metadata": {},
   "outputs": [
    {
     "name": "stdout",
     "output_type": "stream",
     "text": [
      "james : (3, 5, 6)\n"
     ]
    }
   ],
   "source": [
    "# 일반 매개변수와 가변매개변수를 함께 사용하는 경우\n",
    "def calc5(name, *args):\n",
    "    print(name, \":\", args)\n",
    "calc5('james',3,5,6)"
   ]
  },
  {
   "cell_type": "markdown",
   "metadata": {},
   "source": [
    "### 문제1\n",
    "#### 가변매개변수와 일반매개변수를 함께 사용\n",
    "    3\n",
    "    6\n",
    "    9\n",
    "    가 출력되도록"
   ]
  },
  {
   "cell_type": "code",
   "execution_count": 37,
   "metadata": {},
   "outputs": [
    {
     "ename": "SyntaxError",
     "evalue": "invalid syntax (<ipython-input-37-4a1d7f7dc1c5>, line 2)",
     "output_type": "error",
     "traceback": [
      "\u001b[1;36m  File \u001b[1;32m\"<ipython-input-37-4a1d7f7dc1c5>\"\u001b[1;36m, line \u001b[1;32m2\u001b[0m\n\u001b[1;33m    for value in values\u001b[0m\n\u001b[1;37m                       ^\u001b[0m\n\u001b[1;31mSyntaxError\u001b[0m\u001b[1;31m:\u001b[0m invalid syntax\n"
     ]
    }
   ],
   "source": [
    "def value_times(times,*values):\n",
    "    for value in values\n",
    "        print(times * value)\n",
    "value_times(3,1,2,3,4,5,6,7)\n"
   ]
  },
  {
   "cell_type": "code",
   "execution_count": null,
   "metadata": {},
   "outputs": [],
   "source": []
  }
 ],
 "metadata": {
  "kernelspec": {
   "display_name": "Python 3",
   "language": "python",
   "name": "python3"
  },
  "language_info": {
   "codemirror_mode": {
    "name": "ipython",
    "version": 3
   },
   "file_extension": ".py",
   "mimetype": "text/x-python",
   "name": "python",
   "nbconvert_exporter": "python",
   "pygments_lexer": "ipython3",
   "version": "3.8.5"
  }
 },
 "nbformat": 4,
 "nbformat_minor": 4
}
