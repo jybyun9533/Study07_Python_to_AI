{
 "cells": [
  {
   "cell_type": "markdown",
   "metadata": {},
   "source": [
    "### Tuple - 데이터 조작이 불가능:: Immutable\n",
    "    튜플은 몇가지 점을 제외하곤 리스트와 거의 비슷\n",
    "    \n",
    "    다른점 \n",
    "    - 리스트는 []값을 둘러싸지만 튜플은()를 사용한다\n",
    "    - 리스트는 값을 추가, 삭제, 수정. 즉 변경이 가능하지만 튜플은 한번 생성된 값을 수정할 수 없다.\n",
    "    - 만약에 튜플로 만들어진 값을 조작하고 싶다면, 리스트로 형을 변환시킨 다음에 변경할수 있다."
   ]
  },
  {
   "cell_type": "code",
   "execution_count": 7,
   "metadata": {},
   "outputs": [
    {
     "name": "stdout",
     "output_type": "stream",
     "text": [
      "<class 'int'>\n",
      "<class 'tuple'>\n"
     ]
    },
    {
     "data": {
      "text/plain": [
       "(1,)"
      ]
     },
     "execution_count": 7,
     "metadata": {},
     "output_type": "execute_result"
    }
   ],
   "source": [
    "t1=(1,2,3,4)\n",
    "t2=(4,5,6)\n",
    "t1\n",
    "t2\n",
    "\n",
    "# 중요\n",
    "t3 = (1) # 값이 1개일 때 int로 적용\n",
    "t4 = (1,) # ','를 써줄것.\n",
    "print(type(t3))\n",
    "print(type(t4))\n",
    "t4"
   ]
  },
  {
   "cell_type": "markdown",
   "metadata": {},
   "source": [
    "#### 튜플을 사용하는 경우\n",
    "    프로그램이 실행되는 동안 그 값이 항상 변경되지 않기를 바란다거나 값이 바뀔까봐 걱정하고 싶지 않다면 무조건 튜플 사용\n",
    "    반대로 수시로 그 값을 변경해야 하는 경우에는 list를 사용."
   ]
  },
  {
   "cell_type": "code",
   "execution_count": 14,
   "metadata": {},
   "outputs": [
    {
     "name": "stdout",
     "output_type": "stream",
     "text": [
      "<class 'int'>\n",
      "<class 'tuple'>\n"
     ]
    }
   ],
   "source": [
    "a,b,c = 3,4,5 \n",
    "print(type(a))\n",
    "\n",
    "a = 3,4,5 #() 생략됨\n",
    "print(type(a))"
   ]
  },
  {
   "cell_type": "code",
   "execution_count": 20,
   "metadata": {},
   "outputs": [
    {
     "data": {
      "text/plain": [
       "[1, 2, 3, 4, 5, 6, 7, 8, 9, 0, 100]"
      ]
     },
     "execution_count": 20,
     "metadata": {},
     "output_type": "execute_result"
    }
   ],
   "source": [
    "t=(1,2,3,4,5,6,7,8,9,0,100)\n",
    "tList = list(t)\n",
    "tList"
   ]
  },
  {
   "cell_type": "code",
   "execution_count": 25,
   "metadata": {},
   "outputs": [
    {
     "name": "stdout",
     "output_type": "stream",
     "text": [
      "11\n",
      "11\n",
      "튜플 128\n",
      "리스트 144\n"
     ]
    }
   ],
   "source": [
    "'''\n",
    "len() 컨테이너에 포함된 데이터 항목의 개수를 리턴\n",
    ":: 컨테이너란 : 튜플, 딕셔너리, 리스트, 셋\n",
    "값들의 수정이 불필요한 경우라면 리스트보단 튜플을 이용하는 것이 효율적\n",
    " -> 튜플이 메모리 사용이 적음\n",
    " sys.getsizeof() - 특정 개체의 메모리 사이즈를 바이트 단위로 반환 : 직접 메모리 용량을 손쉽게 확인 가능\n",
    "'''\n",
    "import sys\n",
    "print(len(t))\n",
    "print(len(tList))\n",
    "print('튜플',sys.getsizeof(t)) # 개체의 메모리 사이즈를 반환\n",
    "print('리스트',sys.getsizeof(tList))"
   ]
  },
  {
   "cell_type": "markdown",
   "metadata": {},
   "source": [
    "#### 2. 튜플값 삭제 및 변경"
   ]
  },
  {
   "cell_type": "code",
   "execution_count": 26,
   "metadata": {},
   "outputs": [
    {
     "ename": "TypeError",
     "evalue": "'tuple' object does not support item assignment",
     "output_type": "error",
     "traceback": [
      "\u001b[1;31m---------------------------------------------------------------------------\u001b[0m",
      "\u001b[1;31mTypeError\u001b[0m                                 Traceback (most recent call last)",
      "\u001b[1;32m<ipython-input-26-4752d2800da0>\u001b[0m in \u001b[0;36m<module>\u001b[1;34m\u001b[0m\n\u001b[1;32m----> 1\u001b[1;33m \u001b[0mt\u001b[0m\u001b[1;33m[\u001b[0m\u001b[1;36m3\u001b[0m\u001b[1;33m]\u001b[0m \u001b[1;33m=\u001b[0m \u001b[1;36m77\u001b[0m\u001b[1;33m\u001b[0m\u001b[1;33m\u001b[0m\u001b[0m\n\u001b[0m",
      "\u001b[1;31mTypeError\u001b[0m: 'tuple' object does not support item assignment"
     ]
    }
   ],
   "source": [
    "t[3] = 77 # 에러 발생"
   ]
  },
  {
   "cell_type": "markdown",
   "metadata": {},
   "source": [
    "### 딕셔너리\n",
    "#### 1. 생성하기"
   ]
  },
  {
   "cell_type": "code",
   "execution_count": 28,
   "metadata": {},
   "outputs": [
    {
     "data": {
      "text/plain": [
       "{'name': 'DRAM', 'capa': '32g', 'maker': 'SK', 'price': 320000}"
      ]
     },
     "execution_count": 28,
     "metadata": {},
     "output_type": "execute_result"
    }
   ],
   "source": [
    "pro_dic={'name' : 'DRAM', 'capa':'32g', 'maker' : 'SK', 'price':320000}\n",
    "pro_dic"
   ]
  },
  {
   "cell_type": "markdown",
   "metadata": {},
   "source": [
    "#### 2. 데이터 조회\n",
    "    1) [key]\n",
    "    2) get(key)"
   ]
  },
  {
   "cell_type": "code",
   "execution_count": 29,
   "metadata": {},
   "outputs": [
    {
     "name": "stdout",
     "output_type": "stream",
     "text": [
      "DRAM\n",
      "DRAM\n"
     ]
    }
   ],
   "source": [
    "# 딕셔너리 데이터를 조회할 때 리스트, 튜플과 다르게 인뎅싱, 슬라이싱 기법 적용x\n",
    "# 한 가지 방법으로만 조회 가능 :: key를 통해서 value를 찾는다.\n",
    "print(pro_dic['name'])\n",
    "print(pro_dic.get('name'))"
   ]
  },
  {
   "cell_type": "markdown",
   "metadata": {},
   "source": [
    "#### 3.데이터 수정하기"
   ]
  },
  {
   "cell_type": "code",
   "execution_count": 32,
   "metadata": {},
   "outputs": [
    {
     "data": {
      "text/plain": [
       "{'name': 'DRAM', 'capa': '32g', 'maker': 'SK', 'price': 230000}"
      ]
     },
     "execution_count": 32,
     "metadata": {},
     "output_type": "execute_result"
    }
   ],
   "source": [
    "pro_dic['price'] = 230000\n",
    "pro_dic"
   ]
  },
  {
   "cell_type": "code",
   "execution_count": 37,
   "metadata": {},
   "outputs": [
    {
     "data": {
      "text/plain": [
       "{'name': 'DRAM',\n",
       " 'capa': '32g',\n",
       " 'maker': 'SK',\n",
       " 'price': 230000,\n",
       " 'loc': '이천',\n",
       " 'pop': 33}"
      ]
     },
     "execution_count": 37,
     "metadata": {},
     "output_type": "execute_result"
    }
   ],
   "source": [
    "addinfo={'loc' : '이천', 'pop' : 33}\n",
    "pro_dic.update(addinfo)\n",
    "pro_dic"
   ]
  },
  {
   "cell_type": "markdown",
   "metadata": {},
   "source": [
    "#### 4. 데이터 삭제하기\n",
    "        del pro_dic[key]"
   ]
  },
  {
   "cell_type": "code",
   "execution_count": 38,
   "metadata": {},
   "outputs": [
    {
     "data": {
      "text/plain": [
       "{'name': 'DRAM', 'capa': '32g', 'maker': 'SK', 'price': 230000, 'loc': '이천'}"
      ]
     },
     "execution_count": 38,
     "metadata": {},
     "output_type": "execute_result"
    }
   ],
   "source": [
    "del pro_dic['pop']\n",
    "pro_dic\n",
    "\n",
    "# del pro_dic['pop'] :: 인덱스 접근 X"
   ]
  },
  {
   "cell_type": "markdown",
   "metadata": {},
   "source": [
    "#### 딕셔너리를 다룰 때 주의사항\n",
    "    1) 키 값이 중복 될 수 없다. 만약에 키가 중복되면 마지막 값으로 덮어 씌워진다.\n",
    "    2) 키 값으로는 list 사용 못함. :: list는 변경 가능하기 때문.\n",
    "      -> Tuple은 가능\n",
    "    3) key-value 구조 : 없는 key를 입력할 때 서로 다른 결과"
   ]
  },
  {
   "cell_type": "code",
   "execution_count": 40,
   "metadata": {},
   "outputs": [
    {
     "data": {
      "text/plain": [
       "{(1, 2, 3): 'hello'}"
      ]
     },
     "execution_count": 40,
     "metadata": {},
     "output_type": "execute_result"
    }
   ],
   "source": [
    "# a = {[1,2,3] : 'hi'}\n",
    "# a\n",
    "\n",
    "b = {(1,2,3) : 'hello'}\n",
    "b"
   ]
  },
  {
   "cell_type": "markdown",
   "metadata": {},
   "source": [
    "#### 딕셔너리 함수 사용하기\n",
    "    keys() | values() | items()"
   ]
  },
  {
   "cell_type": "code",
   "execution_count": 49,
   "metadata": {},
   "outputs": [
    {
     "data": {
      "text/plain": [
       "{'name': 'PETER', 'age': 34, 'address': 'Texax', 'phone': '1201234'}"
      ]
     },
     "execution_count": 49,
     "metadata": {},
     "output_type": "execute_result"
    }
   ],
   "source": [
    "dic = {'name' : 'PETER', 'age': 34, 'address' : 'Texax', 'phone' : '1201234'}\n",
    "dic"
   ]
  },
  {
   "cell_type": "code",
   "execution_count": 61,
   "metadata": {},
   "outputs": [
    {
     "name": "stdout",
     "output_type": "stream",
     "text": [
      "dict_keys(['name', 'age', 'address', 'phone'])\n",
      "<class 'dict_keys'>\n",
      "['name', 'age', 'address', 'phone']\n",
      "dict_values(['PETER', 34, 'Texax', '1201234'])\n",
      "<class 'dict_values'>\n",
      "dict_items([('name', 'PETER'), ('age', 34), ('address', 'Texax'), ('phone', '1201234')])\n",
      "<class 'dict_items'>\n"
     ]
    }
   ],
   "source": [
    "# dic의 키 값만 뽑아서 출력\n",
    "dic_keys1 = dic.keys()\n",
    "print(dic_keys)\n",
    "print(type(dic_keys)) # dict_keys 객체\n",
    "\n",
    "# 키들의 목록을 리스트로 변환시켜서 출력\n",
    "print(list(dic_keys))\n",
    "'''\n",
    "dict_keys객체는 리스트를 사용하는 것과 별반 다르지 않지만\n",
    "리스트 고유의 기능 :: append, insert, remove, sort 함수를 적용할 수 없다\n",
    "필요하면 list로 변환 시켜놓고 함수를 적용해야 한다.\n",
    "'''\n",
    "\n",
    "# 값들의 목록\n",
    "dic_values=dic.values()\n",
    "print(dic_values)\n",
    "print(type(dic_values)) # dict_values 객체\n",
    "\n",
    "# key, value 모두 얻기\n",
    "dic_item = dic.items()\n",
    "print(dic_item)\n",
    "print(type(dic_item))"
   ]
  },
  {
   "cell_type": "code",
   "execution_count": 68,
   "metadata": {},
   "outputs": [
    {
     "name": "stdout",
     "output_type": "stream",
     "text": [
      "None\n"
     ]
    },
    {
     "ename": "KeyError",
     "evalue": "'aaa'",
     "output_type": "error",
     "traceback": [
      "\u001b[1;31m---------------------------------------------------------------------------\u001b[0m",
      "\u001b[1;31mKeyError\u001b[0m                                  Traceback (most recent call last)",
      "\u001b[1;32m<ipython-input-68-c2bdac8d7f76>\u001b[0m in \u001b[0;36m<module>\u001b[1;34m\u001b[0m\n\u001b[0;32m      4\u001b[0m \u001b[0mname2\u001b[0m\u001b[1;33m=\u001b[0m \u001b[0mdic\u001b[0m\u001b[1;33m.\u001b[0m\u001b[0mget\u001b[0m\u001b[1;33m(\u001b[0m\u001b[1;34m'aaa'\u001b[0m\u001b[1;33m)\u001b[0m \u001b[1;31m# 존재하지 않는 키를 입력\u001b[0m\u001b[1;33m\u001b[0m\u001b[1;33m\u001b[0m\u001b[0m\n\u001b[0;32m      5\u001b[0m \u001b[0mprint\u001b[0m\u001b[1;33m(\u001b[0m\u001b[0mname2\u001b[0m\u001b[1;33m)\u001b[0m \u001b[1;31m# None\u001b[0m\u001b[1;33m\u001b[0m\u001b[1;33m\u001b[0m\u001b[0m\n\u001b[1;32m----> 6\u001b[1;33m \u001b[0mprint\u001b[0m\u001b[1;33m(\u001b[0m\u001b[0mpro_dic\u001b[0m\u001b[1;33m[\u001b[0m\u001b[1;34m'aaa'\u001b[0m\u001b[1;33m]\u001b[0m\u001b[1;33m)\u001b[0m\u001b[1;33m\u001b[0m\u001b[1;33m\u001b[0m\u001b[0m\n\u001b[0m",
      "\u001b[1;31mKeyError\u001b[0m: 'aaa'"
     ]
    }
   ],
   "source": [
    "name1= dic.get('name')\n",
    "name1\n",
    "\n",
    "name2= dic.get('aaa') # 존재하지 않는 키를 입력\n",
    "print(name2) # None\n",
    "print(pro_dic['aaa']) # 에러 발생"
   ]
  }
 ],
 "metadata": {
  "kernelspec": {
   "display_name": "Python 3",
   "language": "python",
   "name": "python3"
  },
  "language_info": {
   "codemirror_mode": {
    "name": "ipython",
    "version": 3
   },
   "file_extension": ".py",
   "mimetype": "text/x-python",
   "name": "python",
   "nbconvert_exporter": "python",
   "pygments_lexer": "ipython3",
   "version": "3.8.5"
  }
 },
 "nbformat": 4,
 "nbformat_minor": 4
}
