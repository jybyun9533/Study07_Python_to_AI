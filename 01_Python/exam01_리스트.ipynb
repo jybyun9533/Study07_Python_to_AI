{
 "cells": [
  {
   "cell_type": "markdown",
   "metadata": {},
   "source": [
    "### 이렇게 해봐요!!\n",
    "    1. 문자열 'beetea' 가 담긴 변수 my_str 선언한다.\n",
    "    2. 문자열 'e'를 기준으로 my_str를 리스트로 만든 다음, 이를 변수 var1에 담는다.\n",
    "    3. 리스트 [\"Seeing\",\"is\",\"Believing\"] 이 담긴 변수 my_list를 선언한다.\n",
    "    4. 공백을 기준으로 my_list를 문자열로 만들어보고,이를 변수 var2에 담는다."
   ]
  },
  {
   "cell_type": "code",
   "execution_count": 6,
   "metadata": {},
   "outputs": [
    {
     "name": "stdout",
     "output_type": "stream",
     "text": [
      "['b', '', 't', 'a']\n",
      "Seeing is Believing\n"
     ]
    }
   ],
   "source": [
    "my_str = 'beetea'\n",
    "var1 = my_str.split('e')\n",
    "my_list = [\"Seeing\", \"is\", \"Believing\"]\n",
    "var2 = ' '.join(my_list)\n",
    "print(var1)\n",
    "print(var2)"
   ]
  },
  {
   "cell_type": "code",
   "execution_count": null,
   "metadata": {},
   "outputs": [],
   "source": []
  }
 ],
 "metadata": {
  "kernelspec": {
   "display_name": "Python 3",
   "language": "python",
   "name": "python3"
  },
  "language_info": {
   "codemirror_mode": {
    "name": "ipython",
    "version": 3
   },
   "file_extension": ".py",
   "mimetype": "text/x-python",
   "name": "python",
   "nbconvert_exporter": "python",
   "pygments_lexer": "ipython3",
   "version": "3.8.5"
  }
 },
 "nbformat": 4,
 "nbformat_minor": 4
}
