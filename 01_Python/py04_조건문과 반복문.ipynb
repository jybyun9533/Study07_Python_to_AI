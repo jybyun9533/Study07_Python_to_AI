{
 "cells": [
  {
   "cell_type": "markdown",
   "metadata": {},
   "source": [
    "### 조건문, 제어문(if, elif, else)"
   ]
  },
  {
   "cell_type": "code",
   "execution_count": 2,
   "metadata": {},
   "outputs": [
    {
     "name": "stdout",
     "output_type": "stream",
     "text": [
      "a is 3...\n"
     ]
    }
   ],
   "source": [
    "a = 3\n",
    "if a % 2 == 0:\n",
    "    print('EVEN..')\n",
    "else:\n",
    "    if a==1:\n",
    "        print('a is 1...')\n",
    "    elif a==3:\n",
    "        print('a is 3...')"
   ]
  },
  {
   "cell_type": "code",
   "execution_count": 4,
   "metadata": {},
   "outputs": [
    {
     "name": "stdout",
     "output_type": "stream",
     "text": [
      "성적입력>>>77\n",
      "<class 'int'>\n",
      "C\n"
     ]
    }
   ],
   "source": [
    "grade = int(input('성적입력>>>'))\n",
    "print(type(grade))\n",
    "\n",
    "if grade >= 90:\n",
    "    print('A')\n",
    "elif grade >= 80 and grade < 90:\n",
    "    print('B')\n",
    "elif grade >= 70 and grade < 80:\n",
    "    print('C')\n",
    "elif grade >= 60 and grade < 70:\n",
    "    print('D')\n",
    "elif grade < 60:\n",
    "    print('F')"
   ]
  },
  {
   "cell_type": "markdown",
   "metadata": {},
   "source": [
    "### 반복문(for, while)"
   ]
  },
  {
   "cell_type": "code",
   "execution_count": 7,
   "metadata": {},
   "outputs": [
    {
     "name": "stdout",
     "output_type": "stream",
     "text": [
      "미나리\n",
      "조커\n",
      "경계선\n",
      "스타워즈\n",
      "****************************************\n",
      "미나리\n",
      "조커\n",
      "경계선\n",
      "스타워즈\n"
     ]
    }
   ],
   "source": [
    "movie_list = ['미나리','조커','경계선','스타워즈']\n",
    "\n",
    "#1. for\n",
    "for movie in movie_list:\n",
    "    print(movie)\n",
    "\n",
    "print('*'*40)\n",
    "\n",
    "#2. range() 사용\n",
    "for idx in range(len(movie_list)):\n",
    "    '''\n",
    "        range(4) -> range(0,4)\n",
    "    '''\n",
    "    print(movie_list[idx])"
   ]
  },
  {
   "cell_type": "markdown",
   "metadata": {},
   "source": [
    "### 문제 1.\n",
    "    키보드로 값들을 입력받습니다.\n",
    "    입력받은 값의 전체의 합을 구하는 로직을 작성\n",
    "    ex) 3,4,5,6 입력받은 값 세팅"
   ]
  },
  {
   "cell_type": "code",
   "execution_count": 11,
   "metadata": {},
   "outputs": [
    {
     "name": "stdout",
     "output_type": "stream",
     "text": [
      "키보드로 정수값을 입력하세요>>>3,4,5,6\n",
      "<class 'list'>\n",
      "18\n"
     ]
    }
   ],
   "source": [
    "data = input('키보드로 정수값을 입력하세요>>>').split(',')\n",
    "total = 0\n",
    "\n",
    "#1.\n",
    "# for i in data:\n",
    "#     total += int(i)\n",
    "# print('총합 : ', total)\n",
    "\n",
    "#2. range() 함수 사용\n",
    "# for idx in range(len(data)):\n",
    "#     total += int(data[idx])\n",
    "# print('총합 : ', total)\n",
    "\n",
    "#3.\n",
    "intData = [int(i) for i in data]\n",
    "print(type(intData))\n",
    "print(sum(intData))"
   ]
  },
  {
   "cell_type": "markdown",
   "metadata": {},
   "source": [
    "### 문제 2.\n",
    "    numList = [5,10,11,3,2,100] 으로 주어집니다.\n",
    "    \n",
    "    numList 리스트 자료형을 이용해서 아래와 같은 결과가 출력되도록 코드를 작성하세요\n",
    "    ['홀','짝','홀','홀','짝','짝']"
   ]
  },
  {
   "cell_type": "code",
   "execution_count": 15,
   "metadata": {},
   "outputs": [
    {
     "name": "stdout",
     "output_type": "stream",
     "text": [
      "['홀', '짝', '홀', '홀', '짝', '짝']\n"
     ]
    }
   ],
   "source": [
    "#1.\n",
    "numList = [5,10,11,3,2,100]\n",
    "choice = ['홀','짝']\n",
    "strList = []\n",
    "\n",
    "# for idx in range(len(numList)):\n",
    "#     if numList[idx] % 2 == 0:\n",
    "#         print('짝')\n",
    "#     else:\n",
    "#         print('홀')\n",
    "for i in numList:\n",
    "    if i%2==0:\n",
    "        strList.append(choice[1])\n",
    "    else:\n",
    "        strList.append(choice[0])\n",
    "print(strList)"
   ]
  },
  {
   "cell_type": "code",
   "execution_count": 17,
   "metadata": {},
   "outputs": [
    {
     "name": "stdout",
     "output_type": "stream",
     "text": [
      "['홀', '짝', '홀', '홀', '짝', '짝']\n"
     ]
    }
   ],
   "source": [
    "#2.\n",
    "numList = [5,10,11,3,2,100]\n",
    "\n",
    "resultList = ['짝' if i%2==0 else '홀' for i in numList]\n",
    "print(resultList)"
   ]
  },
  {
   "cell_type": "markdown",
   "metadata": {},
   "source": [
    "### 이차원 배열에 for 사용하기, 이중 for문"
   ]
  },
  {
   "cell_type": "code",
   "execution_count": 19,
   "metadata": {},
   "outputs": [
    {
     "name": "stdout",
     "output_type": "stream",
     "text": [
      "0 \t1 \t2 \t3 \t4 \t"
     ]
    }
   ],
   "source": [
    "for i in range(5):\n",
    "    print(i, '\\t', end='')"
   ]
  },
  {
   "cell_type": "code",
   "execution_count": 20,
   "metadata": {},
   "outputs": [
    {
     "name": "stdout",
     "output_type": "stream",
     "text": [
      "3\n"
     ]
    }
   ],
   "source": [
    "matrix = [[1,2,3],[4,5,6],[7,8,9,10]]\n",
    "print(len(matrix))"
   ]
  },
  {
   "cell_type": "markdown",
   "metadata": {},
   "source": [
    "### 문제 3.\n",
    "    [1,2,3]\n",
    "    [4,5,6]\n",
    "    [7,8,9,10]\n",
    "    위와 같은 패턴으로 출력되도록 for문을 사용한다"
   ]
  },
  {
   "cell_type": "code",
   "execution_count": 25,
   "metadata": {},
   "outputs": [
    {
     "name": "stdout",
     "output_type": "stream",
     "text": [
      "[1, 2, 3]\n",
      "[4, 5, 6]\n",
      "[7, 8, 9, 10]\n",
      "******************************\n",
      "[1, 2, 3]\n",
      "[4, 5, 6]\n",
      "[7, 8, 9, 10]\n",
      "******************************\n",
      "1 \t2 \t3 \t\n",
      "4 \t5 \t6 \t\n",
      "7 \t8 \t9 \t10 \t\n",
      "******************************\n",
      "1 \t2 \t3 \t\n",
      "4 \t5 \t6 \t\n",
      "7 \t8 \t9 \t10 \t\n"
     ]
    }
   ],
   "source": [
    "matrix = [[1,2,3],[4,5,6],[7,8,9,10]]\n",
    "\n",
    "#1. for문 사용\n",
    "for i in matrix:\n",
    "    print(i)\n",
    "print('*'*30)\n",
    "\n",
    "#2. range() 사용\n",
    "for i in range(len(matrix)):\n",
    "    print(matrix[i])\n",
    "print('*'*30)\n",
    "\n",
    "#3. 이중for문 사용\n",
    "for i in range(len(matrix)):\n",
    "    for j in matrix[i]:\n",
    "        print(j, '\\t', end='')\n",
    "    print()\n",
    "print('*'*30)\n",
    "\n",
    "#4. \n",
    "for row in matrix:\n",
    "    for col in row:\n",
    "        print(col, '\\t', end='')\n",
    "    print()\n"
   ]
  },
  {
   "cell_type": "markdown",
   "metadata": {},
   "source": [
    "### while문\n",
    "    1부터 100까지의 합을 구하자\n",
    "    조건을 2가지 방식으로 지정\n",
    "    1) while i<101    2) while True:"
   ]
  },
  {
   "cell_type": "code",
   "execution_count": 29,
   "metadata": {},
   "outputs": [
    {
     "name": "stdout",
     "output_type": "stream",
     "text": [
      "100까지의 총합은  5050\n",
      "******************************\n",
      "100까지의 총합은  5050\n"
     ]
    }
   ],
   "source": [
    "i = 1\n",
    "total1 = 0\n",
    "while i < 101:\n",
    "    total1 += i\n",
    "    i = i + 1\n",
    "print('100까지의 총합은 ', total1)\n",
    "\n",
    "print('*'*30)\n",
    "\n",
    "j=1\n",
    "total2 = 0\n",
    "while True:\n",
    "    if j==101:\n",
    "        break\n",
    "    total2 += j\n",
    "    j = j+1\n",
    "print('100까지의 총합은 ',total2)"
   ]
  },
  {
   "cell_type": "markdown",
   "metadata": {},
   "source": [
    "### break, continue, pass 키워드"
   ]
  },
  {
   "cell_type": "code",
   "execution_count": 30,
   "metadata": {},
   "outputs": [
    {
     "name": "stdout",
     "output_type": "stream",
     "text": [
      "0\n",
      "1\n",
      "continue...loop\n",
      "3\n",
      "4\n",
      "5\n",
      "breaking...loop\n"
     ]
    }
   ],
   "source": [
    "for i in range(10):\n",
    "    if i==2:\n",
    "        print('continue...loop')\n",
    "        continue\n",
    "    if i==6:\n",
    "        print('breaking...loop')\n",
    "        break\n",
    "    if i==4:\n",
    "        pass #아무것도 없을때\n",
    "    print(i)"
   ]
  },
  {
   "cell_type": "code",
   "execution_count": null,
   "metadata": {},
   "outputs": [],
   "source": [
    "import random\n",
    "com = random.randrange(1,100) #1이상 100미만이 수를 임의로 뽑아서 반환해주는 함수"
   ]
  },
  {
   "cell_type": "code",
   "execution_count": null,
   "metadata": {},
   "outputs": [],
   "source": []
  }
 ],
 "metadata": {
  "kernelspec": {
   "display_name": "Python 3",
   "language": "python",
   "name": "python3"
  },
  "language_info": {
   "codemirror_mode": {
    "name": "ipython",
    "version": 3
   },
   "file_extension": ".py",
   "mimetype": "text/x-python",
   "name": "python",
   "nbconvert_exporter": "python",
   "pygments_lexer": "ipython3",
   "version": "3.8.5"
  }
 },
 "nbformat": 4,
 "nbformat_minor": 4
}
