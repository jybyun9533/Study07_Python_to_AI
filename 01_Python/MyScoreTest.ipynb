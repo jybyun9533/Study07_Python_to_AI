{
 "cells": [
  {
   "cell_type": "code",
   "execution_count": 10,
   "metadata": {},
   "outputs": [],
   "source": [
    "import MyScoreMod as ms\n",
    "from MyScoreMod import getSum"
   ]
  },
  {
   "cell_type": "code",
   "execution_count": 12,
   "metadata": {},
   "outputs": [
    {
     "name": "stdout",
     "output_type": "stream",
     "text": [
      "값 입력1,2,3\n",
      "[1, 2, 3]\n",
      "총합 :  6\n",
      "__main__\n"
     ]
    }
   ],
   "source": [
    "dataL = input('값 입력').split(',') # 1, 2, 3\n",
    "#print(dataL) -- ['1', '2', '3']\n",
    "\n",
    "intDataL = [int(i) for i in dataL]\n",
    "print(intDataL)\n",
    "\n",
    "res = getSum(intDataL)\n",
    "print('총합 : ', res)\n",
    "\n",
    "\n",
    "'''\n",
    "__name__\n",
    "\n",
    "파이썬에서 __name__ 변수는 내부적으로 사용되는 특별한 변수\n",
    "지금처럼 직접적으로 실행되는 파일의 __name__변수값에는ㅊ__main__ 이름이 저장된다.\n",
    "반대로 간접적으로(import 된) 싱핼되는 파일은 모듈명이 저장ㅉ\n",
    "'''\n",
    "\n",
    "if __name__ == \"__main__\" : # 직접 실행되고 있는 파일이면\n",
    "    print(__name__)"
   ]
  },
  {
   "cell_type": "raw",
   "metadata": {},
   "source": []
  },
  {
   "cell_type": "code",
   "execution_count": null,
   "metadata": {},
   "outputs": [],
   "source": []
  },
  {
   "cell_type": "code",
   "execution_count": null,
   "metadata": {},
   "outputs": [],
   "source": []
  }
 ],
 "metadata": {
  "kernelspec": {
   "display_name": "Python 3",
   "language": "python",
   "name": "python3"
  },
  "language_info": {
   "codemirror_mode": {
    "name": "ipython",
    "version": 3
   },
   "file_extension": ".py",
   "mimetype": "text/x-python",
   "name": "python",
   "nbconvert_exporter": "python",
   "pygments_lexer": "ipython3",
   "version": "3.8.5"
  }
 },
 "nbformat": 4,
 "nbformat_minor": 4
}
