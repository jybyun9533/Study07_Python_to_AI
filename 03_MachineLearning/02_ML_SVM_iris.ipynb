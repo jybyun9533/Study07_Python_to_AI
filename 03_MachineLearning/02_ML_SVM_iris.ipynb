{
 "cells": [
  {
   "cell_type": "code",
   "execution_count": 2,
   "metadata": {},
   "outputs": [
    {
     "name": "stdout",
     "output_type": "stream",
     "text": [
      "(30, 200)\n",
      "30\n",
      "200\n",
      "30 200\n"
     ]
    }
   ],
   "source": [
    "# 이 부분은 파이썬에서만 가능...\n",
    "def sum_and_multiply(a,b):\n",
    "    return a+b, a*b # 파이썬은 반환값 여러개 가능하다.\n",
    "\n",
    "result = sum_and_multiply(10, 20)\n",
    "print(result)\n",
    "\n",
    "res1, res2 = sum_and_multiply(10, 20)\n",
    "print(res1)\n",
    "print(res2)\n",
    "print(res1, res2)"
   ]
  },
  {
   "cell_type": "markdown",
   "metadata": {},
   "source": [
    "### 1. Module Configuration"
   ]
  },
  {
   "cell_type": "code",
   "execution_count": 3,
   "metadata": {},
   "outputs": [],
   "source": [
    "import pandas as pd\n",
    "from sklearn.svm import SVC\n",
    "\n",
    "# 추가\n",
    "from sklearn.model_selection import train_test_split\n",
    "\n",
    "# 추가\n",
    "from sklearn.metrics import accuracy_score"
   ]
  },
  {
   "cell_type": "markdown",
   "metadata": {},
   "source": [
    "### 2. Data Loader"
   ]
  },
  {
   "cell_type": "code",
   "execution_count": 4,
   "metadata": {},
   "outputs": [
    {
     "name": "stdout",
     "output_type": "stream",
     "text": [
      "     sepal.length  sepal.width  petal.length  petal.width    variety\n",
      "0             5.1          3.5           1.4          0.2     Setosa\n",
      "1             4.9          3.0           1.4          0.2     Setosa\n",
      "2             4.7          3.2           1.3          0.2     Setosa\n",
      "3             4.6          3.1           1.5          0.2     Setosa\n",
      "4             5.0          3.6           1.4          0.2     Setosa\n",
      "..            ...          ...           ...          ...        ...\n",
      "145           6.7          3.0           5.2          2.3  Virginica\n",
      "146           6.3          2.5           5.0          1.9  Virginica\n",
      "147           6.5          3.0           5.2          2.0  Virginica\n",
      "148           6.2          3.4           5.4          2.3  Virginica\n",
      "149           5.9          3.0           5.1          1.8  Virginica\n",
      "\n",
      "[150 rows x 5 columns]\n"
     ]
    }
   ],
   "source": [
    "csv = pd.read_csv('../data/iris.csv')\n",
    "print(csv)"
   ]
  },
  {
   "cell_type": "markdown",
   "metadata": {},
   "source": [
    "### Data Split and Shuffle"
   ]
  },
  {
   "cell_type": "code",
   "execution_count": 5,
   "metadata": {},
   "outputs": [],
   "source": [
    "label = csv['variety']\n",
    "feature = csv[['sepal.length','sepal.width','petal.length','petal.width']]\n",
    "feature\n",
    "label\n",
    "\n",
    "# Training | Test 데이타 분리및 데이타 섞기\n",
    "# train_test_split함수 반환값이 4개인 점과 이 순서대로 받아줘야 한다...중요!!\n",
    "train_data,test_data, train_label, test_label=train_test_split(feature, label)"
   ]
  },
  {
   "cell_type": "code",
   "execution_count": 6,
   "metadata": {},
   "outputs": [
    {
     "name": "stdout",
     "output_type": "stream",
     "text": [
      "18         Setosa\n",
      "81     Versicolor\n",
      "4          Setosa\n",
      "96     Versicolor\n",
      "144     Virginica\n",
      "          ...    \n",
      "117     Virginica\n",
      "58     Versicolor\n",
      "44         Setosa\n",
      "132     Virginica\n",
      "29         Setosa\n",
      "Name: variety, Length: 112, dtype: object\n",
      "******************************\n",
      "56     Versicolor\n",
      "66     Versicolor\n",
      "21         Setosa\n",
      "73     Versicolor\n",
      "10         Setosa\n",
      "53     Versicolor\n",
      "43         Setosa\n",
      "16         Setosa\n",
      "131     Virginica\n",
      "128     Virginica\n",
      "7          Setosa\n",
      "111     Virginica\n",
      "83     Versicolor\n",
      "100     Virginica\n",
      "147     Virginica\n",
      "125     Virginica\n",
      "122     Virginica\n",
      "88     Versicolor\n",
      "8          Setosa\n",
      "136     Virginica\n",
      "19         Setosa\n",
      "77     Versicolor\n",
      "103     Virginica\n",
      "49         Setosa\n",
      "126     Virginica\n",
      "104     Virginica\n",
      "37         Setosa\n",
      "127     Virginica\n",
      "145     Virginica\n",
      "78     Versicolor\n",
      "46         Setosa\n",
      "102     Virginica\n",
      "35         Setosa\n",
      "55     Versicolor\n",
      "50     Versicolor\n",
      "0          Setosa\n",
      "69     Versicolor\n",
      "115     Virginica\n",
      "Name: variety, dtype: object\n"
     ]
    }
   ],
   "source": [
    "print(train_label)\n",
    "print('*'*30)\n",
    "print(test_label)"
   ]
  },
  {
   "cell_type": "markdown",
   "metadata": {},
   "source": [
    "### 4. Model 생성 및 학습"
   ]
  },
  {
   "cell_type": "code",
   "execution_count": 7,
   "metadata": {},
   "outputs": [
    {
     "data": {
      "text/plain": [
       "SVC()"
      ]
     },
     "execution_count": 7,
     "metadata": {},
     "output_type": "execute_result"
    }
   ],
   "source": [
    "model = SVC()\n",
    "#학습할때는 전체데이타를 학습시키는 것이 아니라\n",
    "# 학습용모델 데이타만 적용해야 한다.\n",
    "# 별다른 옵션을 사용하지 않으면 전체데이타의 75% 학습용으로 빠진다.\n",
    "model.fit(train_data, train_label)"
   ]
  },
  {
   "cell_type": "markdown",
   "metadata": {},
   "source": [
    "### 5. 예측"
   ]
  },
  {
   "cell_type": "code",
   "execution_count": 8,
   "metadata": {},
   "outputs": [
    {
     "name": "stdout",
     "output_type": "stream",
     "text": [
      "['Versicolor' 'Versicolor' 'Setosa' 'Versicolor' 'Setosa' 'Versicolor'\n",
      " 'Setosa' 'Setosa' 'Virginica' 'Virginica' 'Setosa' 'Virginica'\n",
      " 'Virginica' 'Virginica' 'Virginica' 'Virginica' 'Virginica' 'Versicolor'\n",
      " 'Setosa' 'Virginica' 'Setosa' 'Virginica' 'Virginica' 'Setosa'\n",
      " 'Virginica' 'Virginica' 'Setosa' 'Virginica' 'Virginica' 'Versicolor'\n",
      " 'Setosa' 'Virginica' 'Setosa' 'Versicolor' 'Versicolor' 'Setosa'\n",
      " 'Versicolor' 'Virginica']\n"
     ]
    }
   ],
   "source": [
    "pred=model.predict(test_data)\n",
    "\n",
    "print(pred)"
   ]
  },
  {
   "cell_type": "code",
   "execution_count": 9,
   "metadata": {},
   "outputs": [
    {
     "name": "stdout",
     "output_type": "stream",
     "text": [
      "56     Versicolor\n",
      "66     Versicolor\n",
      "21         Setosa\n",
      "73     Versicolor\n",
      "10         Setosa\n",
      "53     Versicolor\n",
      "43         Setosa\n",
      "16         Setosa\n",
      "131     Virginica\n",
      "128     Virginica\n",
      "7          Setosa\n",
      "111     Virginica\n",
      "83     Versicolor\n",
      "100     Virginica\n",
      "147     Virginica\n",
      "125     Virginica\n",
      "122     Virginica\n",
      "88     Versicolor\n",
      "8          Setosa\n",
      "136     Virginica\n",
      "19         Setosa\n",
      "77     Versicolor\n",
      "103     Virginica\n",
      "49         Setosa\n",
      "126     Virginica\n",
      "104     Virginica\n",
      "37         Setosa\n",
      "127     Virginica\n",
      "145     Virginica\n",
      "78     Versicolor\n",
      "46         Setosa\n",
      "102     Virginica\n",
      "35         Setosa\n",
      "55     Versicolor\n",
      "50     Versicolor\n",
      "0          Setosa\n",
      "69     Versicolor\n",
      "115     Virginica\n",
      "Name: variety, dtype: object\n"
     ]
    }
   ],
   "source": [
    "print(test_label)"
   ]
  },
  {
   "cell_type": "code",
   "execution_count": 10,
   "metadata": {},
   "outputs": [
    {
     "name": "stdout",
     "output_type": "stream",
     "text": [
      "94.73684210526315\n"
     ]
    }
   ],
   "source": [
    "# 예측한 값과 정답 사이의 정확도를 구해본다.\n",
    "\n",
    "score=accuracy_score(pred, test_label)\n",
    "score\n",
    "'''\n",
    "score가 0~1사이의 값으로 나오기 때문에\n",
    "100을 곱해주면 퍼센트 값을 알수 있다.\n",
    "\n",
    "'''\n",
    "\n",
    "print(score * 100)"
   ]
  },
  {
   "cell_type": "code",
   "execution_count": 4,
   "metadata": {},
   "outputs": [],
   "source": [
    "import graphviz"
   ]
  }
 ],
 "metadata": {
  "kernelspec": {
   "display_name": "Python 3",
   "language": "python",
   "name": "python3"
  },
  "language_info": {
   "codemirror_mode": {
    "name": "ipython",
    "version": 3
   },
   "file_extension": ".py",
   "mimetype": "text/x-python",
   "name": "python",
   "nbconvert_exporter": "python",
   "pygments_lexer": "ipython3",
   "version": "3.8.5"
  }
 },
 "nbformat": 4,
 "nbformat_minor": 4
}
