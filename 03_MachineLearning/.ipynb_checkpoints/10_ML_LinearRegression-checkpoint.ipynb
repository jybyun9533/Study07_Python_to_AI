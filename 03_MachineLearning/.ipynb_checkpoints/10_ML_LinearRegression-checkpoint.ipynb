{
 "cells": [
  {
   "cell_type": "markdown",
   "metadata": {},
   "source": [
    "## 선형회귀(Linear Regression) - 심화\n",
    "\n",
    "    선형회귀는 쉽게 접근하면 쉽고 어렵게 접근하면 매우 어려운 기술이다.\n",
    "    전제로 2가지가 정의되어 있어야 하는데\n",
    "    1) 기본적인 가설 - Hypothesis Function\n",
    "    2) Cost Function\n",
    "        Cost는 비용으로 적게 드는 것이 좋은것\n",
    "        Cost가 안드는 것이 가장 Best\n",
    "        머신러닝 , 딥러닝에서는 학습을 진행하면서 모델(머신)이 멈춰야 할 시점을\n",
    "        알아야 한다.\n",
    "        바로 Cost가 0이 되는 시점이 Running을 멈춰야 하는 시점이다.\n",
    "        \n",
    "        기본적으로 예측값과 실제값 사이의 오차가 적을수록 0에 수렴된다.\n",
    "     3) HyperParameter - learning_rate\n",
    "        Cost를 줄여나가는 학습을 하면서 주의할 부분은\n",
    "        학습이 진행됨에 따라서 학습의 속도를 줄이는 것이다.\n",
    "        경사를 내려가는 보폭을 줄이는 것과 같은 원리로 Cost가 0이 되는 지점을\n",
    "        통과하지 않기 위해서는 필수적으로 지정해야 하는 속성이다.\n",
    "        "
   ]
  },
  {
   "cell_type": "markdown",
   "metadata": {},
   "source": [
    "#### Linear Regression을 활용하여 섭씨온도(C, Celsius)를 화씨온도(F, Fahrenheit)로 변환해주는 공식을 만들수 있다. \n",
    "섭씨온도과 화씨온도의 관계는 앞에서 우리가 살펴보았던 선형회귀의 관계를 가지고 있다.\n",
    "#### <span style=\"color:red\"> H(x) = aX + b 에서처럼, F = C*1.8 +32  </span>\n",
    "이때, 1.8과 32라는 값을 모르고 있다고 가정하고, 머신러닝 알고리즘을 이용해서 주어진 섭씨 온도와 화씨온도 데이타 만으로 이 값들을 찾아내는 실습을 진행해보도록 하겠다.\n",
    "<u><span style=\"color:red\">[Chain Rule 증명](https://www.khanacademy.org/math/ap-calculus-ab/ab-differentiation-2-new/ab-3-1b/a/proving-the-chain-rule) </span></u>"
   ]
  },
  {
   "cell_type": "markdown",
   "metadata": {},
   "source": [
    "### Configuration (or prerequisite)"
   ]
  },
  {
   "cell_type": "code",
   "execution_count": 1,
   "metadata": {},
   "outputs": [],
   "source": [
    "%matplotlib inline\n",
    "import numpy as np\n",
    "import pandas as pd\n",
    "import matplotlib.pyplot as plt"
   ]
  },
  {
   "cell_type": "markdown",
   "metadata": {},
   "source": [
    "### Generate Dataset"
   ]
  },
  {
   "cell_type": "markdown",
   "metadata": {},
   "source": [
    "####  <span style=\"color:blue\">선형회귀 문제를 다루기 위한 학습용 데이타셋을 생성</span>\n",
    "0도에서 100도 사이의 값을 갖는 섭씨온도 데이타를 100개 만들어보자\n",
    "이 데이타가 해당 머신러닝 알고리즘에서 사실상 Feature가 될 것이다."
   ]
  },
  {
   "cell_type": "code",
   "execution_count": 2,
   "metadata": {},
   "outputs": [
    {
     "data": {
      "text/plain": [
       "array([13, 19, 75, 35, 26, 40, 72, 82, 78, 83, 84,  2, 58, 42, 56, 45, 19,\n",
       "       36, 87, 70, 54,  4, 50, 21, 57, 42,  4, 68, 86, 64, 95, 71, 98, 32,\n",
       "       64, 17, 16, 43, 91, 66, 19, 21,  8, 38, 86, 86, 39, 80, 36, 13, 74,\n",
       "       17, 53, 17, 16, 86, 41, 11,  5, 52, 92, 42, 50, 18,  2, 13,  5,  5,\n",
       "       59, 66, 54, 49, 42, 12, 10, 68, 67, 62,  8, 39, 69, 90, 29, 61, 63,\n",
       "       49, 99, 55, 18, 35, 67, 43, 44,  4, 62, 54, 51,  9, 44, 90])"
      ]
     },
     "execution_count": 2,
     "metadata": {},
     "output_type": "execute_result"
    }
   ],
   "source": [
    "# C = np.random.randint(0,100)\n",
    "# C = np.random.randint(0,100,size=100)\n",
    "C = np.random.randint(0,100,size=100)\n",
    "C"
   ]
  },
  {
   "cell_type": "code",
   "execution_count": 3,
   "metadata": {},
   "outputs": [
    {
     "data": {
      "text/plain": [
       "array([13, 19, 75, 35, 26, 40, 72, 82, 78, 83])"
      ]
     },
     "execution_count": 3,
     "metadata": {},
     "output_type": "execute_result"
    }
   ],
   "source": [
    "'''\n",
    "섭씨온도 데이터를 담고있는 C의 shape를 확인합니다. (100,)로 100개의 데이터가 있습니다.\n",
    "C의 첫 10개 값을 확인합니다. \n",
    "'''\n",
    "\n",
    "C.shape\n",
    "C[:10]"
   ]
  },
  {
   "cell_type": "markdown",
   "metadata": {},
   "source": [
    "### 섭씨온도 데이타에 상응하는 화씨온도를 생성\n",
    "#### <span style=\"color:blue\">우리가 알고있던 기존의 섭씨-화씨변환 공식을 적용해서 위 섭씨온도 데이타에 대응하는 화씨온도 데이타를 생성.</span> \n",
    "이 데이타가 오늘 다룰 학습 모델 알고리즘의 Label이 될 것이다."
   ]
  },
  {
   "cell_type": "code",
   "execution_count": 4,
   "metadata": {},
   "outputs": [
    {
     "data": {
      "text/plain": [
       "array([ 55.4,  66.2, 167. ,  95. ,  78.8, 104. , 161.6, 179.6, 172.4,\n",
       "       181.4, 183.2,  35.6, 136.4, 107.6, 132.8, 113. ,  66.2,  96.8,\n",
       "       188.6, 158. , 129.2,  39.2, 122. ,  69.8, 134.6, 107.6,  39.2,\n",
       "       154.4, 186.8, 147.2, 203. , 159.8, 208.4,  89.6, 147.2,  62.6,\n",
       "        60.8, 109.4, 195.8, 150.8,  66.2,  69.8,  46.4, 100.4, 186.8,\n",
       "       186.8, 102.2, 176. ,  96.8,  55.4, 165.2,  62.6, 127.4,  62.6,\n",
       "        60.8, 186.8, 105.8,  51.8,  41. , 125.6, 197.6, 107.6, 122. ,\n",
       "        64.4,  35.6,  55.4,  41. ,  41. , 138.2, 150.8, 129.2, 120.2,\n",
       "       107.6,  53.6,  50. , 154.4, 152.6, 143.6,  46.4, 102.2, 156.2,\n",
       "       194. ,  84.2, 141.8, 145.4, 120.2, 210.2, 131. ,  64.4,  95. ,\n",
       "       152.6, 109.4, 111.2,  39.2, 143.6, 129.2, 123.8,  48.2, 111.2,\n",
       "       194. ])"
      ]
     },
     "execution_count": 4,
     "metadata": {},
     "output_type": "execute_result"
    }
   ],
   "source": [
    "F = C * 1.8 + 32\n",
    "F"
   ]
  },
  {
   "cell_type": "code",
   "execution_count": 5,
   "metadata": {},
   "outputs": [
    {
     "data": {
      "text/plain": [
       "array([ 55.4,  66.2, 167. ,  95. ,  78.8, 104. , 161.6, 179.6, 172.4,\n",
       "       181.4])"
      ]
     },
     "execution_count": 5,
     "metadata": {},
     "output_type": "execute_result"
    }
   ],
   "source": [
    "F[:10]"
   ]
  },
  {
   "cell_type": "markdown",
   "metadata": {},
   "source": [
    "### Visualization\n",
    "    위에서 우리가 만든 \n",
    "    Feature(Celsius Temperature)\n",
    "    Label(Fahrenheit Temperature)\n",
    "    직관적으로 확인할수 있도록 matplot을 이용해서 시각화해보자."
   ]
  },
  {
   "cell_type": "code",
   "execution_count": 6,
   "metadata": {},
   "outputs": [
    {
     "data": {
      "image/png": "[encoded data removed]",
      "text/plain": [
       "<Figure size 432x288 with 1 Axes>"
      ]
     },
     "metadata": {
      "needs_background": "light"
     },
     "output_type": "display_data"
    }
   ],
   "source": [
    "plt.scatter(C,F)\n",
    "plt.xlabel('Celsius Temperature')\n",
    "plt.ylabel('Fahrenheit Temperature')\n",
    "plt.show()"
   ]
  },
  {
   "cell_type": "markdown",
   "metadata": {},
   "source": [
    "### Bias (편향 찾기) -- Weight는 1.8"
   ]
  },
  {
   "cell_type": "markdown",
   "metadata": {},
   "source": [
    "####  <span style=\"color:blue\">Weight는 1.8로 주고 Bias를 직관적으로 한번 찾아보겠다.</span>"
   ]
  },
  {
   "cell_type": "code",
   "execution_count": 7,
   "metadata": {},
   "outputs": [],
   "source": [
    "# 먼저 엎서서 만들어놓은 속성C, 라벨F를 각각 X, y에 다시 대입해보자\n",
    "X = C\n",
    "y = F"
   ]
  },
  {
   "cell_type": "code",
   "execution_count": 8,
   "metadata": {},
   "outputs": [
    {
     "data": {
      "text/plain": [
       "(1.8, -0.5346796761473516)"
      ]
     },
     "execution_count": 8,
     "metadata": {},
     "output_type": "execute_result"
    }
   ],
   "source": [
    "w = 1.8 # 이건 알고 있는거 그대로 대입\n",
    "# b는 랜덤한 값 넣어보자...원래 정답은 32였다\n",
    "b=  np.random.uniform(low=-1.0, high = 1.0)\n",
    "\n",
    "w,b"
   ]
  },
  {
   "cell_type": "code",
   "execution_count": 9,
   "metadata": {},
   "outputs": [
    {
     "data": {
      "text/plain": [
       "array([ 22.86532032,  33.66532032, 134.46532032,  62.46532032,\n",
       "        46.26532032,  71.46532032, 129.06532032, 147.06532032,\n",
       "       139.86532032, 148.86532032])"
      ]
     },
     "execution_count": 9,
     "metadata": {},
     "output_type": "execute_result"
    }
   ],
   "source": [
    "y_predict = w * X + b\n",
    "y_predict[0:10]"
   ]
  },
  {
   "cell_type": "code",
   "execution_count": 10,
   "metadata": {},
   "outputs": [
    {
     "data": {
      "text/plain": [
       "[<matplotlib.lines.Line2D at 0x1f25588a880>]"
      ]
     },
     "execution_count": 10,
     "metadata": {},
     "output_type": "execute_result"
    },
    {
     "data": {
      "image/png": "[encoded data removed]",
      "text/plain": [
       "<Figure size 432x288 with 1 Axes>"
      ]
     },
     "metadata": {
      "needs_background": "light"
     },
     "output_type": "display_data"
    }
   ],
   "source": [
    "plt.scatter(C,F)\n",
    "plt.plot(C,y_predict, c = 'r')"
   ]
  },
  {
   "cell_type": "code",
   "execution_count": 11,
   "metadata": {},
   "outputs": [
    {
     "data": {
      "text/plain": [
       "31.999999999999996"
      ]
     },
     "execution_count": 11,
     "metadata": {},
     "output_type": "execute_result"
    }
   ],
   "source": [
    "'''\n",
    "y_predict  - y 는 오차\n",
    "이만큼의 오차만큼 bias에 다시 보정(수정)을 해주자\n",
    "'''\n",
    "b=b - (y_predict  - y ).mean()\n",
    "b"
   ]
  },
  {
   "cell_type": "markdown",
   "metadata": {},
   "source": [
    "#### 위에서 다시 보정한 bias 값으로 예측값을 다시 만든다."
   ]
  },
  {
   "cell_type": "code",
   "execution_count": 12,
   "metadata": {},
   "outputs": [
    {
     "data": {
      "text/plain": [
       "array([ 55.4,  66.2, 167. ,  95. ,  78.8, 104. , 161.6, 179.6, 172.4,\n",
       "       181.4])"
      ]
     },
     "execution_count": 12,
     "metadata": {},
     "output_type": "execute_result"
    }
   ],
   "source": [
    "y_predict =  w *X + b\n",
    "y_predict[:10]"
   ]
  },
  {
   "cell_type": "code",
   "execution_count": 14,
   "metadata": {},
   "outputs": [
    {
     "data": {
      "text/plain": [
       "[<matplotlib.lines.Line2D at 0x1f25594a310>]"
      ]
     },
     "execution_count": 14,
     "metadata": {},
     "output_type": "execute_result"
    },
    {
     "data": {
      "image/png": "[encoded data removed]",
      "text/plain": [
       "<Figure size 432x288 with 1 Axes>"
      ]
     },
     "metadata": {
      "needs_background": "light"
     },
     "output_type": "display_data"
    }
   ],
   "source": [
    "plt.scatter(C,F)\n",
    "plt.plot(C,y_predict, c = 'r')"
   ]
  },
  {
   "cell_type": "markdown",
   "metadata": {},
   "source": [
    "### 가중치(Weight, W), 편향(Bias, B) 찾기"
   ]
  },
  {
   "cell_type": "markdown",
   "metadata": {},
   "source": [
    "#### 정규분포에 해당하는 w,b값을 랜덤하게 지정해서 초기화\n",
    "      실제값과 예측치 결과값과의 차이를 시각화해서 확인\n",
    "      아무리 랜덤한 값으로 학습을 한다고 하더라도 데이타의 특정한 분포가 \n",
    "      없다면 학습이 이뤄지지 않는다.\n",
    "      앞에서와 마찬가지로 w, b에 해당하는 값을 램덤하게 추출할것이지만\n",
    "      여전히 uniform() 함수를 이용해서 값을 추출하도록 한다."
   ]
  },
  {
   "cell_type": "code",
   "execution_count": 15,
   "metadata": {},
   "outputs": [
    {
     "data": {
      "text/plain": [
       "(0.4849868002006352, 0.6526404171621945)"
      ]
     },
     "execution_count": 15,
     "metadata": {},
     "output_type": "execute_result"
    }
   ],
   "source": [
    "w = np.random.uniform(low=  -1.0, high = 1.0)\n",
    "b = np.random.uniform(low=  -1.0, high = 1.0)\n",
    "w,b"
   ]
  },
  {
   "cell_type": "code",
   "execution_count": 16,
   "metadata": {},
   "outputs": [
    {
     "data": {
      "text/plain": [
       "array([ 6.95746882,  9.86738962, 37.02665043, 17.62717842, 13.26229722,\n",
       "       20.05211243, 35.57169003, 40.42155803, 38.48161083, 40.90654483])"
      ]
     },
     "execution_count": 16,
     "metadata": {},
     "output_type": "execute_result"
    }
   ],
   "source": [
    "y_predict = w * X + b\n",
    "y_predict[:10]"
   ]
  },
  {
   "cell_type": "code",
   "execution_count": 17,
   "metadata": {},
   "outputs": [
    {
     "data": {
      "text/plain": [
       "[<matplotlib.lines.Line2D at 0x1f2559a5340>]"
      ]
     },
     "execution_count": 17,
     "metadata": {},
     "output_type": "execute_result"
    },
    {
     "data": {
      "image/png": "[encoded data removed]",
      "text/plain": [
       "<Figure size 432x288 with 1 Axes>"
      ]
     },
     "metadata": {
      "needs_background": "light"
     },
     "output_type": "display_data"
    }
   ],
   "source": [
    "plt.scatter(C,F)\n",
    "plt.plot(C,y_predict, c = 'r')"
   ]
  },
  {
   "cell_type": "markdown",
   "metadata": {},
   "source": [
    "#### <span style=\"color:blue\">선형 회귀의 학습이 끝났으면, 이제 이 머신러닝 알고리즘을 활용하여 변환공식을 완성하고, 주어진 섭씨온도를 화씨온도로 변환(혹은 섭씨온도로 화씨온도를 예측)할 수 있습니다. 앞서 만들어준 데이터를 그대로 활용하여 주어진 섭씨온도(C)로 화씨온도를 예측해보겠습니다.</span>"
   ]
  },
  {
   "cell_type": "markdown",
   "metadata": {},
   "source": [
    "### Gradient Descent"
   ]
  },
  {
   "cell_type": "markdown",
   "metadata": {},
   "source": [
    "####  <span style=\"color:red\">이제 경사하강법(Gradient Descent)을 사용하여 섭씨온도를 화씨온도로 변환해줄 주 있는 공식을 찾아보겠다.</span>\n",
    "공식의 세부내용은 모른다치고, 두 변수(X,y)가 선형(Linear)과 관계있음을 가정(y=X * w + b)하여 가중치(weight)와 편차(bias)를 정의해 둔다. 그리고 경사하강법을 이용해서 선형회귀를 학습시킨다.\n",
    "학습이 완료되면, 얻어진 최적의 가중치와 편차로 섭씨온도를 화씨온도로 변환해주는 공식을 만들어 줄수 있다.\n",
    "학습은 모든 epoch이 끝날 때까지 반복할 수도 있지만, 여기선 오차(error)가 0.1 이하가 되면 학습을 종료하도록 한다."
   ]
  },
  {
   "cell_type": "code",
   "execution_count": 18,
   "metadata": {},
   "outputs": [
    {
     "name": "stdout",
     "output_type": "stream",
     "text": [
      "    0, w=2.038015,b = 0.830462, error = 108.206840\n",
      "10000, w=2.027839,b = 17.667221, error = 6.007830\n",
      "20000, w=1.904782,b = 25.408452, error = 2.762960\n",
      "30000, w=1.848188,b = 28.968592, error = 1.270667\n",
      "40000, w=1.822162,b = 30.605876, error = 0.584371\n",
      "50000, w=1.810192,b = 31.358852, error = 0.268748\n",
      "60000, w=1.804687,b = 31.705140, error = 0.123596\n",
      "--------------------------------------------------------------------------------\n",
      "62728, w=1.803792,b = 31.761427, error = 0.099994\n"
     ]
    }
   ],
   "source": [
    "num_epoch = 100000 #학습을 볓번 반복할지의 횟수를 지정, for문을 몇번 돌건지와 연결\n",
    "learning_rate = 0.0003 # 학습이 진행됨에 따라서 보폭을 결정하는 하이퍼파라미터\n",
    "\n",
    "# 정규분포안에 랜덤한 값으로 w,b를 얻어온다\n",
    "w = np.random.uniform(low=  -1.0, high = 1.0) # 가중치\n",
    "b = np.random.uniform(low=  -1.0, high = 1.0) # 편차\n",
    "\n",
    "for epoch in range(num_epoch):\n",
    "    y_predict = w * X +b # 일단 먼저 예측한 가설이 나온다.\n",
    "    \n",
    "    error = np.abs(y_predict - y).mean() #현재 오차를 구한다. 오차는 MSE() 사용해도 무방\n",
    "    \n",
    "    # error(loss, cost)가 0에 가까워지면 학습을 멈추도록 한다.\n",
    "    if error < 0.1:\n",
    "        break\n",
    "    \n",
    "    # if 조건이 만족될때 까지 w, b 값을 보정해 나가야 한다.\n",
    "    w = w - learning_rate *((y_predict - y) * X).mean()\n",
    "    b= b - learning_rate * (y_predict  - y ).mean()\n",
    "    \n",
    "    if epoch % 10000 ==0: \n",
    "        print(f'{epoch:5}, w={w:.6f},b = {b:.6f}, error = {error:.6f}')\n",
    "\n",
    "# 최종 결과를 출력\n",
    "print('--------'*10)\n",
    "print(f'{epoch:5}, w={w:.6f},b = {b:.6f}, error = {error:.6f}')"
   ]
  },
  {
   "cell_type": "markdown",
   "metadata": {},
   "source": [
    "### Predict"
   ]
  },
  {
   "cell_type": "code",
   "execution_count": 19,
   "metadata": {},
   "outputs": [
    {
     "data": {
      "text/plain": [
       "array([ 55.21072847,  66.03348322, 167.04586082,  94.89416253,\n",
       "        78.66003042])"
      ]
     },
     "execution_count": 19,
     "metadata": {},
     "output_type": "execute_result"
    }
   ],
   "source": [
    "# 위에서 Cost 0.099일떄 받은 W,B값으로 가설을 다시 세워보자\n",
    "y_predict = w * C + b\n",
    "y_predict[:5]"
   ]
  },
  {
   "cell_type": "code",
   "execution_count": 20,
   "metadata": {},
   "outputs": [
    {
     "data": {
      "text/html": [
       "<div>\n",
       "<style scoped>\n",
       "    .dataframe tbody tr th:only-of-type {\n",
       "        vertical-align: middle;\n",
       "    }\n",
       "\n",
       "    .dataframe tbody tr th {\n",
       "        vertical-align: top;\n",
       "    }\n",
       "\n",
       "    .dataframe thead th {\n",
       "        text-align: right;\n",
       "    }\n",
       "</style>\n",
       "<table border=\"1\" class=\"dataframe\">\n",
       "  <thead>\n",
       "    <tr style=\"text-align: right;\">\n",
       "      <th></th>\n",
       "      <th>C</th>\n",
       "      <th>F</th>\n",
       "      <th>F(Predict)</th>\n",
       "    </tr>\n",
       "  </thead>\n",
       "  <tbody>\n",
       "    <tr>\n",
       "      <th>0</th>\n",
       "      <td>13</td>\n",
       "      <td>55.4</td>\n",
       "      <td>55.210728</td>\n",
       "    </tr>\n",
       "    <tr>\n",
       "      <th>1</th>\n",
       "      <td>19</td>\n",
       "      <td>66.2</td>\n",
       "      <td>66.033483</td>\n",
       "    </tr>\n",
       "    <tr>\n",
       "      <th>2</th>\n",
       "      <td>75</td>\n",
       "      <td>167.0</td>\n",
       "      <td>167.045861</td>\n",
       "    </tr>\n",
       "    <tr>\n",
       "      <th>3</th>\n",
       "      <td>35</td>\n",
       "      <td>95.0</td>\n",
       "      <td>94.894163</td>\n",
       "    </tr>\n",
       "    <tr>\n",
       "      <th>4</th>\n",
       "      <td>26</td>\n",
       "      <td>78.8</td>\n",
       "      <td>78.660030</td>\n",
       "    </tr>\n",
       "    <tr>\n",
       "      <th>5</th>\n",
       "      <td>40</td>\n",
       "      <td>104.0</td>\n",
       "      <td>103.913125</td>\n",
       "    </tr>\n",
       "    <tr>\n",
       "      <th>6</th>\n",
       "      <td>72</td>\n",
       "      <td>161.6</td>\n",
       "      <td>161.634483</td>\n",
       "    </tr>\n",
       "    <tr>\n",
       "      <th>7</th>\n",
       "      <td>82</td>\n",
       "      <td>179.6</td>\n",
       "      <td>179.672408</td>\n",
       "    </tr>\n",
       "    <tr>\n",
       "      <th>8</th>\n",
       "      <td>78</td>\n",
       "      <td>172.4</td>\n",
       "      <td>172.457238</td>\n",
       "    </tr>\n",
       "    <tr>\n",
       "      <th>9</th>\n",
       "      <td>83</td>\n",
       "      <td>181.4</td>\n",
       "      <td>181.476200</td>\n",
       "    </tr>\n",
       "  </tbody>\n",
       "</table>\n",
       "</div>"
      ],
      "text/plain": [
       "    C      F  F(Predict)\n",
       "0  13   55.4   55.210728\n",
       "1  19   66.2   66.033483\n",
       "2  75  167.0  167.045861\n",
       "3  35   95.0   94.894163\n",
       "4  26   78.8   78.660030\n",
       "5  40  104.0  103.913125\n",
       "6  72  161.6  161.634483\n",
       "7  82  179.6  179.672408\n",
       "8  78  172.4  172.457238\n",
       "9  83  181.4  181.476200"
      ]
     },
     "execution_count": 20,
     "metadata": {},
     "output_type": "execute_result"
    }
   ],
   "source": [
    "# 처음에 나왔던 섭씨, 화씨온도와 표로 예측한 온도를 비교해 보자\n",
    "result = pd.DataFrame({\"C\":C, \"F\":F, \"F(Predict)\":y_predict})\n",
    "result.head(10)"
   ]
  },
  {
   "cell_type": "code",
   "execution_count": 21,
   "metadata": {},
   "outputs": [
    {
     "data": {
      "text/plain": [
       "[<matplotlib.lines.Line2D at 0x1f2557bddc0>]"
      ]
     },
     "execution_count": 21,
     "metadata": {},
     "output_type": "execute_result"
    },
    {
     "data": {
      "image/png": "[encoded data removed]",
      "text/plain": [
       "<Figure size 432x288 with 1 Axes>"
      ]
     },
     "metadata": {
      "needs_background": "light"
     },
     "output_type": "display_data"
    }
   ],
   "source": [
    "plt.scatter(C,F)\n",
    "plt.plot(C,y_predict, c = 'r')"
   ]
  }
 ],
 "metadata": {
  "kernelspec": {
   "display_name": "Python 3",
   "language": "python",
   "name": "python3"
  },
  "language_info": {
   "codemirror_mode": {
    "name": "ipython",
    "version": 3
   },
   "file_extension": ".py",
   "mimetype": "text/x-python",
   "name": "python",
   "nbconvert_exporter": "python",
   "pygments_lexer": "ipython3",
   "version": "3.8.5"
  }
 },
 "nbformat": 4,
 "nbformat_minor": 4
}
