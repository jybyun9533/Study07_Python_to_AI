{
  "nbformat": 4,
  "nbformat_minor": 0,
  "metadata": {
    "colab": {
      "name": "deep_cifar10",
      "provenance": [],
      "collapsed_sections": []
    },
    "kernelspec": {
      "name": "python3",
      "display_name": "Python 3"
    },
    "language_info": {
      "name": "python"
    },
    "accelerator": "GPU",
    "widgets": {
      "application/vnd.jupyter.widget-state+json": {
        "3674e44b0ef24b4aa8776df60eb0a887": {
          "model_module": "@jupyter-widgets/controls",
          "model_name": "HBoxModel",
          "state": {
            "_view_name": "HBoxView",
            "_dom_classes": [],
            "_model_name": "HBoxModel",
            "_view_module": "@jupyter-widgets/controls",
            "_model_module_version": "1.5.0",
            "_view_count": null,
            "_view_module_version": "1.5.0",
            "box_style": "",
            "layout": "IPY_MODEL_5e82874e261a47538a47a805283bfa75",
            "_model_module": "@jupyter-widgets/controls",
            "children": [
              "IPY_MODEL_2ba0304f993149eb914fef699af55c70",
              "IPY_MODEL_ccce915095564d5ca15430a93daffeb3"
            ]
          }
        },
        "5e82874e261a47538a47a805283bfa75": {
          "model_module": "@jupyter-widgets/base",
          "model_name": "LayoutModel",
          "state": {
            "_view_name": "LayoutView",
            "grid_template_rows": null,
            "right": null,
            "justify_content": null,
            "_view_module": "@jupyter-widgets/base",
            "overflow": null,
            "_model_module_version": "1.2.0",
            "_view_count": null,
            "flex_flow": null,
            "width": null,
            "min_width": null,
            "border": null,
            "align_items": null,
            "bottom": null,
            "_model_module": "@jupyter-widgets/base",
            "top": null,
            "grid_column": null,
            "overflow_y": null,
            "overflow_x": null,
            "grid_auto_flow": null,
            "grid_area": null,
            "grid_template_columns": null,
            "flex": null,
            "_model_name": "LayoutModel",
            "justify_items": null,
            "grid_row": null,
            "max_height": null,
            "align_content": null,
            "visibility": null,
            "align_self": null,
            "height": null,
            "min_height": null,
            "padding": null,
            "grid_auto_rows": null,
            "grid_gap": null,
            "max_width": null,
            "order": null,
            "_view_module_version": "1.2.0",
            "grid_template_areas": null,
            "object_position": null,
            "object_fit": null,
            "grid_auto_columns": null,
            "margin": null,
            "display": null,
            "left": null
          }
        },
        "2ba0304f993149eb914fef699af55c70": {
          "model_module": "@jupyter-widgets/controls",
          "model_name": "FloatProgressModel",
          "state": {
            "_view_name": "ProgressView",
            "style": "IPY_MODEL_3b6d724637c24792a9ee896074fac447",
            "_dom_classes": [],
            "description": "",
            "_model_name": "FloatProgressModel",
            "bar_style": "success",
            "max": 170498071,
            "_view_module": "@jupyter-widgets/controls",
            "_model_module_version": "1.5.0",
            "value": 170498071,
            "_view_count": null,
            "_view_module_version": "1.5.0",
            "orientation": "horizontal",
            "min": 0,
            "description_tooltip": null,
            "_model_module": "@jupyter-widgets/controls",
            "layout": "IPY_MODEL_92e6d7078955424abe22df8799b18ed8"
          }
        },
        "ccce915095564d5ca15430a93daffeb3": {
          "model_module": "@jupyter-widgets/controls",
          "model_name": "HTMLModel",
          "state": {
            "_view_name": "HTMLView",
            "style": "IPY_MODEL_5bb0b46b354c4363bbc7e652cc96886a",
            "_dom_classes": [],
            "description": "",
            "_model_name": "HTMLModel",
            "placeholder": "​",
            "_view_module": "@jupyter-widgets/controls",
            "_model_module_version": "1.5.0",
            "value": " 170499072/? [15:34&lt;00:00, 182455.62it/s]",
            "_view_count": null,
            "_view_module_version": "1.5.0",
            "description_tooltip": null,
            "_model_module": "@jupyter-widgets/controls",
            "layout": "IPY_MODEL_a867126774d542c2ae527eb84f6b29bc"
          }
        },
        "3b6d724637c24792a9ee896074fac447": {
          "model_module": "@jupyter-widgets/controls",
          "model_name": "ProgressStyleModel",
          "state": {
            "_view_name": "StyleView",
            "_model_name": "ProgressStyleModel",
            "description_width": "initial",
            "_view_module": "@jupyter-widgets/base",
            "_model_module_version": "1.5.0",
            "_view_count": null,
            "_view_module_version": "1.2.0",
            "bar_color": null,
            "_model_module": "@jupyter-widgets/controls"
          }
        },
        "92e6d7078955424abe22df8799b18ed8": {
          "model_module": "@jupyter-widgets/base",
          "model_name": "LayoutModel",
          "state": {
            "_view_name": "LayoutView",
            "grid_template_rows": null,
            "right": null,
            "justify_content": null,
            "_view_module": "@jupyter-widgets/base",
            "overflow": null,
            "_model_module_version": "1.2.0",
            "_view_count": null,
            "flex_flow": null,
            "width": null,
            "min_width": null,
            "border": null,
            "align_items": null,
            "bottom": null,
            "_model_module": "@jupyter-widgets/base",
            "top": null,
            "grid_column": null,
            "overflow_y": null,
            "overflow_x": null,
            "grid_auto_flow": null,
            "grid_area": null,
            "grid_template_columns": null,
            "flex": null,
            "_model_name": "LayoutModel",
            "justify_items": null,
            "grid_row": null,
            "max_height": null,
            "align_content": null,
            "visibility": null,
            "align_self": null,
            "height": null,
            "min_height": null,
            "padding": null,
            "grid_auto_rows": null,
            "grid_gap": null,
            "max_width": null,
            "order": null,
            "_view_module_version": "1.2.0",
            "grid_template_areas": null,
            "object_position": null,
            "object_fit": null,
            "grid_auto_columns": null,
            "margin": null,
            "display": null,
            "left": null
          }
        },
        "5bb0b46b354c4363bbc7e652cc96886a": {
          "model_module": "@jupyter-widgets/controls",
          "model_name": "DescriptionStyleModel",
          "state": {
            "_view_name": "StyleView",
            "_model_name": "DescriptionStyleModel",
            "description_width": "",
            "_view_module": "@jupyter-widgets/base",
            "_model_module_version": "1.5.0",
            "_view_count": null,
            "_view_module_version": "1.2.0",
            "_model_module": "@jupyter-widgets/controls"
          }
        },
        "a867126774d542c2ae527eb84f6b29bc": {
          "model_module": "@jupyter-widgets/base",
          "model_name": "LayoutModel",
          "state": {
            "_view_name": "LayoutView",
            "grid_template_rows": null,
            "right": null,
            "justify_content": null,
            "_view_module": "@jupyter-widgets/base",
            "overflow": null,
            "_model_module_version": "1.2.0",
            "_view_count": null,
            "flex_flow": null,
            "width": null,
            "min_width": null,
            "border": null,
            "align_items": null,
            "bottom": null,
            "_model_module": "@jupyter-widgets/base",
            "top": null,
            "grid_column": null,
            "overflow_y": null,
            "overflow_x": null,
            "grid_auto_flow": null,
            "grid_area": null,
            "grid_template_columns": null,
            "flex": null,
            "_model_name": "LayoutModel",
            "justify_items": null,
            "grid_row": null,
            "max_height": null,
            "align_content": null,
            "visibility": null,
            "align_self": null,
            "height": null,
            "min_height": null,
            "padding": null,
            "grid_auto_rows": null,
            "grid_gap": null,
            "max_width": null,
            "order": null,
            "_view_module_version": "1.2.0",
            "grid_template_areas": null,
            "object_position": null,
            "object_fit": null,
            "grid_auto_columns": null,
            "margin": null,
            "display": null,
            "left": null
          }
        }
      }
    }
  },
  "cells": [
    {
      "cell_type": "code",
      "metadata": {
        "colab": {
          "base_uri": "https://localhost:8080/"
        },
        "id": "jpz3aT-kg0xA",
        "outputId": "f1a66ae8-9fc6-4eab-814a-ee660d6b3b5b"
      },
      "source": [
        "import torch \n",
        "import torchvision\n",
        "import torch.nn as nn\n",
        "import torchvision.transforms as transforms\n",
        "import matplotlib.pyplot as plt\n",
        "\n",
        "# 디버깅 모듈 설치\n",
        "import pdb\n",
        "\n",
        "# 우리가 사용할 컴퓨터를 check하는 부분, cpu/gpu 지원받을지. cuda라고 나오면 엔비디아의 gpu 서버임\n",
        "device = torch.device('cuda' if torch.cuda.is_available() else 'cpu')\n",
        "device"
      ],
      "execution_count": 1,
      "outputs": [
        {
          "output_type": "execute_result",
          "data": {
            "text/plain": [
              "device(type='cuda')"
            ]
          },
          "metadata": {
            "tags": []
          },
          "execution_count": 1
        }
      ]
    },
    {
      "cell_type": "code",
      "metadata": {
        "colab": {
          "base_uri": "https://localhost:8080/",
          "height": 350,
          "referenced_widgets": [
            "3674e44b0ef24b4aa8776df60eb0a887",
            "5e82874e261a47538a47a805283bfa75",
            "2ba0304f993149eb914fef699af55c70",
            "ccce915095564d5ca15430a93daffeb3",
            "3b6d724637c24792a9ee896074fac447",
            "92e6d7078955424abe22df8799b18ed8",
            "5bb0b46b354c4363bbc7e652cc96886a",
            "a867126774d542c2ae527eb84f6b29bc"
          ]
        },
        "id": "fFSWMgMCg5Os",
        "outputId": "86feb6a2-6e2a-4b90-8b30-529d73367a0c"
      },
      "source": [
        "# Hyper Parameter 지정\n",
        "input_size = 784 # 입력값이  28 x 28 x 1 / 2차원 이미지를 1차원으로 주욱 펼친 한 장의 이미지 값\n",
        "hidden_size = 500 # hidden layer의 unit 수 / 784를 다시 500으로 줄이고\n",
        "num_classes = 10 # 카테고리 개수, 딥러닝 결과가 10개 나온다.손글씨의 분류는 10개 / 최종적으로는 10개가 나와야 한다. 그림\n",
        "num_epochs = 5\n",
        "batch_size = 100 # 이미지가 아니고 크기가 크지 않은 모델에서는 굳이 쓰일 필요가 없다.\n",
        "learning_rate = 0.001\n",
        "\n",
        "# 데이터셋 로딩 -- 2번에 걸쳐서 로딩\n",
        "# 1단계 - 물리적인 위치에 데이터 저장. 다운로드(training / test)\n",
        "# train_dataset\n",
        "train_dataset = torchvision.datasets.CIFAR10(root='../../data', \n",
        "                                           train=True,\n",
        "                                           transform=transforms.ToTensor(),\n",
        "                                           download=True)\n",
        "# test_dataset\n",
        "test_dataset = torchvision.datasets.CIFAR10(root='../../data', \n",
        "                                           train=False,\n",
        "                                           transform=transforms.ToTensor())\n",
        "\n",
        "# 2단계 - 네트워크에 100개씩 잘라서 로드함\n",
        "# 2 step. DataLoader. BatchSize를 이용함.\n",
        "train_loader = torch.utils.data.DataLoader(dataset=train_dataset,\n",
        "                                           batch_size = batch_size,\n",
        "                                           shuffle=True)\n",
        "test_loader = torch.utils.data.DataLoader(dataset=test_dataset,\n",
        "                                           batch_size = batch_size,\n",
        "                                           shuffle=False)\n",
        "\n",
        "print('1',train_dataset)\n",
        "print('2',test_dataset)\n",
        "print('3',train_loader)"
      ],
      "execution_count": 2,
      "outputs": [
        {
          "output_type": "stream",
          "text": [
            "Downloading https://www.cs.toronto.edu/~kriz/cifar-10-python.tar.gz to ../../data/cifar-10-python.tar.gz\n"
          ],
          "name": "stdout"
        },
        {
          "output_type": "display_data",
          "data": {
            "application/vnd.jupyter.widget-view+json": {
              "model_id": "3674e44b0ef24b4aa8776df60eb0a887",
              "version_minor": 0,
              "version_major": 2
            },
            "text/plain": [
              "HBox(children=(FloatProgress(value=0.0, max=170498071.0), HTML(value='')))"
            ]
          },
          "metadata": {
            "tags": []
          }
        },
        {
          "output_type": "stream",
          "text": [
            "\n",
            "Extracting ../../data/cifar-10-python.tar.gz to ../../data\n",
            "1 Dataset CIFAR10\n",
            "    Number of datapoints: 50000\n",
            "    Root location: ../../data\n",
            "    Split: Train\n",
            "    StandardTransform\n",
            "Transform: ToTensor()\n",
            "2 Dataset CIFAR10\n",
            "    Number of datapoints: 10000\n",
            "    Root location: ../../data\n",
            "    Split: Test\n",
            "    StandardTransform\n",
            "Transform: ToTensor()\n",
            "3 <torch.utils.data.dataloader.DataLoader object at 0x7f945e60bfd0>\n"
          ],
          "name": "stdout"
        }
      ]
    },
    {
      "cell_type": "code",
      "metadata": {
        "id": "fBlkVJlEg5RT"
      },
      "source": [
        "class ConvNet(nn.Module):\n",
        "  def __init__(self, num_classes = 10):\n",
        "      \"\"\"CNN Builder.\"\"\"\n",
        "      super(ConvNet, self).__init__()\n",
        "\n",
        "      self.conv_layer = nn.Sequential(\n",
        "\n",
        "          # Conv Layer block 1\n",
        "          nn.Conv2d(in_channels=3, out_channels=32, kernel_size=3, padding=1),\n",
        "          nn.BatchNorm2d(32),\n",
        "          nn.ReLU(inplace=True),\n",
        "          nn.Conv2d(in_channels=32, out_channels=64, kernel_size=3, padding=1),\n",
        "          nn.ReLU(inplace=True),\n",
        "          nn.MaxPool2d(kernel_size=2, stride=2),\n",
        "\n",
        "          # Conv Layer block 2\n",
        "          nn.Conv2d(in_channels=64, out_channels=128, kernel_size=3, padding=1),\n",
        "          nn.BatchNorm2d(128),\n",
        "          nn.ReLU(inplace=True),\n",
        "          nn.Conv2d(in_channels=128, out_channels=128, kernel_size=3, padding=1),\n",
        "          nn.ReLU(inplace=True),\n",
        "          nn.MaxPool2d(kernel_size=2, stride=2),\n",
        "          nn.Dropout2d(p=0.05),\n",
        "\n",
        "          # Conv Layer block 3\n",
        "          nn.Conv2d(in_channels=128, out_channels=256, kernel_size=3, padding=1),\n",
        "          nn.BatchNorm2d(256),\n",
        "          nn.ReLU(inplace=True),\n",
        "          nn.Conv2d(in_channels=256, out_channels=256, kernel_size=3, padding=1),\n",
        "          nn.ReLU(inplace=True),\n",
        "          nn.MaxPool2d(kernel_size=2, stride=2),\n",
        "      )\n",
        "\n",
        "\n",
        "      self.fc_layer = nn.Sequential(\n",
        "          nn.Dropout(p=0.1),\n",
        "          nn.Linear(4096, 1024),\n",
        "          nn.ReLU(inplace=True),\n",
        "          nn.Linear(1024, 512),\n",
        "          nn.ReLU(inplace=True),\n",
        "          nn.Dropout(p=0.1),\n",
        "          nn.Linear(512, 10)\n",
        "      )\n",
        "\n",
        "\n",
        "  def forward(self, x):\n",
        "      \"\"\"Perform forward.\"\"\"\n",
        "      \n",
        "      # conv layers\n",
        "      x = self.conv_layer(x)\n",
        "      \n",
        "      # flatten\n",
        "      x = x.view(x.size(0), -1)\n",
        "      \n",
        "      # fc layer\n",
        "      x = self.fc_layer(x)\n",
        "\n",
        "      return x"
      ],
      "execution_count": 30,
      "outputs": []
    },
    {
      "cell_type": "code",
      "metadata": {
        "id": "IWt-wQXmg5Tw"
      },
      "source": [
        "model = ConvNet(num_classes).to(device)"
      ],
      "execution_count": 31,
      "outputs": []
    },
    {
      "cell_type": "code",
      "metadata": {
        "id": "Wo0SwubFhHRg"
      },
      "source": [
        "loss_function = nn.CrossEntropyLoss()\n",
        "optimizer = torch.optim.Adam(model.parameters(), lr=learning_rate)"
      ],
      "execution_count": 32,
      "outputs": []
    },
    {
      "cell_type": "code",
      "metadata": {
        "colab": {
          "base_uri": "https://localhost:8080/"
        },
        "id": "XGENkqnghHT-",
        "outputId": "6e37072d-020a-42af-e43e-a9c88b69ebe9"
      },
      "source": [
        "total_step = len(train_loader)\n",
        "for epoch in range(num_epochs):\n",
        "  for i, (images, labels) in enumerate(train_loader):\n",
        "    images = images.to(device)\n",
        "    labels = labels.to(device)\n",
        "\n",
        "    # 디버깅 부분\n",
        "    # pdb.set_trace() # 1. l  2. size 확인\n",
        "\n",
        "    outputs = model(images) # 누구나 이 부분 디버깅을 해봐야 함.\n",
        "    # 여기에서 images.shape를 찍으면 무슨 값이 나올까?\n",
        "    \n",
        "     # 디버깅 부분\n",
        "    # pdb.set_trace() # 3.\n",
        "\n",
        "\n",
        "    loss = loss_function(outputs, labels)\n",
        "\n",
        "    optimizer.zero_grad()\n",
        "    loss.backward()\n",
        "    optimizer.step()\n",
        "\n",
        "    if(i+1) % 100 ==0:\n",
        "            print('Epoch[{}/{}], Step [{}/{}], Loss: {:.4f}'.format(epoch+1, num_epochs, i+1, total_step, loss.item()))\n"
      ],
      "execution_count": 33,
      "outputs": [
        {
          "output_type": "stream",
          "text": [
            "Epoch[1/5], Step [100/500], Loss: 1.7211\n",
            "Epoch[1/5], Step [200/500], Loss: 1.4089\n",
            "Epoch[1/5], Step [300/500], Loss: 1.4796\n",
            "Epoch[1/5], Step [400/500], Loss: 1.0347\n",
            "Epoch[1/5], Step [500/500], Loss: 1.1979\n",
            "Epoch[2/5], Step [100/500], Loss: 1.1282\n",
            "Epoch[2/5], Step [200/500], Loss: 0.9125\n",
            "Epoch[2/5], Step [300/500], Loss: 0.9248\n",
            "Epoch[2/5], Step [400/500], Loss: 0.6783\n",
            "Epoch[2/5], Step [500/500], Loss: 0.7643\n",
            "Epoch[3/5], Step [100/500], Loss: 0.6297\n",
            "Epoch[3/5], Step [200/500], Loss: 0.8209\n",
            "Epoch[3/5], Step [300/500], Loss: 0.7727\n",
            "Epoch[3/5], Step [400/500], Loss: 0.7273\n",
            "Epoch[3/5], Step [500/500], Loss: 0.7391\n",
            "Epoch[4/5], Step [100/500], Loss: 0.4863\n",
            "Epoch[4/5], Step [200/500], Loss: 0.7013\n",
            "Epoch[4/5], Step [300/500], Loss: 0.5652\n",
            "Epoch[4/5], Step [400/500], Loss: 0.6588\n",
            "Epoch[4/5], Step [500/500], Loss: 0.5478\n",
            "Epoch[5/5], Step [100/500], Loss: 0.5171\n",
            "Epoch[5/5], Step [200/500], Loss: 0.6098\n",
            "Epoch[5/5], Step [300/500], Loss: 0.6269\n",
            "Epoch[5/5], Step [400/500], Loss: 0.4330\n",
            "Epoch[5/5], Step [500/500], Loss: 0.7188\n"
          ],
          "name": "stdout"
        }
      ]
    },
    {
      "cell_type": "code",
      "metadata": {
        "colab": {
          "base_uri": "https://localhost:8080/"
        },
        "id": "rUY9dpiWhHWv",
        "outputId": "e30bfefd-2bc4-4704-f1c2-996213483d81"
      },
      "source": [
        "model.eval()\n",
        "with torch.no_grad(): # 실제로 학습할 필요가 없으면 no.grad()구문을 넣어준다.\n",
        "    correct = 0\n",
        "    total = 0\n",
        "    for images, labels in test_loader: # 인덱스를 굳이 안받아도 되니깐 enumeratorr가 빠졌다.\n",
        "        images = images.to(device) #한줄로 죽 펼친 다음에 입력받아서\n",
        "        labels = labels.to(device) # 라벨도 마찬가지로\n",
        "        outputs = model(images) #모델에 넣고\n",
        "        _, predicted = torch.max(outputs.data, 1)\n",
        "        # total은 푼 문제, correct는 맞춘 문제수..이런식으로 카운팅이 들어간다\n",
        "     \n",
        "        total += labels.size(0) \n",
        "        correct += (predicted == labels).sum().item()\n",
        "        print('Test Accuracy of the model on the 10000 test images: {} %'.format(100 * correct / total))"
      ],
      "execution_count": 29,
      "outputs": [
        {
          "output_type": "stream",
          "text": [
            "Test Accuracy of the model on the 10000 test images: 71.0 %\n",
            "Test Accuracy of the model on the 10000 test images: 67.0 %\n",
            "Test Accuracy of the model on the 10000 test images: 64.66666666666667 %\n",
            "Test Accuracy of the model on the 10000 test images: 64.75 %\n",
            "Test Accuracy of the model on the 10000 test images: 65.0 %\n",
            "Test Accuracy of the model on the 10000 test images: 65.66666666666667 %\n",
            "Test Accuracy of the model on the 10000 test images: 66.14285714285714 %\n",
            "Test Accuracy of the model on the 10000 test images: 65.0 %\n",
            "Test Accuracy of the model on the 10000 test images: 65.55555555555556 %\n",
            "Test Accuracy of the model on the 10000 test images: 65.6 %\n",
            "Test Accuracy of the model on the 10000 test images: 66.0909090909091 %\n",
            "Test Accuracy of the model on the 10000 test images: 66.66666666666667 %\n",
            "Test Accuracy of the model on the 10000 test images: 66.53846153846153 %\n",
            "Test Accuracy of the model on the 10000 test images: 66.14285714285714 %\n",
            "Test Accuracy of the model on the 10000 test images: 66.46666666666667 %\n",
            "Test Accuracy of the model on the 10000 test images: 66.3125 %\n",
            "Test Accuracy of the model on the 10000 test images: 66.58823529411765 %\n",
            "Test Accuracy of the model on the 10000 test images: 66.33333333333333 %\n",
            "Test Accuracy of the model on the 10000 test images: 66.15789473684211 %\n",
            "Test Accuracy of the model on the 10000 test images: 65.75 %\n",
            "Test Accuracy of the model on the 10000 test images: 65.38095238095238 %\n",
            "Test Accuracy of the model on the 10000 test images: 65.31818181818181 %\n",
            "Test Accuracy of the model on the 10000 test images: 65.56521739130434 %\n",
            "Test Accuracy of the model on the 10000 test images: 65.66666666666667 %\n",
            "Test Accuracy of the model on the 10000 test images: 65.64 %\n",
            "Test Accuracy of the model on the 10000 test images: 65.15384615384616 %\n",
            "Test Accuracy of the model on the 10000 test images: 65.37037037037037 %\n",
            "Test Accuracy of the model on the 10000 test images: 65.39285714285714 %\n",
            "Test Accuracy of the model on the 10000 test images: 65.41379310344827 %\n",
            "Test Accuracy of the model on the 10000 test images: 65.43333333333334 %\n",
            "Test Accuracy of the model on the 10000 test images: 65.6774193548387 %\n",
            "Test Accuracy of the model on the 10000 test images: 65.59375 %\n",
            "Test Accuracy of the model on the 10000 test images: 65.63636363636364 %\n",
            "Test Accuracy of the model on the 10000 test images: 65.55882352941177 %\n",
            "Test Accuracy of the model on the 10000 test images: 65.51428571428572 %\n",
            "Test Accuracy of the model on the 10000 test images: 65.58333333333333 %\n",
            "Test Accuracy of the model on the 10000 test images: 65.51351351351352 %\n",
            "Test Accuracy of the model on the 10000 test images: 65.47368421052632 %\n",
            "Test Accuracy of the model on the 10000 test images: 65.51282051282051 %\n",
            "Test Accuracy of the model on the 10000 test images: 65.4 %\n",
            "Test Accuracy of the model on the 10000 test images: 65.48780487804878 %\n",
            "Test Accuracy of the model on the 10000 test images: 65.64285714285714 %\n",
            "Test Accuracy of the model on the 10000 test images: 65.6046511627907 %\n",
            "Test Accuracy of the model on the 10000 test images: 65.5 %\n",
            "Test Accuracy of the model on the 10000 test images: 65.66666666666667 %\n",
            "Test Accuracy of the model on the 10000 test images: 65.67391304347827 %\n",
            "Test Accuracy of the model on the 10000 test images: 65.70212765957447 %\n",
            "Test Accuracy of the model on the 10000 test images: 65.72916666666667 %\n",
            "Test Accuracy of the model on the 10000 test images: 65.83673469387755 %\n",
            "Test Accuracy of the model on the 10000 test images: 65.72 %\n",
            "Test Accuracy of the model on the 10000 test images: 65.66666666666667 %\n",
            "Test Accuracy of the model on the 10000 test images: 65.5576923076923 %\n",
            "Test Accuracy of the model on the 10000 test images: 65.56603773584905 %\n",
            "Test Accuracy of the model on the 10000 test images: 65.42592592592592 %\n",
            "Test Accuracy of the model on the 10000 test images: 65.27272727272727 %\n",
            "Test Accuracy of the model on the 10000 test images: 65.08928571428571 %\n",
            "Test Accuracy of the model on the 10000 test images: 65.10526315789474 %\n",
            "Test Accuracy of the model on the 10000 test images: 65.24137931034483 %\n",
            "Test Accuracy of the model on the 10000 test images: 65.15254237288136 %\n",
            "Test Accuracy of the model on the 10000 test images: 65.1 %\n",
            "Test Accuracy of the model on the 10000 test images: 65.09836065573771 %\n",
            "Test Accuracy of the model on the 10000 test images: 65.12903225806451 %\n",
            "Test Accuracy of the model on the 10000 test images: 65.07936507936508 %\n",
            "Test Accuracy of the model on the 10000 test images: 65.09375 %\n",
            "Test Accuracy of the model on the 10000 test images: 65.13846153846154 %\n",
            "Test Accuracy of the model on the 10000 test images: 65.13636363636364 %\n",
            "Test Accuracy of the model on the 10000 test images: 65.04477611940298 %\n",
            "Test Accuracy of the model on the 10000 test images: 65.0 %\n",
            "Test Accuracy of the model on the 10000 test images: 64.91304347826087 %\n",
            "Test Accuracy of the model on the 10000 test images: 64.74285714285715 %\n",
            "Test Accuracy of the model on the 10000 test images: 64.70422535211267 %\n",
            "Test Accuracy of the model on the 10000 test images: 64.79166666666667 %\n",
            "Test Accuracy of the model on the 10000 test images: 64.73972602739725 %\n",
            "Test Accuracy of the model on the 10000 test images: 64.77027027027027 %\n",
            "Test Accuracy of the model on the 10000 test images: 64.76 %\n",
            "Test Accuracy of the model on the 10000 test images: 64.65789473684211 %\n",
            "Test Accuracy of the model on the 10000 test images: 64.7012987012987 %\n",
            "Test Accuracy of the model on the 10000 test images: 64.76923076923077 %\n",
            "Test Accuracy of the model on the 10000 test images: 64.75949367088607 %\n",
            "Test Accuracy of the model on the 10000 test images: 64.725 %\n",
            "Test Accuracy of the model on the 10000 test images: 64.77777777777777 %\n",
            "Test Accuracy of the model on the 10000 test images: 64.6951219512195 %\n",
            "Test Accuracy of the model on the 10000 test images: 64.72289156626506 %\n",
            "Test Accuracy of the model on the 10000 test images: 64.6547619047619 %\n",
            "Test Accuracy of the model on the 10000 test images: 64.55294117647058 %\n",
            "Test Accuracy of the model on the 10000 test images: 64.54651162790698 %\n",
            "Test Accuracy of the model on the 10000 test images: 64.52873563218391 %\n",
            "Test Accuracy of the model on the 10000 test images: 64.60227272727273 %\n",
            "Test Accuracy of the model on the 10000 test images: 64.5505617977528 %\n",
            "Test Accuracy of the model on the 10000 test images: 64.57777777777778 %\n",
            "Test Accuracy of the model on the 10000 test images: 64.53846153846153 %\n",
            "Test Accuracy of the model on the 10000 test images: 64.6413043478261 %\n",
            "Test Accuracy of the model on the 10000 test images: 64.6989247311828 %\n",
            "Test Accuracy of the model on the 10000 test images: 64.65957446808511 %\n",
            "Test Accuracy of the model on the 10000 test images: 64.6421052631579 %\n",
            "Test Accuracy of the model on the 10000 test images: 64.67708333333333 %\n",
            "Test Accuracy of the model on the 10000 test images: 64.62886597938144 %\n",
            "Test Accuracy of the model on the 10000 test images: 64.60204081632654 %\n",
            "Test Accuracy of the model on the 10000 test images: 64.51515151515152 %\n",
            "Test Accuracy of the model on the 10000 test images: 64.4 %\n"
          ],
          "name": "stdout"
        }
      ]
    },
    {
      "cell_type": "code",
      "metadata": {
        "id": "yaRspVZNhHY4"
      },
      "source": [
        ""
      ],
      "execution_count": null,
      "outputs": []
    },
    {
      "cell_type": "code",
      "metadata": {
        "id": "R57eFQV0hHbk"
      },
      "source": [
        ""
      ],
      "execution_count": null,
      "outputs": []
    },
    {
      "cell_type": "code",
      "metadata": {
        "id": "h0F8ToLOg5Xf"
      },
      "source": [
        ""
      ],
      "execution_count": null,
      "outputs": []
    },
    {
      "cell_type": "code",
      "metadata": {
        "id": "RkCc_jpVg5Z3"
      },
      "source": [
        ""
      ],
      "execution_count": null,
      "outputs": []
    },
    {
      "cell_type": "code",
      "metadata": {
        "id": "ZrKvvV_lg5c0"
      },
      "source": [
        ""
      ],
      "execution_count": null,
      "outputs": []
    }
  ]
}