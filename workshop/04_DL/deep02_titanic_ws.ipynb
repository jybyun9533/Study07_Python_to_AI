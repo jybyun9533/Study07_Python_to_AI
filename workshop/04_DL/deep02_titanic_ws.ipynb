{
 "cells": [
  {
   "cell_type": "markdown",
   "metadata": {},
   "source": [
    "# Titanic: Machine Learning from Disaster\n",
    "---\n",
    "### 데이터분석과 머신러닝 알고리즘으로 타이타닉 해상사고의 생존자를 예측하기\n",
    "---\n",
    "\n",
    "<span style=\"color:blue\">RMS 타이타닉 호</span>의 침몰은 역사상 가장 슬픈 해상사고 중 하나입니다\n",
    "\n",
    "<span style=\"color:blue\">위키피디아에 기록된 내용</span>에 따르면 RMS 타이타닉 호는 선내에 체육관과 수영장을 포함한 호화로운 부대시설을 갖추고 있었으나, 느슨한 규제때문에 구명 보트는 단 20척 밖에 보유하고 있지 않았다고 합니다. (이 구명 보트의 정원은 고작 1,178명 이었습니다) 구명보트에 타지 못한 승객들은 바다에 뛰어들었고 이 승객들은 수 분 내에 저체온증으로 사망하였으며, 구명 보트를 타고 있다가 몇 시간 뒤에 RMS 카르파티아에 의해 구조된 사람은 고작 706명 뿐 이었습니다. 사망인원은 1500 명 이상이었습니다\n",
    "\n",
    "이번 수업에서는 **캐글의 <span style=\"color:blue\">Titanic: Machine Learning from Disaster</span> 경진대회에 도전합니다.** 타이타닉 해상사고 당시의 기록을 담아둔 <span style=\"color:blue\">Encyclopedia Titanica</span>의 데이터를 참고하여, 유사한 해상 사고가 발생했을 시 어떤 승객이 생존하며, 또한 어떤 승객이 사망하는지를 예측하는 예측 모델을 만들 것입니다. 이 과정에서 프로그래밍 언어 파이썬<span style=\"color:blue\">(Python)</span>, 파이썬의 데이터 분석 패키지 판다스<span style=\"color:blue\">(Pandas)</span>, 그리고 파이썬의 머신러닝&인공지능 라이브러리인 싸이킷런<span style=\"color:blue\">(scikit-learn)</span>에 대해 배워볼 것입니다.\n",
    "\n",
    "---\n",
    "### 컬럼 설명\n",
    "---\n",
    "\n",
    "(데이터는 <u><span style=\"color:blue\">[다음의 링크](https://www.kaggle.com/c/titanic/data)</span></u>에서 다운받으실 수 있습니다)\n",
    "\n",
    "* Survival - 생존 여부. 0이면 사망, 1이면 생존한 것으로 간주합니다.\n",
    "* Pclass - 티켓 등급. 1등석(1), 2등석(2), 3등석(3)이 있으며, 1등석일수록 좋고 3등석일수록 좋지 않습니다.\n",
    "* Sex - 성별. 남자(male)와 여자(female)이 있습니다.\n",
    "* Age - 나이입니다. 틈틈히 빈 값이 존재하며, 소수점 값도 존재합니다.\n",
    "* SibSp - 해당 승객과 같이 탑승한 형재/자매(siblings)와 배우자(spouses)의 총 인원 수입니다.\n",
    "* Parch - 해당 승객과 같이 탑승한 부모(parents)와 자식(children)의 총 인원 수입니다.\n",
    "* Ticket - 티켓 번호입니다. 다양한 텍스트(문자열)로 구성되어 있습니다.\n",
    "* Fare - 운임 요금입니다. 소수점으로 구성되어 있습니다.\n",
    "* Cabin - 객실 번호입니다. 많은 빈 값이 존재하며, 다양한 텍스트(문자열)로 구성되어 있습니다.\n",
    "* Embarked - 선착장입니다. C는 셰르부르(Cherbourg)라는 프랑스 지역, Q는 퀸스타운(Queenstown)이라는 영국 * * 지역, S는 사우스햄튼(Southampton)이라는 영국 지역입니다.\n",
    "---\n",
    "### 작업 순서\n",
    "    I.   Load Dataset\n",
    "    II.  Explore\n",
    "    III. Pre Processing\n",
    "    IV.  Model Generator\n",
    "    V.   Accuracy Measure\n",
    "    VI.  Inference Test Predict\n",
    "    VII. Submit\n",
    "---\n",
    "### I. Load Dataset\n",
    "---\n",
    "\n",
    "모든 데이터 분석의 시작은 주어진 데이터를 읽어오는 것입니다. <span style=\"color:blue\">판다스(Pandas)</span>에는 <span style=\"color:blue\">read_csv</span>라는 기능이 있는데, 이 기능을 통해 편리하게 데이터를 읽어올 수 있습니다. read_csv를 활용해 <span style=\"color:blue\">Titanic: Machine Learning from Disaster</span> 경진대회에서 제공하는 두 개의 데이터(train, test)를 읽어오겠습니다. <u><span style=\"color:blue\">[(다운로드 링크)](https://www.kaggle.com/c/titanic/data)</span></u>\n",
    "\n",
    "여기서 파일의 경로를 지정하는 방법에 주의하셔야 합니다. 파일 경로 지정은 컴퓨터의 설정마다 천차만별로 다르기 때문에 사전에 컴퓨터의 경로 지정 개념을 숙지해두셔야 합니다. 만일 read_csv를 실행할 때 **(FileNotFoundError)** 라는 이름의 에러가 난다면 경로가 제대로 지정이 되지 않은 것입니다. 만일 **파일의 경로를 지정하는 법이 생각나지 않는다면 <u><span style=\"color:blue\">[다음의 링크](https://88240.tistory.com/122)</span></u>를 통해 경로를 지정하는 법을 복습한 뒤 다시 시도해주세요.**"
   ]
  },
  {
   "cell_type": "code",
   "execution_count": 1,
   "metadata": {},
   "outputs": [
    {
     "data": {
      "text/html": [
       "<div>\n",
       "<style scoped>\n",
       "    .dataframe tbody tr th:only-of-type {\n",
       "        vertical-align: middle;\n",
       "    }\n",
       "\n",
       "    .dataframe tbody tr th {\n",
       "        vertical-align: top;\n",
       "    }\n",
       "\n",
       "    .dataframe thead th {\n",
       "        text-align: right;\n",
       "    }\n",
       "</style>\n",
       "<table border=\"1\" class=\"dataframe\">\n",
       "  <thead>\n",
       "    <tr style=\"text-align: right;\">\n",
       "      <th></th>\n",
       "      <th>PassengerId</th>\n",
       "      <th>Survived</th>\n",
       "      <th>Pclass</th>\n",
       "      <th>Name</th>\n",
       "      <th>Sex</th>\n",
       "      <th>Age</th>\n",
       "      <th>SibSp</th>\n",
       "      <th>Parch</th>\n",
       "      <th>Ticket</th>\n",
       "      <th>Fare</th>\n",
       "      <th>Cabin</th>\n",
       "      <th>Embarked</th>\n",
       "    </tr>\n",
       "  </thead>\n",
       "  <tbody>\n",
       "    <tr>\n",
       "      <th>0</th>\n",
       "      <td>1</td>\n",
       "      <td>0</td>\n",
       "      <td>3</td>\n",
       "      <td>Braund, Mr. Owen Harris</td>\n",
       "      <td>male</td>\n",
       "      <td>22.0</td>\n",
       "      <td>1</td>\n",
       "      <td>0</td>\n",
       "      <td>A/5 21171</td>\n",
       "      <td>7.2500</td>\n",
       "      <td>NaN</td>\n",
       "      <td>S</td>\n",
       "    </tr>\n",
       "    <tr>\n",
       "      <th>1</th>\n",
       "      <td>2</td>\n",
       "      <td>1</td>\n",
       "      <td>1</td>\n",
       "      <td>Cumings, Mrs. John Bradley (Florence Briggs Th...</td>\n",
       "      <td>female</td>\n",
       "      <td>38.0</td>\n",
       "      <td>1</td>\n",
       "      <td>0</td>\n",
       "      <td>PC 17599</td>\n",
       "      <td>71.2833</td>\n",
       "      <td>C85</td>\n",
       "      <td>C</td>\n",
       "    </tr>\n",
       "    <tr>\n",
       "      <th>2</th>\n",
       "      <td>3</td>\n",
       "      <td>1</td>\n",
       "      <td>3</td>\n",
       "      <td>Heikkinen, Miss. Laina</td>\n",
       "      <td>female</td>\n",
       "      <td>26.0</td>\n",
       "      <td>0</td>\n",
       "      <td>0</td>\n",
       "      <td>STON/O2. 3101282</td>\n",
       "      <td>7.9250</td>\n",
       "      <td>NaN</td>\n",
       "      <td>S</td>\n",
       "    </tr>\n",
       "    <tr>\n",
       "      <th>3</th>\n",
       "      <td>4</td>\n",
       "      <td>1</td>\n",
       "      <td>1</td>\n",
       "      <td>Futrelle, Mrs. Jacques Heath (Lily May Peel)</td>\n",
       "      <td>female</td>\n",
       "      <td>35.0</td>\n",
       "      <td>1</td>\n",
       "      <td>0</td>\n",
       "      <td>113803</td>\n",
       "      <td>53.1000</td>\n",
       "      <td>C123</td>\n",
       "      <td>S</td>\n",
       "    </tr>\n",
       "    <tr>\n",
       "      <th>4</th>\n",
       "      <td>5</td>\n",
       "      <td>0</td>\n",
       "      <td>3</td>\n",
       "      <td>Allen, Mr. William Henry</td>\n",
       "      <td>male</td>\n",
       "      <td>35.0</td>\n",
       "      <td>0</td>\n",
       "      <td>0</td>\n",
       "      <td>373450</td>\n",
       "      <td>8.0500</td>\n",
       "      <td>NaN</td>\n",
       "      <td>S</td>\n",
       "    </tr>\n",
       "  </tbody>\n",
       "</table>\n",
       "</div>"
      ],
      "text/plain": [
       "   PassengerId  Survived  Pclass  \\\n",
       "0            1         0       3   \n",
       "1            2         1       1   \n",
       "2            3         1       3   \n",
       "3            4         1       1   \n",
       "4            5         0       3   \n",
       "\n",
       "                                                Name     Sex   Age  SibSp  \\\n",
       "0                            Braund, Mr. Owen Harris    male  22.0      1   \n",
       "1  Cumings, Mrs. John Bradley (Florence Briggs Th...  female  38.0      1   \n",
       "2                             Heikkinen, Miss. Laina  female  26.0      0   \n",
       "3       Futrelle, Mrs. Jacques Heath (Lily May Peel)  female  35.0      1   \n",
       "4                           Allen, Mr. William Henry    male  35.0      0   \n",
       "\n",
       "   Parch            Ticket     Fare Cabin Embarked  \n",
       "0      0         A/5 21171   7.2500   NaN        S  \n",
       "1      0          PC 17599  71.2833   C85        C  \n",
       "2      0  STON/O2. 3101282   7.9250   NaN        S  \n",
       "3      0            113803  53.1000  C123        S  \n",
       "4      0            373450   8.0500   NaN        S  "
      ]
     },
     "execution_count": 1,
     "metadata": {},
     "output_type": "execute_result"
    }
   ],
   "source": [
    "import pandas as pd\n",
    "\n",
    "train = pd.read_csv('../data/train.csv')\n",
    "test = pd.read_csv('../data/test.csv')\n",
    "\n",
    "train.head()"
   ]
  },
  {
   "cell_type": "markdown",
   "metadata": {},
   "source": [
    "# 검증 Data\n",
    "---\n",
    "1. Validation Data <br>\n",
    "2. Test Data <br>\n",
    "3. Inference Data <br>"
   ]
  },
  {
   "cell_type": "code",
   "execution_count": 2,
   "metadata": {},
   "outputs": [
    {
     "data": {
      "text/html": [
       "<div>\n",
       "<style scoped>\n",
       "    .dataframe tbody tr th:only-of-type {\n",
       "        vertical-align: middle;\n",
       "    }\n",
       "\n",
       "    .dataframe tbody tr th {\n",
       "        vertical-align: top;\n",
       "    }\n",
       "\n",
       "    .dataframe thead th {\n",
       "        text-align: right;\n",
       "    }\n",
       "</style>\n",
       "<table border=\"1\" class=\"dataframe\">\n",
       "  <thead>\n",
       "    <tr style=\"text-align: right;\">\n",
       "      <th></th>\n",
       "      <th>PassengerId</th>\n",
       "      <th>Pclass</th>\n",
       "      <th>Name</th>\n",
       "      <th>Sex</th>\n",
       "      <th>Age</th>\n",
       "      <th>SibSp</th>\n",
       "      <th>Parch</th>\n",
       "      <th>Ticket</th>\n",
       "      <th>Fare</th>\n",
       "      <th>Cabin</th>\n",
       "      <th>Embarked</th>\n",
       "    </tr>\n",
       "  </thead>\n",
       "  <tbody>\n",
       "    <tr>\n",
       "      <th>0</th>\n",
       "      <td>892</td>\n",
       "      <td>3</td>\n",
       "      <td>Kelly, Mr. James</td>\n",
       "      <td>male</td>\n",
       "      <td>34.5</td>\n",
       "      <td>0</td>\n",
       "      <td>0</td>\n",
       "      <td>330911</td>\n",
       "      <td>7.8292</td>\n",
       "      <td>NaN</td>\n",
       "      <td>Q</td>\n",
       "    </tr>\n",
       "    <tr>\n",
       "      <th>1</th>\n",
       "      <td>893</td>\n",
       "      <td>3</td>\n",
       "      <td>Wilkes, Mrs. James (Ellen Needs)</td>\n",
       "      <td>female</td>\n",
       "      <td>47.0</td>\n",
       "      <td>1</td>\n",
       "      <td>0</td>\n",
       "      <td>363272</td>\n",
       "      <td>7.0000</td>\n",
       "      <td>NaN</td>\n",
       "      <td>S</td>\n",
       "    </tr>\n",
       "    <tr>\n",
       "      <th>2</th>\n",
       "      <td>894</td>\n",
       "      <td>2</td>\n",
       "      <td>Myles, Mr. Thomas Francis</td>\n",
       "      <td>male</td>\n",
       "      <td>62.0</td>\n",
       "      <td>0</td>\n",
       "      <td>0</td>\n",
       "      <td>240276</td>\n",
       "      <td>9.6875</td>\n",
       "      <td>NaN</td>\n",
       "      <td>Q</td>\n",
       "    </tr>\n",
       "    <tr>\n",
       "      <th>3</th>\n",
       "      <td>895</td>\n",
       "      <td>3</td>\n",
       "      <td>Wirz, Mr. Albert</td>\n",
       "      <td>male</td>\n",
       "      <td>27.0</td>\n",
       "      <td>0</td>\n",
       "      <td>0</td>\n",
       "      <td>315154</td>\n",
       "      <td>8.6625</td>\n",
       "      <td>NaN</td>\n",
       "      <td>S</td>\n",
       "    </tr>\n",
       "    <tr>\n",
       "      <th>4</th>\n",
       "      <td>896</td>\n",
       "      <td>3</td>\n",
       "      <td>Hirvonen, Mrs. Alexander (Helga E Lindqvist)</td>\n",
       "      <td>female</td>\n",
       "      <td>22.0</td>\n",
       "      <td>1</td>\n",
       "      <td>1</td>\n",
       "      <td>3101298</td>\n",
       "      <td>12.2875</td>\n",
       "      <td>NaN</td>\n",
       "      <td>S</td>\n",
       "    </tr>\n",
       "  </tbody>\n",
       "</table>\n",
       "</div>"
      ],
      "text/plain": [
       "   PassengerId  Pclass                                          Name     Sex  \\\n",
       "0          892       3                              Kelly, Mr. James    male   \n",
       "1          893       3              Wilkes, Mrs. James (Ellen Needs)  female   \n",
       "2          894       2                     Myles, Mr. Thomas Francis    male   \n",
       "3          895       3                              Wirz, Mr. Albert    male   \n",
       "4          896       3  Hirvonen, Mrs. Alexander (Helga E Lindqvist)  female   \n",
       "\n",
       "    Age  SibSp  Parch   Ticket     Fare Cabin Embarked  \n",
       "0  34.5      0      0   330911   7.8292   NaN        Q  \n",
       "1  47.0      1      0   363272   7.0000   NaN        S  \n",
       "2  62.0      0      0   240276   9.6875   NaN        Q  \n",
       "3  27.0      0      0   315154   8.6625   NaN        S  \n",
       "4  22.0      1      1  3101298  12.2875   NaN        S  "
      ]
     },
     "execution_count": 2,
     "metadata": {},
     "output_type": "execute_result"
    }
   ],
   "source": [
    "test.head()"
   ]
  },
  {
   "cell_type": "code",
   "execution_count": 3,
   "metadata": {},
   "outputs": [
    {
     "data": {
      "text/plain": [
       "(418, 11)"
      ]
     },
     "execution_count": 3,
     "metadata": {},
     "output_type": "execute_result"
    }
   ],
   "source": [
    "train.shape   \n",
    "test.shape   "
   ]
  },
  {
   "cell_type": "code",
   "execution_count": 4,
   "metadata": {},
   "outputs": [
    {
     "name": "stdout",
     "output_type": "stream",
     "text": [
      "<class 'pandas.core.frame.DataFrame'>\n",
      "RangeIndex: 891 entries, 0 to 890\n",
      "Data columns (total 12 columns):\n",
      " #   Column       Non-Null Count  Dtype  \n",
      "---  ------       --------------  -----  \n",
      " 0   PassengerId  891 non-null    int64  \n",
      " 1   Survived     891 non-null    int64  \n",
      " 2   Pclass       891 non-null    int64  \n",
      " 3   Name         891 non-null    object \n",
      " 4   Sex          891 non-null    object \n",
      " 5   Age          714 non-null    float64\n",
      " 6   SibSp        891 non-null    int64  \n",
      " 7   Parch        891 non-null    int64  \n",
      " 8   Ticket       891 non-null    object \n",
      " 9   Fare         891 non-null    float64\n",
      " 10  Cabin        204 non-null    object \n",
      " 11  Embarked     889 non-null    object \n",
      "dtypes: float64(2), int64(5), object(5)\n",
      "memory usage: 83.7+ KB\n"
     ]
    }
   ],
   "source": [
    "train.info()  "
   ]
  },
  {
   "cell_type": "code",
   "execution_count": 5,
   "metadata": {},
   "outputs": [
    {
     "name": "stdout",
     "output_type": "stream",
     "text": [
      "<class 'pandas.core.frame.DataFrame'>\n",
      "RangeIndex: 418 entries, 0 to 417\n",
      "Data columns (total 11 columns):\n",
      " #   Column       Non-Null Count  Dtype  \n",
      "---  ------       --------------  -----  \n",
      " 0   PassengerId  418 non-null    int64  \n",
      " 1   Pclass       418 non-null    int64  \n",
      " 2   Name         418 non-null    object \n",
      " 3   Sex          418 non-null    object \n",
      " 4   Age          332 non-null    float64\n",
      " 5   SibSp        418 non-null    int64  \n",
      " 6   Parch        418 non-null    int64  \n",
      " 7   Ticket       418 non-null    object \n",
      " 8   Fare         417 non-null    float64\n",
      " 9   Cabin        91 non-null     object \n",
      " 10  Embarked     418 non-null    object \n",
      "dtypes: float64(2), int64(4), object(5)\n",
      "memory usage: 36.0+ KB\n"
     ]
    }
   ],
   "source": [
    "test.info()  "
   ]
  },
  {
   "cell_type": "markdown",
   "metadata": {},
   "source": [
    "### II. Data Explore\n",
    "---\n",
    "\n",
    "훌륭한 데이터 사이언티스트와 그렇지 않은 데이터 사이언티스트의 차이점 중 하나는 데이터를 분석하는 전력적인 사고력입니다. 과학적이고 정확도 높은 분석을 하기 위해서는 학습에 적합한 Feature를 찾아내고 정제하는 과정이 먼저 선행되어져 있어야만 가능합니다.이 과정을 <span style=\"color:blue\">Feature Engineering</span>이라고 합니다.\n",
    "\n",
    "훌륭한 데이터 사이언티스트는 언제나 데이터를 완벽하게 이해했다고 확신할 수 있을 만큼 끈기 있게 데이터를 분석합니다. 이 과정을 탐험적 데이터 분석<u><span style=\"color:blue\">[(Exploratory Data Analysis)](https://en.wikipedia.org/wiki/Exploratory_data_analysis)</span></u>이라고 합니다.\n",
    "\n",
    "탐험적 데이터 분석을 할 때는 종종 데이터 시각화를 병행합니다. 파이썬의 데이터 시각화 패키지는 다양한 것들이 있지만(<span style=\"color:blue\">matplotlib</span>, <span style=\"color:blue\">seaborn</span>, <span style=\"color:blue\">bokeh</span>, <span style=\"color:blue\">ggplot</span>, etc) 저희는 이 중에서 <span style=\"color:blue\">matplotlib</span>와 <span style=\"color:blue\">seaborn</span> 을 주로 사용할 것입니다."
   ]
  },
  {
   "cell_type": "code",
   "execution_count": 6,
   "metadata": {},
   "outputs": [
    {
     "data": {
      "text/html": [
       "<div>\n",
       "<style scoped>\n",
       "    .dataframe tbody tr th:only-of-type {\n",
       "        vertical-align: middle;\n",
       "    }\n",
       "\n",
       "    .dataframe tbody tr th {\n",
       "        vertical-align: top;\n",
       "    }\n",
       "\n",
       "    .dataframe thead th {\n",
       "        text-align: right;\n",
       "    }\n",
       "</style>\n",
       "<table border=\"1\" class=\"dataframe\">\n",
       "  <thead>\n",
       "    <tr style=\"text-align: right;\">\n",
       "      <th></th>\n",
       "      <th>1</th>\n",
       "      <th>2</th>\n",
       "      <th>3</th>\n",
       "    </tr>\n",
       "  </thead>\n",
       "  <tbody>\n",
       "    <tr>\n",
       "      <th>Survived</th>\n",
       "      <td>136</td>\n",
       "      <td>87</td>\n",
       "      <td>119</td>\n",
       "    </tr>\n",
       "    <tr>\n",
       "      <th>Dead</th>\n",
       "      <td>80</td>\n",
       "      <td>97</td>\n",
       "      <td>372</td>\n",
       "    </tr>\n",
       "  </tbody>\n",
       "</table>\n",
       "</div>"
      ],
      "text/plain": [
       "            1   2    3\n",
       "Survived  136  87  119\n",
       "Dead       80  97  372"
      ]
     },
     "execution_count": 6,
     "metadata": {},
     "output_type": "execute_result"
    }
   ],
   "source": [
    "import matplotlib.pyplot as plt\n",
    "import seaborn as sns\n",
    "\n",
    "# \n",
    "survived = train.loc[train['Survived']==1, 'Pclass'].value_counts()\n",
    "survived\n",
    "dead = train.loc[train['Survived']==0, 'Pclass'].value_counts()\n",
    "dead\n",
    "df = pd.DataFrame([survived,dead], index=['Survived', 'Dead'])\n",
    "df\n"
   ]
  },
  {
   "cell_type": "code",
   "execution_count": 7,
   "metadata": {},
   "outputs": [],
   "source": [
    "# 위 작업을 바탕으로 column에 따른 시각화를 하는 함수 \n",
    "# feature 인자값에 다양한 column 입력. \n",
    "\n",
    "import matplotlib.pyplot as plt\n",
    "import seaborn as sns\n",
    "\n",
    "def bar_chart (feature):\n",
    "    survived = train.loc[train['Survived']==1, feature].value_counts()\n",
    "    dead = train.loc[train['Survived']==0, feature].value_counts()\n",
    "    df = pd.DataFrame([survived,dead], index=['Survived', 'Dead'])\n",
    "    df.plot(kind='bar', figsize=(15,10))\n",
    "    plt.xticks(rotation=45)\n",
    "    plt.show()\n",
    "\n"
   ]
  },
  {
   "cell_type": "markdown",
   "metadata": {},
   "source": [
    "####  Feature - Pclass\n",
    "----\n",
    "\n",
    "다음으로 분석할 컬럼은 객실 등급(Pclass)입니다. 객실 등급은 크게 1등급(=퍼스트 클래스), 2등급(=비즈니스), 3등급(=이코노미) 로 나뉩니다. <br>추측컨데 객실 등급이 높을 수록 더 많은 비용을 지불한 타이타닉호의 VIP라고 볼 수 있습니다.\n",
    "\n",
    "성별(Sex) 컬럼과 마찬가지로, 객실 등급(Pclass) 컬럼도 <u><span style=\"color:blue\">[countplot](https://seaborn.pydata.org/generated/seaborn.countplot.html)</span></u>으로 간단하게 분석할 수 있습니다.\n"
   ]
  },
  {
   "cell_type": "code",
   "execution_count": 8,
   "metadata": {},
   "outputs": [
    {
     "data": {
      "text/plain": [
       "<AxesSubplot:xlabel='Pclass', ylabel='count'>"
      ]
     },
     "execution_count": 8,
     "metadata": {},
     "output_type": "execute_result"
    },
    {
     "data": {
      "image/png": "[encoded data removed]",
      "text/plain": [
       "<Figure size 432x288 with 1 Axes>"
      ]
     },
     "metadata": {
      "needs_background": "light"
     },
     "output_type": "display_data"
    }
   ],
   "source": [
    "sns.countplot(data=train, x=\"Pclass\", hue=\"Survived\")"
   ]
  },
  {
   "cell_type": "code",
   "execution_count": 9,
   "metadata": {},
   "outputs": [
    {
     "data": {
      "image/png": "[encoded data removed]",
      "text/plain": [
       "<Figure size 1080x720 with 1 Axes>"
      ]
     },
     "metadata": {
      "needs_background": "light"
     },
     "output_type": "display_data"
    }
   ],
   "source": [
    "bar_chart(\"Pclass\")"
   ]
  },
  {
   "cell_type": "markdown",
   "metadata": {},
   "source": [
    "분석 결과 객실 등급(Pclass)이 높을수록 생존 확률이 더 높다는 것을 알 수 있습니다. 조금 더 구체적으로 살펴보자면\n",
    "\n",
    "* 1등급은 생존자의 인원 수가 사망자의 인원 수보다 더 많지만, 2등급과 3등급은 그렇지 않다.\n",
    "* 3등급의 경우 생존자의 인원 수보다 사망자의 인원 수가 압도적으로 높다.\n",
    "\n",
    "이번에는 <u><span style=\"color:blue\">[pivot table](https://pandas.pydata.org/pandas-docs/stable/reference/api/pandas.pivot_table.html)</span></u>로 객실 등급(Pclass) 컬럼을 분석해보겠습니다."
   ]
  },
  {
   "cell_type": "code",
   "execution_count": 10,
   "metadata": {},
   "outputs": [
    {
     "data": {
      "text/html": [
       "<div>\n",
       "<style scoped>\n",
       "    .dataframe tbody tr th:only-of-type {\n",
       "        vertical-align: middle;\n",
       "    }\n",
       "\n",
       "    .dataframe tbody tr th {\n",
       "        vertical-align: top;\n",
       "    }\n",
       "\n",
       "    .dataframe thead th {\n",
       "        text-align: right;\n",
       "    }\n",
       "</style>\n",
       "<table border=\"1\" class=\"dataframe\">\n",
       "  <thead>\n",
       "    <tr style=\"text-align: right;\">\n",
       "      <th></th>\n",
       "      <th>Survived</th>\n",
       "    </tr>\n",
       "    <tr>\n",
       "      <th>Pclass</th>\n",
       "      <th></th>\n",
       "    </tr>\n",
       "  </thead>\n",
       "  <tbody>\n",
       "    <tr>\n",
       "      <th>1</th>\n",
       "      <td>0.629630</td>\n",
       "    </tr>\n",
       "    <tr>\n",
       "      <th>2</th>\n",
       "      <td>0.472826</td>\n",
       "    </tr>\n",
       "    <tr>\n",
       "      <th>3</th>\n",
       "      <td>0.242363</td>\n",
       "    </tr>\n",
       "  </tbody>\n",
       "</table>\n",
       "</div>"
      ],
      "text/plain": [
       "        Survived\n",
       "Pclass          \n",
       "1       0.629630\n",
       "2       0.472826\n",
       "3       0.242363"
      ]
     },
     "execution_count": 10,
     "metadata": {},
     "output_type": "execute_result"
    }
   ],
   "source": [
    "pd.pivot_table(train, index=\"Pclass\", values=\"Survived\")"
   ]
  },
  {
   "cell_type": "markdown",
   "metadata": {},
   "source": [
    "분석 결과 객실 등급(Pclass)이 높을수록 생존률이 높다는 사실을 알 수 있었고, 특히나 객실 등급(Pclass)이 2등급인 경우 생존률이 1/2(50%), 3등급인 경우 생존률이 1/4(25%)도 되지 않는다는 사실을 발견할 수 있습니다.<br>\n"
   ]
  },
  {
   "cell_type": "code",
   "execution_count": 11,
   "metadata": {},
   "outputs": [
    {
     "data": {
      "text/html": [
       "<img src=\"https://static1.squarespace.com/static/5006453fe4b09ef2252ba068/5095eabce4b06cb305058603/5095eabce4b02d37bef4c24c/1352002236895/100_anniversary_titanic_sinking_by_esai8mellows-d4xbme8.jpg\"/>"
      ],
      "text/plain": [
       "<IPython.core.display.Image object>"
      ]
     },
     "execution_count": 11,
     "metadata": {},
     "output_type": "execute_result"
    }
   ],
   "source": [
    "from IPython.display import Image\n",
    "Image(url= \"https://static1.squarespace.com/static/5006453fe4b09ef2252ba068/5095eabce4b06cb305058603/5095eabce4b02d37bef4c24c/1352002236895/100_anniversary_titanic_sinking_by_esai8mellows-d4xbme8.jpg\")"
   ]
  },
  {
   "cell_type": "code",
   "execution_count": 12,
   "metadata": {},
   "outputs": [
    {
     "data": {
      "text/html": [
       "<img src=\"https://static1.squarespace.com/static/5006453fe4b09ef2252ba068/t/5090b249e4b047ba54dfd258/1351660113175/TItanic-Survival-Infographic.jpg?format=1500w\"/>"
      ],
      "text/plain": [
       "<IPython.core.display.Image object>"
      ]
     },
     "execution_count": 12,
     "metadata": {},
     "output_type": "execute_result"
    }
   ],
   "source": [
    "Image(url= \"https://static1.squarespace.com/static/5006453fe4b09ef2252ba068/t/5090b249e4b047ba54dfd258/1351660113175/TItanic-Survival-Infographic.jpg?format=1500w\")\n"
   ]
  },
  {
   "cell_type": "markdown",
   "metadata": {},
   "source": [
    "#### Feature - Fare\n",
    "---\n",
    "\n",
    "요금이 저렴할수록 사망율이 높다.<br>\n",
    "( Feature들 사이에 연관성을 정의하자 ) \n",
    "* 이 분석은 바로 위에서 결과로 확인했던 Pclass와 연관성이 매우 깊다.\n",
    "* 3등석 요금이 저렴하기 때문이다.\n",
    "* Feature요소를 추출하는데 있어서 Fare , Pclass 는 생존율과 사망율에 모두 연결되어진다.\n",
    "\n",
    "**&gt;&gt;&gt;Fare, Pclass 속성은 모두 지도학습에 사용하게 될 속성으로 추출한다.**"
   ]
  },
  {
   "cell_type": "code",
   "execution_count": 13,
   "metadata": {},
   "outputs": [
    {
     "data": {
      "image/png": "[encoded data removed]",
      "text/plain": [
       "<Figure size 915.875x216 with 1 Axes>"
      ]
     },
     "metadata": {
      "needs_background": "light"
     },
     "output_type": "display_data"
    }
   ],
   "source": [
    "# 데이터의 Visualization 은 데이터 분석에 필수적이다. \n",
    "# FacetGrid는 다중 Plot 을 그릴때 많이 사용된다. 즉 여러변수를 한꺼번에 비교할 때 유용하다. (범주!)\n",
    "# '구획화(Binning)'를 지정할때 유용.\n",
    "\n",
    "facet = sns.FacetGrid(train, hue=\"Survived\",aspect=4)\n",
    "facet.map(sns.kdeplot,'Fare',shade= True)\n",
    "facet.set(xlim=(0, train['Fare'].max()))\n",
    "facet.add_legend()\n",
    "plt.xlim(0,180)\n",
    "plt.show()"
   ]
  },
  {
   "cell_type": "markdown",
   "metadata": {},
   "source": [
    "#### Feature - Sex\n",
    "---\n",
    "\n",
    "* 여성일수록 생존률이 높다\n",
    "* 성별(Sex) 컬럼은 타이타닉 데이터셋에서 가장 중요한 컬럼 중 하나입니다."
   ]
  },
  {
   "cell_type": "code",
   "execution_count": 14,
   "metadata": {},
   "outputs": [
    {
     "data": {
      "image/png": "[encoded data removed]",
      "text/plain": [
       "<Figure size 1080x720 with 1 Axes>"
      ]
     },
     "metadata": {
      "needs_background": "light"
     },
     "output_type": "display_data"
    }
   ],
   "source": [
    "bar_chart('Sex')"
   ]
  },
  {
   "cell_type": "markdown",
   "metadata": {},
   "source": [
    "분석 결과 여성 승객(female)이 남성 승객(male)에 비해 압도적으로 생존 확률이 높다는 것을 파악할 수 있습니다.\n",
    "\n",
    "비슷한 결과를 엑셀이나 <span style=\"color:blue\">pandas의 pivot table</span>로 도출해 낼 수 있습니다."
   ]
  },
  {
   "cell_type": "code",
   "execution_count": 15,
   "metadata": {},
   "outputs": [
    {
     "data": {
      "text/html": [
       "<div>\n",
       "<style scoped>\n",
       "    .dataframe tbody tr th:only-of-type {\n",
       "        vertical-align: middle;\n",
       "    }\n",
       "\n",
       "    .dataframe tbody tr th {\n",
       "        vertical-align: top;\n",
       "    }\n",
       "\n",
       "    .dataframe thead th {\n",
       "        text-align: right;\n",
       "    }\n",
       "</style>\n",
       "<table border=\"1\" class=\"dataframe\">\n",
       "  <thead>\n",
       "    <tr style=\"text-align: right;\">\n",
       "      <th></th>\n",
       "      <th>Survived</th>\n",
       "    </tr>\n",
       "    <tr>\n",
       "      <th>Sex</th>\n",
       "      <th></th>\n",
       "    </tr>\n",
       "  </thead>\n",
       "  <tbody>\n",
       "    <tr>\n",
       "      <th>female</th>\n",
       "      <td>0.742038</td>\n",
       "    </tr>\n",
       "    <tr>\n",
       "      <th>male</th>\n",
       "      <td>0.188908</td>\n",
       "    </tr>\n",
       "  </tbody>\n",
       "</table>\n",
       "</div>"
      ],
      "text/plain": [
       "        Survived\n",
       "Sex             \n",
       "female  0.742038\n",
       "male    0.188908"
      ]
     },
     "execution_count": 15,
     "metadata": {},
     "output_type": "execute_result"
    }
   ],
   "source": [
    "pd.pivot_table(train, index=\"Sex\", values=\"Survived\")"
   ]
  },
  {
   "cell_type": "markdown",
   "metadata": {},
   "source": [
    "**&gt;&gt;&gt;Sex 속성도 지도학습을 위한 Feature로 추출합니다.**\n",
    "\n",
    "<span style=\"color:blue\">pivot table</span>로 분석한 결과, 남자 승객의 생존률은, 18.9% 여성 승객의 생존률은 74.2%가 나온다는 것을 알 수 있습니다. 즉, 여성 승객이 남성 승객에 비해 압도적으로 생존 확률이 높다고 판단할 수 있습니다.\n",
    "\n",
    "같은 분석을 pivot table로도 할 수 있고 데이터 시각화로도 할 수 있다면, 둘 중 어떤 걸 사용하는게 좋을까요? 정답은 **둘 다 병행하는게 좋습니다.** <br>\n",
    "pivot table과 데이터 시각화 모두 장단점이 있는데,\n",
    "\n",
    "데이터 시각화는 구체적인 수치(ex: 남성 승객이 생존할 확률은 구체적으로 몇 %인가?)를 알 수는 없지만, 그림으로 보여주기 때문에 굉장히 직관적입니다.\n",
    "반면 pivot table은 구체적인 수치를 보여주지만(ex: 남성 승객이 생존할 확률은 18.9%이다), 그 수치가 어떠한 의미를 가지는지 직관적으로 알기 어렵습니다. (ex: 그래서 남성에 비해 여성 승객의 생존률은 몇 배 차이가 나는가?)\n",
    "그러므로 1) 데이터의 전반적인 분포를 알고 싶다면 데이터 시각화를, 2) 통계치 하나하나의 구체적인 수치를 보고 싶다면 pivot_table을 사용하는 것이 좋습니다.\n",
    "\n",
    "이번에는 데이터 시각화와 pivot table로 다른 컬럼을 분석해보겠습니다."
   ]
  },
  {
   "cell_type": "markdown",
   "metadata": {},
   "source": [
    "#### Feature - Age\n",
    "---\n",
    "\n",
    "* 나이가 어릴수록 생존률이 높았다.\n",
    "* 20~30대에서는 오히려 사망률이 더 높게 측정되었다."
   ]
  },
  {
   "cell_type": "code",
   "execution_count": 16,
   "metadata": {},
   "outputs": [
    {
     "data": {
      "image/png": "[encoded data removed]",
      "text/plain": [
       "<Figure size 915.875x216 with 1 Axes>"
      ]
     },
     "metadata": {
      "needs_background": "light"
     },
     "output_type": "display_data"
    }
   ],
   "source": [
    "facet = sns.FacetGrid(train, hue=\"Survived\",aspect=4)\n",
    "facet.map(sns.kdeplot,'Age',shade= True)\n",
    "facet.set(xlim=(0, train['Age'].max()))\n",
    "facet.add_legend()\n",
    " \n",
    "plt.show()"
   ]
  },
  {
   "cell_type": "markdown",
   "metadata": {},
   "source": [
    "__&gt;&gt;&gt;Age 속성도 지도학습을 위한 Feature로 추출합니다.__"
   ]
  },
  {
   "cell_type": "markdown",
   "metadata": {},
   "source": [
    "#### Feature - Title\n",
    "---\n",
    "\n",
    "* 외국사람의 이름에는 항상 Mr, Miss, Mrs 단어가 붙는다.\n",
    "* 이름만 보고도 그사람의 대강의 나이와 성별 판단이 가능하다.\n",
    "* 이전 분석결과를 바탕으로 밨을때, Miss일수록 생존확률이 높을 것이고. 반면에 Mr는 사망확률이 높을 것이다.\n",
    "\n",
    "* Name column을 기술적으로 변경 -> 응용 -> 'Title'\n",
    "* Encoding 기법이 적용되어야 하는 column | Sex<br>\n",
    "    Mr : 0 <br>\n",
    "    Miss : 1 <br>\n",
    "    Mrs : 2 <br>\n",
    "    그외 : 3 <br>\n",
    "\n"
   ]
  },
  {
   "cell_type": "code",
   "execution_count": 17,
   "metadata": {},
   "outputs": [],
   "source": [
    "train_test_data= [train, test] \n",
    "for dataset in train_test_data:\n",
    "    dataset['Title'] = dataset['Name'].str.extract(' ([A-Za-z]+)\\.', expand=False)\n",
    "\n",
    "# Ms : etc --> Ms: Miss\n",
    "    \n",
    "title_mapping = {\"Mr\": \"Mr\", \"Miss\": \"Miss\", \"Mrs\": \"Mrs\", \n",
    "                 \"Master\": \"etc\", \"Dr\": \"etc\", \"Rev\": \"etc\", \"Col\": \"etc\", \"Major\": \"etc\", \"Mlle\": \"etc\",\"Countess\": \"etc\",\n",
    "                 \"Ms\": \"Miss\", \"Lady\": \"etc\", \"Jonkheer\": \"etc\", \"Don\": \"etc\", \"Dona\" : \"etc\", \"Mme\": \"etc\",\"Capt\": \"etc\",\"Sir\": \"etc\" }\n",
    "for dataset in train_test_data:\n",
    "    dataset['Title'] = dataset['Title'].map(title_mapping)\n",
    "    \n",
    "train.drop('Name', axis=1, inplace=True)\n",
    "test.drop('Name', axis=1, inplace=True)"
   ]
  },
  {
   "cell_type": "code",
   "execution_count": 18,
   "metadata": {},
   "outputs": [
    {
     "data": {
      "image/png": "[encoded data removed]",
      "text/plain": [
       "<Figure size 1080x720 with 1 Axes>"
      ]
     },
     "metadata": {
      "needs_background": "light"
     },
     "output_type": "display_data"
    }
   ],
   "source": [
    "bar_chart('Title')"
   ]
  },
  {
   "cell_type": "markdown",
   "metadata": {},
   "source": [
    "__&gt;&gt;&gt;Title 속성도 지도학습을 위한 Feature로 추출합니다.__"
   ]
  },
  {
   "cell_type": "markdown",
   "metadata": {},
   "source": [
    "#### Feature - Family Size\n",
    "---\n",
    "\n",
    "* 같이 동반한 가족의 수가 없다면 사명할 확률이 높다.\n",
    "* 가족이 1명이나 2명일 경우에는 생존자가 미세하지만 조금 더 많이 나온다\n",
    "* 가족이 3명일때 생존자가 더 많다.\n"
   ]
  },
  {
   "cell_type": "code",
   "execution_count": 19,
   "metadata": {},
   "outputs": [
    {
     "data": {
      "image/png": "[encoded data removed]",
      "text/plain": [
       "<Figure size 1080x720 with 1 Axes>"
      ]
     },
     "metadata": {
      "needs_background": "light"
     },
     "output_type": "display_data"
    }
   ],
   "source": [
    "train[\"FamilySize\"] = train[\"SibSp\"] + train[\"Parch\"]\n",
    "test[\"FamilySize\"] = test[\"SibSp\"] + test[\"Parch\"]\n",
    "train.drop('SibSp', axis=1, inplace=True)\n",
    "test.drop('SibSp', axis=1, inplace=True)\n",
    "train.drop('Parch', axis=1, inplace=True)\n",
    "test.drop('Parch', axis=1, inplace=True)\n",
    "\n",
    "bar_chart('FamilySize')"
   ]
  },
  {
   "cell_type": "markdown",
   "metadata": {},
   "source": [
    "__&gt;&gt;&gt;같이 동반한 가족의 수도 생존 사망과 연관이 있다.\n",
    "지도학습에 대상으로 동반가족수 Feature도 추출합니다.__"
   ]
  },
  {
   "cell_type": "markdown",
   "metadata": {},
   "source": [
    "#### Feature - Embarked\n",
    "\n",
    "* S선착장에서 탑승한 사람일수록 사망률 높다.\n",
    "* C선착장에서 탐승한 사람일수록 생존률 높다.\n"
   ]
  },
  {
   "cell_type": "code",
   "execution_count": 20,
   "metadata": {
    "scrolled": false
   },
   "outputs": [
    {
     "data": {
      "image/png": "[encoded data removed]",
      "text/plain": [
       "<Figure size 1080x720 with 1 Axes>"
      ]
     },
     "metadata": {
      "needs_background": "light"
     },
     "output_type": "display_data"
    }
   ],
   "source": [
    "bar_chart('Embarked')"
   ]
  },
  {
   "cell_type": "markdown",
   "metadata": {},
   "source": [
    "## Cabin\n",
    "---\n",
    "뭔가 Cabin 은 연관이 있을 것 같다."
   ]
  },
  {
   "cell_type": "code",
   "execution_count": 21,
   "metadata": {},
   "outputs": [
    {
     "data": {
      "image/png": "[encoded data removed]",
      "text/plain": [
       "<Figure size 1080x720 with 1 Axes>"
      ]
     },
     "metadata": {
      "needs_background": "light"
     },
     "output_type": "display_data"
    },
    {
     "data": {
      "text/plain": [
       "0    327\n",
       "1     74\n",
       "2     10\n",
       "3      4\n",
       "4      3\n",
       "Name: Cabin_multiple, dtype: int64"
      ]
     },
     "execution_count": 21,
     "metadata": {},
     "output_type": "execute_result"
    }
   ],
   "source": [
    "train['Cabin_multiple'] = train.Cabin.apply(lambda x:0 if pd.isna(x) else len(x.split(' ')))\n",
    "train.Cabin_multiple.value_counts()\n",
    "bar_chart('Cabin_multiple')\n",
    "\n",
    "test['Cabin_multiple'] = test.Cabin.apply(lambda x:0 if pd.isna(x) else len(x.split(' ')))\n",
    "test.Cabin_multiple.value_counts()\n"
   ]
  },
  {
   "cell_type": "markdown",
   "metadata": {},
   "source": [
    "---"
   ]
  },
  {
   "cell_type": "markdown",
   "metadata": {},
   "source": [
    "__&gt;&gt;&gt;Embarked 속성도 지도학습을 위한 Feature로 추출합니다.__"
   ]
  },
  {
   "cell_type": "markdown",
   "metadata": {},
   "source": [
    "### III. Pre Processing\n",
    "---\n",
    "모델을 생성해서 머신러닝(Machine Learning) 알고리즘에 넣기 위해서는(Training 과정), 데이터를 머신러닝 알고리즘이 이해할 수 있는 형태로 변환해줘야 합니다. 이 과정을 전문용어로 전처리(Preprocessing)라고 합니다.\n",
    "\n",
    "scikit-learn 에서 제공하는 머신러닝 알고리즘에 데이터를 넣을 수 있는 기본 조건은 다음과 같습니다.\n",
    "\n",
    "1. 불필요한 속성은 과감히 제거한다\n",
    "2. Fill in Missing Value(데이터에 빈 값이 없어야 한다) - 결측치 값에 대한 전략이 필요함 \n",
    "3. 모든 데이터는 숫자(정수형, 소수점 등)로 구성되어 있어야 한다.\n",
    "\n",
    "\n",
    "\n",
    "__타이타닉 데이터에 있는 세 컬럼(Sex, Fare, Embarked)을 전처리해 봅니다.__"
   ]
  },
  {
   "cell_type": "markdown",
   "metadata": {},
   "source": [
    "#### 1. 관련없는 데이터 속성을 삭제\n",
    "---\n",
    "\n",
    "* Ticket\n",
    "* Cabin\n",
    "* PassengerId"
   ]
  },
  {
   "cell_type": "code",
   "execution_count": 22,
   "metadata": {},
   "outputs": [],
   "source": [
    "# Feature Engineering 과정에서 추출되지 않은 \n",
    "\n",
    "train.drop('Ticket', axis=1, inplace=True)\n",
    "test.drop('Ticket', axis=1, inplace=True)\n",
    "\n",
    "train.drop('Cabin', axis=1, inplace=True)\n",
    "test.drop('Cabin', axis=1, inplace=True)\n",
    "\n",
    "test_PassengerId=test[\"PassengerId\"]\n",
    "train.drop('PassengerId', axis = 1, inplace=True)\n",
    "test.drop('PassengerId', axis = 1, inplace=True)"
   ]
  },
  {
   "cell_type": "markdown",
   "metadata": {},
   "source": [
    "#### 2. Fill in Missing Value\n",
    "---\n",
    "\n",
    "<u><span style=\"color:blue\">scikit-learn</span></u>의 머신러닝 알고리즘에 데이터를 넣을 땐 언제나 데이터에 값이 채워져 있어야 합니다. <br>\n",
    "만일 데이터에 NaN이라는 값이 있다면 이는 비어있다는 의미이며, <br>\n",
    "이 데이터를 머신러닝 알고리즘에 넣으면 에러가 발생합니다.\n",
    "\n",
    "* Age\n",
    "\n",
    "\n",
    "그룹별로 평균내서 결측값을 채운다.<br>\n",
    "Mr, Miss, Mrs 그룹 사람들의 나이 평균으로 채운다.\n",
    "\n",
    "* Fare\n",
    "\n",
    "\n",
    "그룹별로 평균내서, 결측치 채우기<br>\n",
    "1등석은 1등석끼리, 2등석은 2등석끼리, 3등석은 3등석끼리 평균내서 채운다\n",
    "\n",
    "\n",
    "* Embarked\n",
    "\n",
    "1등석, 2등석, 3등석 모두 각각의 등석별로 표를 구매한 선착장이 'S'가 가장 많았다.<br>\n",
    "1,2,3 등석 모두가 S선착장에서 구입한 비율이 50%를 넘어섰기 때문에 결측치값은 기본값을 S로 지정했다.(?)"
   ]
  },
  {
   "cell_type": "code",
   "execution_count": 23,
   "metadata": {},
   "outputs": [
    {
     "data": {
      "text/html": [
       "<div>\n",
       "<style scoped>\n",
       "    .dataframe tbody tr th:only-of-type {\n",
       "        vertical-align: middle;\n",
       "    }\n",
       "\n",
       "    .dataframe tbody tr th {\n",
       "        vertical-align: top;\n",
       "    }\n",
       "\n",
       "    .dataframe thead th {\n",
       "        text-align: right;\n",
       "    }\n",
       "</style>\n",
       "<table border=\"1\" class=\"dataframe\">\n",
       "  <thead>\n",
       "    <tr style=\"text-align: right;\">\n",
       "      <th></th>\n",
       "      <th>Survived</th>\n",
       "      <th>Pclass</th>\n",
       "      <th>Sex</th>\n",
       "      <th>Age</th>\n",
       "      <th>Fare</th>\n",
       "      <th>Embarked</th>\n",
       "      <th>Title</th>\n",
       "      <th>FamilySize</th>\n",
       "      <th>Cabin_multiple</th>\n",
       "    </tr>\n",
       "  </thead>\n",
       "  <tbody>\n",
       "    <tr>\n",
       "      <th>0</th>\n",
       "      <td>0</td>\n",
       "      <td>3</td>\n",
       "      <td>male</td>\n",
       "      <td>22.0</td>\n",
       "      <td>7.2500</td>\n",
       "      <td>S</td>\n",
       "      <td>Mr</td>\n",
       "      <td>1</td>\n",
       "      <td>0</td>\n",
       "    </tr>\n",
       "    <tr>\n",
       "      <th>1</th>\n",
       "      <td>1</td>\n",
       "      <td>1</td>\n",
       "      <td>female</td>\n",
       "      <td>38.0</td>\n",
       "      <td>71.2833</td>\n",
       "      <td>C</td>\n",
       "      <td>Mrs</td>\n",
       "      <td>1</td>\n",
       "      <td>1</td>\n",
       "    </tr>\n",
       "    <tr>\n",
       "      <th>2</th>\n",
       "      <td>1</td>\n",
       "      <td>3</td>\n",
       "      <td>female</td>\n",
       "      <td>26.0</td>\n",
       "      <td>7.9250</td>\n",
       "      <td>S</td>\n",
       "      <td>Miss</td>\n",
       "      <td>0</td>\n",
       "      <td>0</td>\n",
       "    </tr>\n",
       "    <tr>\n",
       "      <th>3</th>\n",
       "      <td>1</td>\n",
       "      <td>1</td>\n",
       "      <td>female</td>\n",
       "      <td>35.0</td>\n",
       "      <td>53.1000</td>\n",
       "      <td>S</td>\n",
       "      <td>Mrs</td>\n",
       "      <td>1</td>\n",
       "      <td>1</td>\n",
       "    </tr>\n",
       "    <tr>\n",
       "      <th>4</th>\n",
       "      <td>0</td>\n",
       "      <td>3</td>\n",
       "      <td>male</td>\n",
       "      <td>35.0</td>\n",
       "      <td>8.0500</td>\n",
       "      <td>S</td>\n",
       "      <td>Mr</td>\n",
       "      <td>0</td>\n",
       "      <td>0</td>\n",
       "    </tr>\n",
       "  </tbody>\n",
       "</table>\n",
       "</div>"
      ],
      "text/plain": [
       "   Survived  Pclass     Sex   Age     Fare Embarked Title  FamilySize  \\\n",
       "0         0       3    male  22.0   7.2500        S    Mr           1   \n",
       "1         1       1  female  38.0  71.2833        C   Mrs           1   \n",
       "2         1       3  female  26.0   7.9250        S  Miss           0   \n",
       "3         1       1  female  35.0  53.1000        S   Mrs           1   \n",
       "4         0       3    male  35.0   8.0500        S    Mr           0   \n",
       "\n",
       "   Cabin_multiple  \n",
       "0               0  \n",
       "1               1  \n",
       "2               0  \n",
       "3               1  \n",
       "4               0  "
      ]
     },
     "execution_count": 23,
     "metadata": {},
     "output_type": "execute_result"
    }
   ],
   "source": [
    "test.head(5)\n",
    "train.head(5)"
   ]
  },
  {
   "cell_type": "code",
   "execution_count": 24,
   "metadata": {},
   "outputs": [],
   "source": [
    "train[\"Age\"].fillna(train.groupby(\"Title\")[\"Age\"].transform(\"median\"), inplace=True)\n",
    "test[\"Age\"].fillna(test.groupby(\"Title\")[\"Age\"].transform(\"median\"), inplace=True)"
   ]
  },
  {
   "cell_type": "code",
   "execution_count": 25,
   "metadata": {},
   "outputs": [],
   "source": [
    "train[\"Fare\"].fillna(train.groupby(\"Pclass\")[\"Fare\"].transform(\"median\"), inplace=True)\n",
    "test[\"Fare\"].fillna(test.groupby(\"Pclass\")[\"Fare\"].transform(\"median\"), inplace=True)"
   ]
  },
  {
   "cell_type": "code",
   "execution_count": 26,
   "metadata": {},
   "outputs": [
    {
     "data": {
      "text/plain": [
       "<AxesSubplot:>"
      ]
     },
     "execution_count": 26,
     "metadata": {},
     "output_type": "execute_result"
    },
    {
     "data": {
      "image/png": "[encoded data removed]",
      "text/plain": [
       "<Figure size 720x360 with 1 Axes>"
      ]
     },
     "metadata": {
      "needs_background": "light"
     },
     "output_type": "display_data"
    }
   ],
   "source": [
    "Pclass1 = train[train['Pclass']==1]['Embarked'].value_counts()\n",
    "Pclass2 = train[train['Pclass']==2]['Embarked'].value_counts()\n",
    "Pclass3 = train[train['Pclass']==3]['Embarked'].value_counts()\n",
    "df = pd.DataFrame([Pclass1, Pclass2, Pclass3])\n",
    "df.index = ['1st class','2nd class', '3rd class']\n",
    "df.plot(kind='bar',stacked=True, figsize=(10,5))"
   ]
  },
  {
   "cell_type": "code",
   "execution_count": 27,
   "metadata": {},
   "outputs": [],
   "source": [
    "for dataset in train_test_data:\n",
    "    dataset['Embarked'] = dataset['Embarked'].fillna('S')"
   ]
  },
  {
   "cell_type": "markdown",
   "metadata": {},
   "source": [
    "#### 3. 모든 데이터는 숫자(정수형, 소수점 등)로 구성되어 있어야 한다\n",
    "\n",
    "__3-1. Binning(구간화)__\n",
    "\n",
    "Binning은 대표적인 Feature Engineering 기법 중의 하나로 숫자형 변수를 범주형 변수로 변형하는 작업이다\n",
    "\n",
    "승객들을 해당 승객의 나이(숫자)에 따라 총 5구간으로 구분하는 작업(Binning)을 했다.\n",
    "\n",
    "구간화(Binning)를 이용하면, <br>\n",
    "(1) 이상치로 발생 가능한 문제를 완화 시켜줄 수 있고,  <br>\n",
    "(2) 결측치 처리를 보다 간편하게 할 수 있습니다.  <br>\n",
    "(3) 과적합을 완화 시켜주는 효과가 있고,  <br>\n",
    "(4) 결과에 대한 해석이 용이하다는 장점도 있습니다. <br>\n",
    "(5) Target 변수와의 관계가 비선형인 경우도 설명이 가능합니다. <br>\n",
    "\n",
    "\n",
    "__3-2. Encoding__\n",
    "\n",
    "성별 컬럼을 전처리하는 가장 쉬운 방법은 male은 0으로, female은 1로 바꿔주는 것입니다. 이를 전문 용어로 인코딩(Encoding)이라고 합니다.<br>\n",
    "여기서는 Sex, Embarked, Title 컬럼을 숫자로 매핑시켜 줍니다."
   ]
  },
  {
   "cell_type": "markdown",
   "metadata": {},
   "source": [
    "#### - Age Binning(구간화)\n",
    "---"
   ]
  },
  {
   "cell_type": "code",
   "execution_count": 28,
   "metadata": {},
   "outputs": [
    {
     "data": {
      "image/png": "[encoded data removed]",
      "text/plain": [
       "<Figure size 915.875x216 with 1 Axes>"
      ]
     },
     "metadata": {
      "needs_background": "light"
     },
     "output_type": "display_data"
    }
   ],
   "source": [
    "facet = sns.FacetGrid(train, hue=\"Survived\",aspect=4)\n",
    "facet.map(sns.kdeplot,'Age',shade= True)\n",
    "facet.set(xlim=(0, train['Age'].max()))\n",
    "facet.add_legend()\n",
    " \n",
    "plt.show()"
   ]
  },
  {
   "cell_type": "code",
   "execution_count": 29,
   "metadata": {},
   "outputs": [],
   "source": [
    "# 나이를 구획화 했다.\n",
    "\n",
    "for dataset in train_test_data:\n",
    "    dataset.loc[ dataset['Age'] <= 10, 'Age'] = 0\n",
    "    dataset.loc[(dataset['Age'] > 10) & (dataset['Age'] <= 22), 'Age'] = 1\n",
    "    dataset.loc[(dataset['Age'] > 22) & (dataset['Age'] <= 34), 'Age'] = 2\n",
    "    dataset.loc[(dataset['Age'] > 34) & (dataset['Age'] <= 45), 'Age'] = 3\n",
    "    dataset.loc[(dataset['Age'] > 45) & (dataset['Age'] <= 62), 'Age'] = 4\n",
    "    dataset.loc[ dataset['Age'] > 62, 'Age'] = 5"
   ]
  },
  {
   "cell_type": "markdown",
   "metadata": {},
   "source": [
    "#### - Fare Binning(구간화)"
   ]
  },
  {
   "cell_type": "code",
   "execution_count": 30,
   "metadata": {},
   "outputs": [
    {
     "data": {
      "image/png": "[encoded data removed]",
      "text/plain": [
       "<Figure size 915.875x216 with 1 Axes>"
      ]
     },
     "metadata": {
      "needs_background": "light"
     },
     "output_type": "display_data"
    }
   ],
   "source": [
    "facet = sns.FacetGrid(train, hue=\"Survived\",aspect=4)\n",
    "facet.map(sns.kdeplot,'Fare',shade= True)\n",
    "facet.set(xlim=(0, train['Fare'].max()))\n",
    "facet.add_legend()\n",
    "plt.xlim(0,180)\n",
    "plt.show()"
   ]
  },
  {
   "cell_type": "code",
   "execution_count": 31,
   "metadata": {},
   "outputs": [],
   "source": [
    "# 요금도 구획화했다.\n",
    "\n",
    "for dataset in train_test_data:\n",
    "    dataset.loc[ dataset['Fare'] <= 17, 'Fare'] = 0\n",
    "    dataset.loc[(dataset['Fare'] > 17) & (dataset['Fare'] <= 30), 'Fare'] = 1\n",
    "    dataset.loc[(dataset['Fare'] > 30) & (dataset['Fare'] <= 70), 'Fare'] = 2\n",
    "    dataset.loc[(dataset['Fare'] > 70) & (dataset['Fare'] <= 100), 'Fare'] = 3\n",
    "    dataset.loc[ dataset['Fare'] > 100, 'Fare'] = 4"
   ]
  },
  {
   "cell_type": "markdown",
   "metadata": {},
   "source": [
    "#### - Sex Encoding"
   ]
  },
  {
   "cell_type": "code",
   "execution_count": 32,
   "metadata": {},
   "outputs": [],
   "source": [
    "# 머신에게 학습을 시킬때는 문자열로는 학습이 안된다. 모든 값을 숫자로 매핑시킨다.\n",
    "sex_mapping = {\"male\": 0, \"female\": 1}\n",
    "for dataset in train_test_data:\n",
    "    dataset['Sex'] = dataset['Sex'].map(sex_mapping)"
   ]
  },
  {
   "cell_type": "markdown",
   "metadata": {},
   "source": [
    "#### - Embarked Encoding"
   ]
  },
  {
   "cell_type": "code",
   "execution_count": 33,
   "metadata": {},
   "outputs": [],
   "source": [
    "# 선착장을 숫자로 맵핑\n",
    "embarked_mapping = {\"S\": 0, \"C\": 1, \"Q\": 2}\n",
    "for dataset in train_test_data:\n",
    "    dataset['Embarked'] = dataset['Embarked'].map(embarked_mapping)"
   ]
  },
  {
   "cell_type": "markdown",
   "metadata": {},
   "source": [
    "#### - Title Encoding"
   ]
  },
  {
   "cell_type": "code",
   "execution_count": 34,
   "metadata": {},
   "outputs": [],
   "source": [
    "title_mapping = {\"Mr\": 0, \"Miss\": 1, \"Mrs\": 2, \"etc\": 3}\n",
    "for dataset in train_test_data:\n",
    "    dataset['Title'] = dataset['Title'].map(title_mapping)"
   ]
  },
  {
   "cell_type": "code",
   "execution_count": 35,
   "metadata": {},
   "outputs": [
    {
     "data": {
      "text/html": [
       "<div>\n",
       "<style scoped>\n",
       "    .dataframe tbody tr th:only-of-type {\n",
       "        vertical-align: middle;\n",
       "    }\n",
       "\n",
       "    .dataframe tbody tr th {\n",
       "        vertical-align: top;\n",
       "    }\n",
       "\n",
       "    .dataframe thead th {\n",
       "        text-align: right;\n",
       "    }\n",
       "</style>\n",
       "<table border=\"1\" class=\"dataframe\">\n",
       "  <thead>\n",
       "    <tr style=\"text-align: right;\">\n",
       "      <th></th>\n",
       "      <th>Survived</th>\n",
       "      <th>Pclass</th>\n",
       "      <th>Sex</th>\n",
       "      <th>Age</th>\n",
       "      <th>Fare</th>\n",
       "      <th>Embarked</th>\n",
       "      <th>Title</th>\n",
       "      <th>FamilySize</th>\n",
       "      <th>Cabin_multiple</th>\n",
       "    </tr>\n",
       "  </thead>\n",
       "  <tbody>\n",
       "    <tr>\n",
       "      <th>0</th>\n",
       "      <td>0</td>\n",
       "      <td>3</td>\n",
       "      <td>0</td>\n",
       "      <td>1.0</td>\n",
       "      <td>0.0</td>\n",
       "      <td>0</td>\n",
       "      <td>0</td>\n",
       "      <td>1</td>\n",
       "      <td>0</td>\n",
       "    </tr>\n",
       "    <tr>\n",
       "      <th>1</th>\n",
       "      <td>1</td>\n",
       "      <td>1</td>\n",
       "      <td>1</td>\n",
       "      <td>3.0</td>\n",
       "      <td>3.0</td>\n",
       "      <td>1</td>\n",
       "      <td>2</td>\n",
       "      <td>1</td>\n",
       "      <td>1</td>\n",
       "    </tr>\n",
       "    <tr>\n",
       "      <th>2</th>\n",
       "      <td>1</td>\n",
       "      <td>3</td>\n",
       "      <td>1</td>\n",
       "      <td>2.0</td>\n",
       "      <td>0.0</td>\n",
       "      <td>0</td>\n",
       "      <td>1</td>\n",
       "      <td>0</td>\n",
       "      <td>0</td>\n",
       "    </tr>\n",
       "    <tr>\n",
       "      <th>3</th>\n",
       "      <td>1</td>\n",
       "      <td>1</td>\n",
       "      <td>1</td>\n",
       "      <td>3.0</td>\n",
       "      <td>2.0</td>\n",
       "      <td>0</td>\n",
       "      <td>2</td>\n",
       "      <td>1</td>\n",
       "      <td>1</td>\n",
       "    </tr>\n",
       "    <tr>\n",
       "      <th>4</th>\n",
       "      <td>0</td>\n",
       "      <td>3</td>\n",
       "      <td>0</td>\n",
       "      <td>3.0</td>\n",
       "      <td>0.0</td>\n",
       "      <td>0</td>\n",
       "      <td>0</td>\n",
       "      <td>0</td>\n",
       "      <td>0</td>\n",
       "    </tr>\n",
       "  </tbody>\n",
       "</table>\n",
       "</div>"
      ],
      "text/plain": [
       "   Survived  Pclass  Sex  Age  Fare  Embarked  Title  FamilySize  \\\n",
       "0         0       3    0  1.0   0.0         0      0           1   \n",
       "1         1       1    1  3.0   3.0         1      2           1   \n",
       "2         1       3    1  2.0   0.0         0      1           0   \n",
       "3         1       1    1  3.0   2.0         0      2           1   \n",
       "4         0       3    0  3.0   0.0         0      0           0   \n",
       "\n",
       "   Cabin_multiple  \n",
       "0               0  \n",
       "1               1  \n",
       "2               0  \n",
       "3               1  \n",
       "4               0  "
      ]
     },
     "execution_count": 35,
     "metadata": {},
     "output_type": "execute_result"
    }
   ],
   "source": [
    "train.head()"
   ]
  },
  {
   "cell_type": "code",
   "execution_count": 36,
   "metadata": {},
   "outputs": [
    {
     "data": {
      "text/html": [
       "<div>\n",
       "<style scoped>\n",
       "    .dataframe tbody tr th:only-of-type {\n",
       "        vertical-align: middle;\n",
       "    }\n",
       "\n",
       "    .dataframe tbody tr th {\n",
       "        vertical-align: top;\n",
       "    }\n",
       "\n",
       "    .dataframe thead th {\n",
       "        text-align: right;\n",
       "    }\n",
       "</style>\n",
       "<table border=\"1\" class=\"dataframe\">\n",
       "  <thead>\n",
       "    <tr style=\"text-align: right;\">\n",
       "      <th></th>\n",
       "      <th>Pclass</th>\n",
       "      <th>Sex</th>\n",
       "      <th>Age</th>\n",
       "      <th>Fare</th>\n",
       "      <th>Embarked</th>\n",
       "      <th>Title</th>\n",
       "      <th>FamilySize</th>\n",
       "      <th>Cabin_multiple</th>\n",
       "    </tr>\n",
       "  </thead>\n",
       "  <tbody>\n",
       "    <tr>\n",
       "      <th>0</th>\n",
       "      <td>3</td>\n",
       "      <td>0</td>\n",
       "      <td>3.0</td>\n",
       "      <td>0.0</td>\n",
       "      <td>2</td>\n",
       "      <td>0</td>\n",
       "      <td>0</td>\n",
       "      <td>0</td>\n",
       "    </tr>\n",
       "    <tr>\n",
       "      <th>1</th>\n",
       "      <td>3</td>\n",
       "      <td>1</td>\n",
       "      <td>4.0</td>\n",
       "      <td>0.0</td>\n",
       "      <td>0</td>\n",
       "      <td>2</td>\n",
       "      <td>1</td>\n",
       "      <td>0</td>\n",
       "    </tr>\n",
       "    <tr>\n",
       "      <th>2</th>\n",
       "      <td>2</td>\n",
       "      <td>0</td>\n",
       "      <td>4.0</td>\n",
       "      <td>0.0</td>\n",
       "      <td>2</td>\n",
       "      <td>0</td>\n",
       "      <td>0</td>\n",
       "      <td>0</td>\n",
       "    </tr>\n",
       "    <tr>\n",
       "      <th>3</th>\n",
       "      <td>3</td>\n",
       "      <td>0</td>\n",
       "      <td>2.0</td>\n",
       "      <td>0.0</td>\n",
       "      <td>0</td>\n",
       "      <td>0</td>\n",
       "      <td>0</td>\n",
       "      <td>0</td>\n",
       "    </tr>\n",
       "    <tr>\n",
       "      <th>4</th>\n",
       "      <td>3</td>\n",
       "      <td>1</td>\n",
       "      <td>1.0</td>\n",
       "      <td>0.0</td>\n",
       "      <td>0</td>\n",
       "      <td>2</td>\n",
       "      <td>2</td>\n",
       "      <td>0</td>\n",
       "    </tr>\n",
       "  </tbody>\n",
       "</table>\n",
       "</div>"
      ],
      "text/plain": [
       "   Pclass  Sex  Age  Fare  Embarked  Title  FamilySize  Cabin_multiple\n",
       "0       3    0  3.0   0.0         2      0           0               0\n",
       "1       3    1  4.0   0.0         0      2           1               0\n",
       "2       2    0  4.0   0.0         2      0           0               0\n",
       "3       3    0  2.0   0.0         0      0           0               0\n",
       "4       3    1  1.0   0.0         0      2           2               0"
      ]
     },
     "execution_count": 36,
     "metadata": {},
     "output_type": "execute_result"
    }
   ],
   "source": [
    "test.head()"
   ]
  },
  {
   "cell_type": "code",
   "execution_count": 37,
   "metadata": {},
   "outputs": [
    {
     "data": {
      "text/html": [
       "<div>\n",
       "<style scoped>\n",
       "    .dataframe tbody tr th:only-of-type {\n",
       "        vertical-align: middle;\n",
       "    }\n",
       "\n",
       "    .dataframe tbody tr th {\n",
       "        vertical-align: top;\n",
       "    }\n",
       "\n",
       "    .dataframe thead th {\n",
       "        text-align: right;\n",
       "    }\n",
       "</style>\n",
       "<table border=\"1\" class=\"dataframe\">\n",
       "  <thead>\n",
       "    <tr style=\"text-align: right;\">\n",
       "      <th></th>\n",
       "      <th>Pclass</th>\n",
       "      <th>Sex</th>\n",
       "      <th>Age</th>\n",
       "      <th>Fare</th>\n",
       "      <th>Embarked</th>\n",
       "      <th>Title</th>\n",
       "      <th>FamilySize</th>\n",
       "      <th>Cabin_multiple</th>\n",
       "    </tr>\n",
       "  </thead>\n",
       "  <tbody>\n",
       "    <tr>\n",
       "      <th>0</th>\n",
       "      <td>3</td>\n",
       "      <td>0</td>\n",
       "      <td>1.0</td>\n",
       "      <td>0.0</td>\n",
       "      <td>0</td>\n",
       "      <td>0</td>\n",
       "      <td>1</td>\n",
       "      <td>0</td>\n",
       "    </tr>\n",
       "    <tr>\n",
       "      <th>1</th>\n",
       "      <td>1</td>\n",
       "      <td>1</td>\n",
       "      <td>3.0</td>\n",
       "      <td>3.0</td>\n",
       "      <td>1</td>\n",
       "      <td>2</td>\n",
       "      <td>1</td>\n",
       "      <td>1</td>\n",
       "    </tr>\n",
       "    <tr>\n",
       "      <th>2</th>\n",
       "      <td>3</td>\n",
       "      <td>1</td>\n",
       "      <td>2.0</td>\n",
       "      <td>0.0</td>\n",
       "      <td>0</td>\n",
       "      <td>1</td>\n",
       "      <td>0</td>\n",
       "      <td>0</td>\n",
       "    </tr>\n",
       "    <tr>\n",
       "      <th>3</th>\n",
       "      <td>1</td>\n",
       "      <td>1</td>\n",
       "      <td>3.0</td>\n",
       "      <td>2.0</td>\n",
       "      <td>0</td>\n",
       "      <td>2</td>\n",
       "      <td>1</td>\n",
       "      <td>1</td>\n",
       "    </tr>\n",
       "    <tr>\n",
       "      <th>4</th>\n",
       "      <td>3</td>\n",
       "      <td>0</td>\n",
       "      <td>3.0</td>\n",
       "      <td>0.0</td>\n",
       "      <td>0</td>\n",
       "      <td>0</td>\n",
       "      <td>0</td>\n",
       "      <td>0</td>\n",
       "    </tr>\n",
       "    <tr>\n",
       "      <th>...</th>\n",
       "      <td>...</td>\n",
       "      <td>...</td>\n",
       "      <td>...</td>\n",
       "      <td>...</td>\n",
       "      <td>...</td>\n",
       "      <td>...</td>\n",
       "      <td>...</td>\n",
       "      <td>...</td>\n",
       "    </tr>\n",
       "    <tr>\n",
       "      <th>886</th>\n",
       "      <td>2</td>\n",
       "      <td>0</td>\n",
       "      <td>2.0</td>\n",
       "      <td>0.0</td>\n",
       "      <td>0</td>\n",
       "      <td>3</td>\n",
       "      <td>0</td>\n",
       "      <td>0</td>\n",
       "    </tr>\n",
       "    <tr>\n",
       "      <th>887</th>\n",
       "      <td>1</td>\n",
       "      <td>1</td>\n",
       "      <td>1.0</td>\n",
       "      <td>1.0</td>\n",
       "      <td>0</td>\n",
       "      <td>1</td>\n",
       "      <td>0</td>\n",
       "      <td>1</td>\n",
       "    </tr>\n",
       "    <tr>\n",
       "      <th>888</th>\n",
       "      <td>3</td>\n",
       "      <td>1</td>\n",
       "      <td>1.0</td>\n",
       "      <td>1.0</td>\n",
       "      <td>0</td>\n",
       "      <td>1</td>\n",
       "      <td>3</td>\n",
       "      <td>0</td>\n",
       "    </tr>\n",
       "    <tr>\n",
       "      <th>889</th>\n",
       "      <td>1</td>\n",
       "      <td>0</td>\n",
       "      <td>2.0</td>\n",
       "      <td>1.0</td>\n",
       "      <td>1</td>\n",
       "      <td>0</td>\n",
       "      <td>0</td>\n",
       "      <td>1</td>\n",
       "    </tr>\n",
       "    <tr>\n",
       "      <th>890</th>\n",
       "      <td>3</td>\n",
       "      <td>0</td>\n",
       "      <td>2.0</td>\n",
       "      <td>0.0</td>\n",
       "      <td>2</td>\n",
       "      <td>0</td>\n",
       "      <td>0</td>\n",
       "      <td>0</td>\n",
       "    </tr>\n",
       "  </tbody>\n",
       "</table>\n",
       "<p>891 rows × 8 columns</p>\n",
       "</div>"
      ],
      "text/plain": [
       "     Pclass  Sex  Age  Fare  Embarked  Title  FamilySize  Cabin_multiple\n",
       "0         3    0  1.0   0.0         0      0           1               0\n",
       "1         1    1  3.0   3.0         1      2           1               1\n",
       "2         3    1  2.0   0.0         0      1           0               0\n",
       "3         1    1  3.0   2.0         0      2           1               1\n",
       "4         3    0  3.0   0.0         0      0           0               0\n",
       "..      ...  ...  ...   ...       ...    ...         ...             ...\n",
       "886       2    0  2.0   0.0         0      3           0               0\n",
       "887       1    1  1.0   1.0         0      1           0               1\n",
       "888       3    1  1.0   1.0         0      1           3               0\n",
       "889       1    0  2.0   1.0         1      0           0               1\n",
       "890       3    0  2.0   0.0         2      0           0               0\n",
       "\n",
       "[891 rows x 8 columns]"
      ]
     },
     "execution_count": 37,
     "metadata": {},
     "output_type": "execute_result"
    }
   ],
   "source": [
    "train_data = train.drop('Survived', axis=1)\n",
    "train_data"
   ]
  },
  {
   "cell_type": "code",
   "execution_count": 38,
   "metadata": {},
   "outputs": [
    {
     "data": {
      "text/plain": [
       "0      0\n",
       "1      1\n",
       "2      1\n",
       "3      1\n",
       "4      0\n",
       "      ..\n",
       "886    0\n",
       "887    1\n",
       "888    0\n",
       "889    1\n",
       "890    0\n",
       "Name: Survived, Length: 891, dtype: int64"
      ]
     },
     "execution_count": 38,
     "metadata": {},
     "output_type": "execute_result"
    }
   ],
   "source": [
    "train_label = train['Survived']\n",
    "train_label"
   ]
  },
  {
   "cell_type": "markdown",
   "metadata": {},
   "source": [
    "### IV. Model Generator\n",
    "---\n",
    "\n",
    "이제 전처리(preprocessing)한 데이터를 활용해 Model을 생성해 봅니다.\n",
    "\n",
    "지도학습(Supervised Learning) 이라고 불리우는 알고리즘은 여러가지가 있습니다.<br>\n",
    "우리는 지금까지 SVM으로만 모델을 학습시켜 왔는데 다른 모델을 생성해서 사용해 보기로 합니다.<br>\n",
    "지도학습에는 어떤 모델들이 있는지 먼저 소개부터 한다.<br>\n",
    "\n",
    "<u><span style=\"color:blue\">[scikit-learn](https://scikit-learn.org/stable/auto_examples/classification/plot_classifier_comparison.html )</span></u> 분류방법 모델 사이트로 들어가서 어떤 것들이 있는지 확인해 보도록 합니다.<br>\n",
    "\n",
    "여기 보면 각각의 알고리즘들이 어떻게 데이타를 분리하는지 나와있다.\n",
    "Decision Tree , Random Forest, Ada Boost 등이 있다.\n",
    "이것들은 우리가 앞으로 다룰 중요한 분류모델들 입니다.\n",
    "\n",
    "Supervised Learning 알고리즘을 학습시키기 위해서는 두 가지 타입의 데이터가 필요합니다.\n",
    "\n",
    "Label: 레이블(Label), 내지는 타겟 변수(Target Variable)이라고 부릅니다. (몇몇 곳에서는 Class라고도 부릅니다) 쉽게 말해 우리가 맞춰야 하는 정답입니다. 타이타닉 경진대회에서는 생존 여부(Survived)가 label이 되겠죠.\n",
    "Feature: 우리가 label을 맞추는데 도움이 되는 값들입니다. 타이타닉 데이터에서는 label을 제외한 대부분의 값들이 Feature가 될 수 있습니다.\n",
    "우리는 이번 코드에서 다음의 컬럼을 Feature와 Label로 활용할 것입니다.\n",
    "\n",
    "Feature: 1) 티켓 등급(Pclass), 2) 성별(Sex_encode), 3) 운임요금(Fare_fillin), 그리고 4) 선착장(Embarked)을 사용합니다.\n",
    "Label: 생존 여부(Survived)를 사용합니다.\n",
    "이를 통해 train 데이터와 test 데이터를 다음의 세 가지 형태의 값으로 나눌 것입니다.\n",
    "\n",
    "X_train: train 데이터의 feature 입니다. 줄여서 X_train이라고 부릅니다.\n",
    "X_test: test 데이터의 feature 입니다. 마찬가지로 줄여서 X_test라고 부릅니다.\n",
    "y_train: train 데이터의 label 입니다. 마찬가지로 줄여서 y_train이라고 부릅니다.\n",
    "그리고 아시다시피 y_test 라는 데이터는 존재하지 않을 것입니다. test 데이터에는 생존 여부(Survived)를 나타내는 컬럼이 없기 때문이며, 우리의 목표 자체가 y_test에 해당하는 test 데이터의 생존 여부(Survived)를 예측하는 것이기 때문입니다. 그리고 X_train, y_train, X_test를 활용하여 y_test에 해당하는 값을 예측하는 것이 바로 Decision Tree의 역할입니다.\n",
    "\n",
    "이제 feature와 label을 정의한 뒤, 이를 활용해 X_train, X_test, y_train을 각각 만들어 보겠습니다."
   ]
  },
  {
   "cell_type": "code",
   "execution_count": 39,
   "metadata": {},
   "outputs": [],
   "source": [
    "from sklearn.neighbors import KNeighborsClassifier\n",
    "from sklearn.tree import DecisionTreeClassifier\n",
    "from sklearn.ensemble import RandomForestClassifier\n",
    "from sklearn import svm\n",
    "import numpy as np\n",
    "\n",
    "from sklearn.model_selection import KFold\n",
    "from sklearn.model_selection import cross_val_score\n",
    "\n",
    "k_fold = KFold(n_splits=10, shuffle=True, random_state=0)"
   ]
  },
  {
   "cell_type": "code",
   "execution_count": 40,
   "metadata": {},
   "outputs": [
    {
     "data": {
      "image/png": "[encoded data removed]",
      "text/plain": [
       "<Figure size 432x288 with 2 Axes>"
      ]
     },
     "metadata": {
      "needs_background": "light"
     },
     "output_type": "display_data"
    }
   ],
   "source": [
    "# Corr\n",
    "corr1 = train[['Pclass','Sex','Age','Fare','Title','FamilySize','Cabin_multiple']]\n",
    "corr1 = corr1.corr()\n",
    "\n",
    "mask = np.array(corr1)\n",
    "mask[np.tril_indices_from(mask)] = False\n",
    "plt.title(\"Correlation\")\n",
    "sns.heatmap(corr1,\n",
    "           annot=True,\n",
    "           mask=mask,\n",
    "           cmap='summer',\n",
    "            linewidths=1.0,\n",
    "            square=True\n",
    "           )\n",
    "plt.show()\n"
   ]
  },
  {
   "cell_type": "code",
   "execution_count": 41,
   "metadata": {},
   "outputs": [],
   "source": [
    "# SVM\n",
    "\n",
    "model = svm.SVC(gamma='auto')\n",
    "# 얘는 무엇인지 나중에 설명 해주실꺼 . \n",
    "score = cross_val_score(model, train_data, train_label, cv= k_fold, n_jobs=1 , scoring='accuracy') # 자동적으로 학습을..해준다?"
   ]
  },
  {
   "cell_type": "markdown",
   "metadata": {},
   "source": [
    "# Decision Tree\n",
    "---"
   ]
  },
  {
   "cell_type": "code",
   "execution_count": 42,
   "metadata": {},
   "outputs": [
    {
     "data": {
      "text/plain": [
       "DecisionTreeClassifier(max_depth=4, random_state=10)"
      ]
     },
     "execution_count": 42,
     "metadata": {},
     "output_type": "execute_result"
    }
   ],
   "source": [
    "# Decision Tree\n",
    "\n",
    "from sklearn.tree import DecisionTreeClassifier\n",
    "\n",
    "titanic_tree = DecisionTreeClassifier(max_depth = 4, random_state = 10)\n",
    "titanic_tree.fit(train_data,train_label)\n"
   ]
  },
  {
   "cell_type": "code",
   "execution_count": 43,
   "metadata": {},
   "outputs": [
    {
     "name": "stdout",
     "output_type": "stream",
     "text": [
      "예측결과 :  [0 1 0 0 1 0 1 0 1 0 0 0 1 0 1 1 0 0 1 1 0 1 1 0 1 0 1 0 0 0 0 0 1 1 0 0 1\n",
      " 1 0 0 0 0 0 1 1 0 0 0 1 1 0 0 1 1 0 0 0 0 0 1 0 0 0 1 1 1 1 0 0 1 1 0 1 0\n",
      " 1 0 0 1 0 1 1 0 0 0 0 0 1 1 1 1 1 0 1 0 0 0 1 0 1 0 1 0 0 0 1 0 0 0 0 0 0\n",
      " 1 1 1 1 0 0 1 0 1 1 0 1 0 0 1 0 1 0 0 0 1 0 0 0 0 0 0 1 0 0 1 0 0 0 0 0 0\n",
      " 0 1 1 0 0 1 0 0 1 1 0 1 1 1 1 0 1 1 0 0 1 1 0 0 0 0 0 1 1 0 1 1 0 0 1 0 1\n",
      " 0 1 0 0 0 0 0 1 0 1 0 1 1 0 1 1 1 1 1 0 0 1 0 1 0 0 0 0 1 1 0 1 0 1 0 1 0\n",
      " 1 0 1 1 0 1 0 0 0 1 0 0 0 0 0 0 1 1 1 1 0 0 1 0 1 0 1 1 1 0 0 0 0 0 0 0 1\n",
      " 0 0 0 1 1 0 0 0 0 1 0 0 0 1 1 0 1 0 0 0 0 1 1 1 1 1 0 0 0 0 0 0 1 0 1 0 0\n",
      " 1 0 0 0 0 0 0 0 1 1 0 1 0 1 0 0 0 1 1 1 0 0 0 0 0 0 0 0 1 0 1 0 0 0 1 0 0\n",
      " 1 0 0 0 0 0 1 0 0 0 1 1 1 0 1 0 1 1 0 0 0 1 0 1 0 0 1 0 1 1 0 1 0 0 1 1 0\n",
      " 0 1 0 0 1 1 1 0 0 0 0 0 1 1 0 1 0 0 0 0 0 1 1 0 0 1 0 1 0 0 1 0 1 0 0 0 0\n",
      " 0 1 1 1 1 1 0 1 0 0 1]\n"
     ]
    },
    {
     "name": "stderr",
     "output_type": "stream",
     "text": [
      "<ipython-input-43-7181a4225a15>:2: FutureWarning: elementwise comparison failed; returning scalar instead, but in the future will perform elementwise comparison\n",
      "  np.where(pred_tree_result==\" \",\",\",pred_tree_result)\n"
     ]
    }
   ],
   "source": [
    "pred_tree_result = titanic_tree.predict(test)\n",
    "np.where(pred_tree_result==\" \",\",\",pred_tree_result)\n",
    "print(\"예측결과 : \",pred_tree_result)"
   ]
  },
  {
   "cell_type": "code",
   "execution_count": 44,
   "metadata": {},
   "outputs": [],
   "source": [
    "submission_tree_result = pd.DataFrame({\n",
    "    \"PassengerId\" : test_PassengerId,\n",
    "    \"Survived\" : pred_tree_result\n",
    "    \n",
    "})\n",
    "\n",
    "submission_tree_result.to_csv('submission_tree_result.csv', index=False)\n"
   ]
  },
  {
   "cell_type": "code",
   "execution_count": 45,
   "metadata": {},
   "outputs": [
    {
     "data": {
      "text/html": [
       "<div>\n",
       "<style scoped>\n",
       "    .dataframe tbody tr th:only-of-type {\n",
       "        vertical-align: middle;\n",
       "    }\n",
       "\n",
       "    .dataframe tbody tr th {\n",
       "        vertical-align: top;\n",
       "    }\n",
       "\n",
       "    .dataframe thead th {\n",
       "        text-align: right;\n",
       "    }\n",
       "</style>\n",
       "<table border=\"1\" class=\"dataframe\">\n",
       "  <thead>\n",
       "    <tr style=\"text-align: right;\">\n",
       "      <th></th>\n",
       "      <th>PassengerId</th>\n",
       "      <th>Survived</th>\n",
       "    </tr>\n",
       "  </thead>\n",
       "  <tbody>\n",
       "    <tr>\n",
       "      <th>0</th>\n",
       "      <td>892</td>\n",
       "      <td>0</td>\n",
       "    </tr>\n",
       "    <tr>\n",
       "      <th>1</th>\n",
       "      <td>893</td>\n",
       "      <td>1</td>\n",
       "    </tr>\n",
       "    <tr>\n",
       "      <th>2</th>\n",
       "      <td>894</td>\n",
       "      <td>0</td>\n",
       "    </tr>\n",
       "    <tr>\n",
       "      <th>3</th>\n",
       "      <td>895</td>\n",
       "      <td>0</td>\n",
       "    </tr>\n",
       "    <tr>\n",
       "      <th>4</th>\n",
       "      <td>896</td>\n",
       "      <td>1</td>\n",
       "    </tr>\n",
       "  </tbody>\n",
       "</table>\n",
       "</div>"
      ],
      "text/plain": [
       "   PassengerId  Survived\n",
       "0          892         0\n",
       "1          893         1\n",
       "2          894         0\n",
       "3          895         0\n",
       "4          896         1"
      ]
     },
     "execution_count": 45,
     "metadata": {},
     "output_type": "execute_result"
    }
   ],
   "source": [
    "submission_tree_result = pd.read_csv('submission_tree_result.csv')\n",
    "submission_tree_result.head()"
   ]
  },
  {
   "cell_type": "code",
   "execution_count": 46,
   "metadata": {},
   "outputs": [
    {
     "name": "stdout",
     "output_type": "stream",
     "text": [
      "Requirement already satisfied: graphviz in c:\\anaconda3\\lib\\site-packages (0.16)\n"
     ]
    }
   ],
   "source": [
    "!pip install graphviz\n",
    "import os\n",
    "os.environ[\"PATH\"]+=os.pathsep+'C:/Program Files/Graphviz/bin/'"
   ]
  },
  {
   "cell_type": "code",
   "execution_count": 47,
   "metadata": {},
   "outputs": [
    {
     "data": {
      "image/svg+xml": [
       "<?xml version=\"1.0\" encoding=\"UTF-8\" standalone=\"no\"?>\r\n",
       "<!DOCTYPE svg PUBLIC \"-//W3C//DTD SVG 1.1//EN\"\r\n",
       " \"http://www.w3.org/Graphics/SVG/1.1/DTD/svg11.dtd\">\r\n",
       "<!-- Generated by graphviz version 2.38.0 (20140413.2041)\r\n",
       " -->\r\n",
       "<!-- Title: Tree Pages: 1 -->\r\n",
       "<svg width=\"1628pt\" height=\"477pt\"\r\n",
       " viewBox=\"0.00 0.00 1627.50 477.00\" xmlns=\"http://www.w3.org/2000/svg\" xmlns:xlink=\"http://www.w3.org/1999/xlink\">\r\n",
       "<g id=\"graph0\" class=\"graph\" transform=\"scale(1 1) rotate(0) translate(4 473)\">\r\n",
       "<title>Tree</title>\r\n",
       "<polygon fill=\"white\" stroke=\"none\" points=\"-4,4 -4,-473 1623.5,-473 1623.5,4 -4,4\"/>\r\n",
       "<!-- 0 -->\r\n",
       "<g id=\"node1\" class=\"node\"><title>0</title>\r\n",
       "<polygon fill=\"#f5cfb4\" stroke=\"black\" points=\"982.5,-469 864.5,-469 864.5,-401 982.5,-401 982.5,-469\"/>\r\n",
       "<text text-anchor=\"middle\" x=\"923.5\" y=\"-453.8\" font-family=\"Times New Roman,serif\" font-size=\"14.00\">X[5] &lt;= 0.5</text>\r\n",
       "<text text-anchor=\"middle\" x=\"923.5\" y=\"-438.8\" font-family=\"Times New Roman,serif\" font-size=\"14.00\">gini = 0.473</text>\r\n",
       "<text text-anchor=\"middle\" x=\"923.5\" y=\"-423.8\" font-family=\"Times New Roman,serif\" font-size=\"14.00\">samples = 891</text>\r\n",
       "<text text-anchor=\"middle\" x=\"923.5\" y=\"-408.8\" font-family=\"Times New Roman,serif\" font-size=\"14.00\">value = [549, 342]</text>\r\n",
       "</g>\r\n",
       "<!-- 1 -->\r\n",
       "<g id=\"node2\" class=\"node\"><title>1</title>\r\n",
       "<polygon fill=\"#ea985e\" stroke=\"black\" points=\"748,-365 637,-365 637,-297 748,-297 748,-365\"/>\r\n",
       "<text text-anchor=\"middle\" x=\"692.5\" y=\"-349.8\" font-family=\"Times New Roman,serif\" font-size=\"14.00\">X[7] &lt;= 0.5</text>\r\n",
       "<text text-anchor=\"middle\" x=\"692.5\" y=\"-334.8\" font-family=\"Times New Roman,serif\" font-size=\"14.00\">gini = 0.264</text>\r\n",
       "<text text-anchor=\"middle\" x=\"692.5\" y=\"-319.8\" font-family=\"Times New Roman,serif\" font-size=\"14.00\">samples = 517</text>\r\n",
       "<text text-anchor=\"middle\" x=\"692.5\" y=\"-304.8\" font-family=\"Times New Roman,serif\" font-size=\"14.00\">value = [436, 81]</text>\r\n",
       "</g>\r\n",
       "<!-- 0&#45;&gt;1 -->\r\n",
       "<g id=\"edge1\" class=\"edge\"><title>0&#45;&gt;1</title>\r\n",
       "<path fill=\"none\" stroke=\"black\" d=\"M864.312,-407.865C831.688,-393.459 791.127,-375.55 757.609,-360.75\"/>\r\n",
       "<polygon fill=\"black\" stroke=\"black\" points=\"758.916,-357.501 748.355,-356.663 756.089,-363.904 758.916,-357.501\"/>\r\n",
       "<text text-anchor=\"middle\" x=\"757.386\" y=\"-376.275\" font-family=\"Times New Roman,serif\" font-size=\"14.00\">True</text>\r\n",
       "</g>\r\n",
       "<!-- 16 -->\r\n",
       "<g id=\"node17\" class=\"node\"><title>16</title>\r\n",
       "<polygon fill=\"#8fc7f0\" stroke=\"black\" points=\"1215.5,-365 1097.5,-365 1097.5,-297 1215.5,-297 1215.5,-365\"/>\r\n",
       "<text text-anchor=\"middle\" x=\"1156.5\" y=\"-349.8\" font-family=\"Times New Roman,serif\" font-size=\"14.00\">X[6] &lt;= 3.5</text>\r\n",
       "<text text-anchor=\"middle\" x=\"1156.5\" y=\"-334.8\" font-family=\"Times New Roman,serif\" font-size=\"14.00\">gini = 0.422</text>\r\n",
       "<text text-anchor=\"middle\" x=\"1156.5\" y=\"-319.8\" font-family=\"Times New Roman,serif\" font-size=\"14.00\">samples = 374</text>\r\n",
       "<text text-anchor=\"middle\" x=\"1156.5\" y=\"-304.8\" font-family=\"Times New Roman,serif\" font-size=\"14.00\">value = [113, 261]</text>\r\n",
       "</g>\r\n",
       "<!-- 0&#45;&gt;16 -->\r\n",
       "<g id=\"edge16\" class=\"edge\"><title>0&#45;&gt;16</title>\r\n",
       "<path fill=\"none\" stroke=\"black\" d=\"M982.597,-408.129C1014.76,-394.049 1054.71,-376.561 1088.2,-361.899\"/>\r\n",
       "<polygon fill=\"black\" stroke=\"black\" points=\"1089.71,-365.06 1097.47,-357.843 1086.9,-358.647 1089.71,-365.06\"/>\r\n",
       "<text text-anchor=\"middle\" x=\"1088.36\" y=\"-377.426\" font-family=\"Times New Roman,serif\" font-size=\"14.00\">False</text>\r\n",
       "</g>\r\n",
       "<!-- 2 -->\r\n",
       "<g id=\"node3\" class=\"node\"><title>2</title>\r\n",
       "<polygon fill=\"#e89152\" stroke=\"black\" points=\"399,-261 288,-261 288,-193 399,-193 399,-261\"/>\r\n",
       "<text text-anchor=\"middle\" x=\"343.5\" y=\"-245.8\" font-family=\"Times New Roman,serif\" font-size=\"14.00\">X[0] &lt;= 1.5</text>\r\n",
       "<text text-anchor=\"middle\" x=\"343.5\" y=\"-230.8\" font-family=\"Times New Roman,serif\" font-size=\"14.00\">gini = 0.197</text>\r\n",
       "<text text-anchor=\"middle\" x=\"343.5\" y=\"-215.8\" font-family=\"Times New Roman,serif\" font-size=\"14.00\">samples = 424</text>\r\n",
       "<text text-anchor=\"middle\" x=\"343.5\" y=\"-200.8\" font-family=\"Times New Roman,serif\" font-size=\"14.00\">value = [377, 47]</text>\r\n",
       "</g>\r\n",
       "<!-- 1&#45;&gt;2 -->\r\n",
       "<g id=\"edge2\" class=\"edge\"><title>1&#45;&gt;2</title>\r\n",
       "<path fill=\"none\" stroke=\"black\" d=\"M636.814,-313.725C574.852,-295.616 474.828,-266.382 409.115,-247.177\"/>\r\n",
       "<polygon fill=\"black\" stroke=\"black\" points=\"409.857,-243.747 399.276,-244.301 407.893,-250.466 409.857,-243.747\"/>\r\n",
       "</g>\r\n",
       "<!-- 9 -->\r\n",
       "<g id=\"node10\" class=\"node\"><title>9</title>\r\n",
       "<polygon fill=\"#f4caab\" stroke=\"black\" points=\"744.5,-261 640.5,-261 640.5,-193 744.5,-193 744.5,-261\"/>\r\n",
       "<text text-anchor=\"middle\" x=\"692.5\" y=\"-245.8\" font-family=\"Times New Roman,serif\" font-size=\"14.00\">X[2] &lt;= 3.5</text>\r\n",
       "<text text-anchor=\"middle\" x=\"692.5\" y=\"-230.8\" font-family=\"Times New Roman,serif\" font-size=\"14.00\">gini = 0.464</text>\r\n",
       "<text text-anchor=\"middle\" x=\"692.5\" y=\"-215.8\" font-family=\"Times New Roman,serif\" font-size=\"14.00\">samples = 93</text>\r\n",
       "<text text-anchor=\"middle\" x=\"692.5\" y=\"-200.8\" font-family=\"Times New Roman,serif\" font-size=\"14.00\">value = [59, 34]</text>\r\n",
       "</g>\r\n",
       "<!-- 1&#45;&gt;9 -->\r\n",
       "<g id=\"edge9\" class=\"edge\"><title>1&#45;&gt;9</title>\r\n",
       "<path fill=\"none\" stroke=\"black\" d=\"M692.5,-296.884C692.5,-288.778 692.5,-279.982 692.5,-271.472\"/>\r\n",
       "<polygon fill=\"black\" stroke=\"black\" points=\"696,-271.299 692.5,-261.299 689,-271.299 696,-271.299\"/>\r\n",
       "</g>\r\n",
       "<!-- 3 -->\r\n",
       "<g id=\"node4\" class=\"node\"><title>3</title>\r\n",
       "<polygon fill=\"#eda673\" stroke=\"black\" points=\"207.5,-157 109.5,-157 109.5,-89 207.5,-89 207.5,-157\"/>\r\n",
       "<text text-anchor=\"middle\" x=\"158.5\" y=\"-141.8\" font-family=\"Times New Roman,serif\" font-size=\"14.00\">X[3] &lt;= 1.5</text>\r\n",
       "<text text-anchor=\"middle\" x=\"158.5\" y=\"-126.8\" font-family=\"Times New Roman,serif\" font-size=\"14.00\">gini = 0.351</text>\r\n",
       "<text text-anchor=\"middle\" x=\"158.5\" y=\"-111.8\" font-family=\"Times New Roman,serif\" font-size=\"14.00\">samples = 22</text>\r\n",
       "<text text-anchor=\"middle\" x=\"158.5\" y=\"-96.8\" font-family=\"Times New Roman,serif\" font-size=\"14.00\">value = [17, 5]</text>\r\n",
       "</g>\r\n",
       "<!-- 2&#45;&gt;3 -->\r\n",
       "<g id=\"edge3\" class=\"edge\"><title>2&#45;&gt;3</title>\r\n",
       "<path fill=\"none\" stroke=\"black\" d=\"M287.994,-195.397C265.444,-182.964 239.382,-168.594 216.576,-156.02\"/>\r\n",
       "<polygon fill=\"black\" stroke=\"black\" points=\"218.129,-152.88 207.682,-151.116 214.749,-159.01 218.129,-152.88\"/>\r\n",
       "</g>\r\n",
       "<!-- 6 -->\r\n",
       "<g id=\"node7\" class=\"node\"><title>6</title>\r\n",
       "<polygon fill=\"#e89050\" stroke=\"black\" points=\"399,-157 288,-157 288,-89 399,-89 399,-157\"/>\r\n",
       "<text text-anchor=\"middle\" x=\"343.5\" y=\"-141.8\" font-family=\"Times New Roman,serif\" font-size=\"14.00\">X[3] &lt;= 1.5</text>\r\n",
       "<text text-anchor=\"middle\" x=\"343.5\" y=\"-126.8\" font-family=\"Times New Roman,serif\" font-size=\"14.00\">gini = 0.187</text>\r\n",
       "<text text-anchor=\"middle\" x=\"343.5\" y=\"-111.8\" font-family=\"Times New Roman,serif\" font-size=\"14.00\">samples = 402</text>\r\n",
       "<text text-anchor=\"middle\" x=\"343.5\" y=\"-96.8\" font-family=\"Times New Roman,serif\" font-size=\"14.00\">value = [360, 42]</text>\r\n",
       "</g>\r\n",
       "<!-- 2&#45;&gt;6 -->\r\n",
       "<g id=\"edge6\" class=\"edge\"><title>2&#45;&gt;6</title>\r\n",
       "<path fill=\"none\" stroke=\"black\" d=\"M343.5,-192.884C343.5,-184.778 343.5,-175.982 343.5,-167.472\"/>\r\n",
       "<polygon fill=\"black\" stroke=\"black\" points=\"347,-167.299 343.5,-157.299 340,-167.299 347,-167.299\"/>\r\n",
       "</g>\r\n",
       "<!-- 4 -->\r\n",
       "<g id=\"node5\" class=\"node\"><title>4</title>\r\n",
       "<polygon fill=\"#f4c9aa\" stroke=\"black\" points=\"91,-53 0,-53 0,-0 91,-0 91,-53\"/>\r\n",
       "<text text-anchor=\"middle\" x=\"45.5\" y=\"-37.8\" font-family=\"Times New Roman,serif\" font-size=\"14.00\">gini = 0.463</text>\r\n",
       "<text text-anchor=\"middle\" x=\"45.5\" y=\"-22.8\" font-family=\"Times New Roman,serif\" font-size=\"14.00\">samples = 11</text>\r\n",
       "<text text-anchor=\"middle\" x=\"45.5\" y=\"-7.8\" font-family=\"Times New Roman,serif\" font-size=\"14.00\">value = [7, 4]</text>\r\n",
       "</g>\r\n",
       "<!-- 3&#45;&gt;4 -->\r\n",
       "<g id=\"edge4\" class=\"edge\"><title>3&#45;&gt;4</title>\r\n",
       "<path fill=\"none\" stroke=\"black\" d=\"M118.978,-88.9485C107.711,-79.526 95.451,-69.2731 84.2316,-59.8906\"/>\r\n",
       "<polygon fill=\"black\" stroke=\"black\" points=\"86.1915,-56.967 76.2751,-53.2367 81.7009,-62.3368 86.1915,-56.967\"/>\r\n",
       "</g>\r\n",
       "<!-- 5 -->\r\n",
       "<g id=\"node6\" class=\"node\"><title>5</title>\r\n",
       "<polygon fill=\"#e88e4d\" stroke=\"black\" points=\"207.5,-53 109.5,-53 109.5,-0 207.5,-0 207.5,-53\"/>\r\n",
       "<text text-anchor=\"middle\" x=\"158.5\" y=\"-37.8\" font-family=\"Times New Roman,serif\" font-size=\"14.00\">gini = 0.165</text>\r\n",
       "<text text-anchor=\"middle\" x=\"158.5\" y=\"-22.8\" font-family=\"Times New Roman,serif\" font-size=\"14.00\">samples = 11</text>\r\n",
       "<text text-anchor=\"middle\" x=\"158.5\" y=\"-7.8\" font-family=\"Times New Roman,serif\" font-size=\"14.00\">value = [10, 1]</text>\r\n",
       "</g>\r\n",
       "<!-- 3&#45;&gt;5 -->\r\n",
       "<g id=\"edge5\" class=\"edge\"><title>3&#45;&gt;5</title>\r\n",
       "<path fill=\"none\" stroke=\"black\" d=\"M158.5,-88.9485C158.5,-80.7153 158.5,-71.848 158.5,-63.4814\"/>\r\n",
       "<polygon fill=\"black\" stroke=\"black\" points=\"162,-63.2367 158.5,-53.2367 155,-63.2367 162,-63.2367\"/>\r\n",
       "</g>\r\n",
       "<!-- 7 -->\r\n",
       "<g id=\"node8\" class=\"node\"><title>7</title>\r\n",
       "<polygon fill=\"#e88f4f\" stroke=\"black\" points=\"337,-53 226,-53 226,-0 337,-0 337,-53\"/>\r\n",
       "<text text-anchor=\"middle\" x=\"281.5\" y=\"-37.8\" font-family=\"Times New Roman,serif\" font-size=\"14.00\">gini = 0.177</text>\r\n",
       "<text text-anchor=\"middle\" x=\"281.5\" y=\"-22.8\" font-family=\"Times New Roman,serif\" font-size=\"14.00\">samples = 377</text>\r\n",
       "<text text-anchor=\"middle\" x=\"281.5\" y=\"-7.8\" font-family=\"Times New Roman,serif\" font-size=\"14.00\">value = [340, 37]</text>\r\n",
       "</g>\r\n",
       "<!-- 6&#45;&gt;7 -->\r\n",
       "<g id=\"edge7\" class=\"edge\"><title>6&#45;&gt;7</title>\r\n",
       "<path fill=\"none\" stroke=\"black\" d=\"M321.815,-88.9485C316.054,-80.1664 309.819,-70.6629 304.014,-61.815\"/>\r\n",
       "<polygon fill=\"black\" stroke=\"black\" points=\"306.797,-59.6779 298.385,-53.2367 300.945,-63.5178 306.797,-59.6779\"/>\r\n",
       "</g>\r\n",
       "<!-- 8 -->\r\n",
       "<g id=\"node9\" class=\"node\"><title>8</title>\r\n",
       "<polygon fill=\"#eca06a\" stroke=\"black\" points=\"453.5,-53 355.5,-53 355.5,-0 453.5,-0 453.5,-53\"/>\r\n",
       "<text text-anchor=\"middle\" x=\"404.5\" y=\"-37.8\" font-family=\"Times New Roman,serif\" font-size=\"14.00\">gini = 0.32</text>\r\n",
       "<text text-anchor=\"middle\" x=\"404.5\" y=\"-22.8\" font-family=\"Times New Roman,serif\" font-size=\"14.00\">samples = 25</text>\r\n",
       "<text text-anchor=\"middle\" x=\"404.5\" y=\"-7.8\" font-family=\"Times New Roman,serif\" font-size=\"14.00\">value = [20, 5]</text>\r\n",
       "</g>\r\n",
       "<!-- 6&#45;&gt;8 -->\r\n",
       "<g id=\"edge8\" class=\"edge\"><title>6&#45;&gt;8</title>\r\n",
       "<path fill=\"none\" stroke=\"black\" d=\"M364.835,-88.9485C370.504,-80.1664 376.638,-70.6629 382.35,-61.815\"/>\r\n",
       "<polygon fill=\"black\" stroke=\"black\" points=\"385.404,-63.5365 387.887,-53.2367 379.523,-59.7402 385.404,-63.5365\"/>\r\n",
       "</g>\r\n",
       "<!-- 10 -->\r\n",
       "<g id=\"node11\" class=\"node\"><title>10</title>\r\n",
       "<polygon fill=\"#f9e2d2\" stroke=\"black\" points=\"684.5,-157 580.5,-157 580.5,-89 684.5,-89 684.5,-157\"/>\r\n",
       "<text text-anchor=\"middle\" x=\"632.5\" y=\"-141.8\" font-family=\"Times New Roman,serif\" font-size=\"14.00\">X[3] &lt;= 0.5</text>\r\n",
       "<text text-anchor=\"middle\" x=\"632.5\" y=\"-126.8\" font-family=\"Times New Roman,serif\" font-size=\"14.00\">gini = 0.492</text>\r\n",
       "<text text-anchor=\"middle\" x=\"632.5\" y=\"-111.8\" font-family=\"Times New Roman,serif\" font-size=\"14.00\">samples = 62</text>\r\n",
       "<text text-anchor=\"middle\" x=\"632.5\" y=\"-96.8\" font-family=\"Times New Roman,serif\" font-size=\"14.00\">value = [35, 27]</text>\r\n",
       "</g>\r\n",
       "<!-- 9&#45;&gt;10 -->\r\n",
       "<g id=\"edge10\" class=\"edge\"><title>9&#45;&gt;10</title>\r\n",
       "<path fill=\"none\" stroke=\"black\" d=\"M673.02,-192.884C667.99,-184.332 662.508,-175.013 657.248,-166.072\"/>\r\n",
       "<polygon fill=\"black\" stroke=\"black\" points=\"660.175,-164.144 652.088,-157.299 654.141,-167.693 660.175,-164.144\"/>\r\n",
       "</g>\r\n",
       "<!-- 13 -->\r\n",
       "<g id=\"node14\" class=\"node\"><title>13</title>\r\n",
       "<polygon fill=\"#eda673\" stroke=\"black\" points=\"800.5,-157 702.5,-157 702.5,-89 800.5,-89 800.5,-157\"/>\r\n",
       "<text text-anchor=\"middle\" x=\"751.5\" y=\"-141.8\" font-family=\"Times New Roman,serif\" font-size=\"14.00\">X[3] &lt;= 1.5</text>\r\n",
       "<text text-anchor=\"middle\" x=\"751.5\" y=\"-126.8\" font-family=\"Times New Roman,serif\" font-size=\"14.00\">gini = 0.35</text>\r\n",
       "<text text-anchor=\"middle\" x=\"751.5\" y=\"-111.8\" font-family=\"Times New Roman,serif\" font-size=\"14.00\">samples = 31</text>\r\n",
       "<text text-anchor=\"middle\" x=\"751.5\" y=\"-96.8\" font-family=\"Times New Roman,serif\" font-size=\"14.00\">value = [24, 7]</text>\r\n",
       "</g>\r\n",
       "<!-- 9&#45;&gt;13 -->\r\n",
       "<g id=\"edge13\" class=\"edge\"><title>9&#45;&gt;13</title>\r\n",
       "<path fill=\"none\" stroke=\"black\" d=\"M711.656,-192.884C716.602,-184.332 721.992,-175.013 727.164,-166.072\"/>\r\n",
       "<polygon fill=\"black\" stroke=\"black\" points=\"730.261,-167.708 732.239,-157.299 724.202,-164.203 730.261,-167.708\"/>\r\n",
       "</g>\r\n",
       "<!-- 11 -->\r\n",
       "<g id=\"node12\" class=\"node\"><title>11</title>\r\n",
       "<polygon fill=\"#eb9d65\" stroke=\"black\" points=\"563,-53 472,-53 472,-0 563,-0 563,-53\"/>\r\n",
       "<text text-anchor=\"middle\" x=\"517.5\" y=\"-37.8\" font-family=\"Times New Roman,serif\" font-size=\"14.00\">gini = 0.298</text>\r\n",
       "<text text-anchor=\"middle\" x=\"517.5\" y=\"-22.8\" font-family=\"Times New Roman,serif\" font-size=\"14.00\">samples = 11</text>\r\n",
       "<text text-anchor=\"middle\" x=\"517.5\" y=\"-7.8\" font-family=\"Times New Roman,serif\" font-size=\"14.00\">value = [9, 2]</text>\r\n",
       "</g>\r\n",
       "<!-- 10&#45;&gt;11 -->\r\n",
       "<g id=\"edge11\" class=\"edge\"><title>10&#45;&gt;11</title>\r\n",
       "<path fill=\"none\" stroke=\"black\" d=\"M592.279,-88.9485C580.701,-79.4346 568.093,-69.074 556.585,-59.6175\"/>\r\n",
       "<polygon fill=\"black\" stroke=\"black\" points=\"558.768,-56.8814 548.82,-53.2367 554.324,-62.2897 558.768,-56.8814\"/>\r\n",
       "</g>\r\n",
       "<!-- 12 -->\r\n",
       "<g id=\"node13\" class=\"node\"><title>12</title>\r\n",
       "<polygon fill=\"#fefaf7\" stroke=\"black\" points=\"685.5,-53 581.5,-53 581.5,-0 685.5,-0 685.5,-53\"/>\r\n",
       "<text text-anchor=\"middle\" x=\"633.5\" y=\"-37.8\" font-family=\"Times New Roman,serif\" font-size=\"14.00\">gini = 0.5</text>\r\n",
       "<text text-anchor=\"middle\" x=\"633.5\" y=\"-22.8\" font-family=\"Times New Roman,serif\" font-size=\"14.00\">samples = 51</text>\r\n",
       "<text text-anchor=\"middle\" x=\"633.5\" y=\"-7.8\" font-family=\"Times New Roman,serif\" font-size=\"14.00\">value = [26, 25]</text>\r\n",
       "</g>\r\n",
       "<!-- 10&#45;&gt;12 -->\r\n",
       "<g id=\"edge12\" class=\"edge\"><title>10&#45;&gt;12</title>\r\n",
       "<path fill=\"none\" stroke=\"black\" d=\"M632.85,-88.9485C632.937,-80.7153 633.031,-71.848 633.119,-63.4814\"/>\r\n",
       "<polygon fill=\"black\" stroke=\"black\" points=\"636.622,-63.2732 633.228,-53.2367 629.622,-63.1991 636.622,-63.2732\"/>\r\n",
       "</g>\r\n",
       "<!-- 14 -->\r\n",
       "<g id=\"node15\" class=\"node\"><title>14</title>\r\n",
       "<polygon fill=\"#f5cdb0\" stroke=\"black\" points=\"795,-53 704,-53 704,-0 795,-0 795,-53\"/>\r\n",
       "<text text-anchor=\"middle\" x=\"749.5\" y=\"-37.8\" font-family=\"Times New Roman,serif\" font-size=\"14.00\">gini = 0.469</text>\r\n",
       "<text text-anchor=\"middle\" x=\"749.5\" y=\"-22.8\" font-family=\"Times New Roman,serif\" font-size=\"14.00\">samples = 8</text>\r\n",
       "<text text-anchor=\"middle\" x=\"749.5\" y=\"-7.8\" font-family=\"Times New Roman,serif\" font-size=\"14.00\">value = [5, 3]</text>\r\n",
       "</g>\r\n",
       "<!-- 13&#45;&gt;14 -->\r\n",
       "<g id=\"edge14\" class=\"edge\"><title>13&#45;&gt;14</title>\r\n",
       "<path fill=\"none\" stroke=\"black\" d=\"M750.8,-88.9485C750.626,-80.7153 750.439,-71.848 750.262,-63.4814\"/>\r\n",
       "<polygon fill=\"black\" stroke=\"black\" points=\"753.756,-63.1604 750.045,-53.2367 746.757,-63.3086 753.756,-63.1604\"/>\r\n",
       "</g>\r\n",
       "<!-- 15 -->\r\n",
       "<g id=\"node16\" class=\"node\"><title>15</title>\r\n",
       "<polygon fill=\"#ea9c63\" stroke=\"black\" points=\"911.5,-53 813.5,-53 813.5,-0 911.5,-0 911.5,-53\"/>\r\n",
       "<text text-anchor=\"middle\" x=\"862.5\" y=\"-37.8\" font-family=\"Times New Roman,serif\" font-size=\"14.00\">gini = 0.287</text>\r\n",
       "<text text-anchor=\"middle\" x=\"862.5\" y=\"-22.8\" font-family=\"Times New Roman,serif\" font-size=\"14.00\">samples = 23</text>\r\n",
       "<text text-anchor=\"middle\" x=\"862.5\" y=\"-7.8\" font-family=\"Times New Roman,serif\" font-size=\"14.00\">value = [19, 4]</text>\r\n",
       "</g>\r\n",
       "<!-- 13&#45;&gt;15 -->\r\n",
       "<g id=\"edge15\" class=\"edge\"><title>13&#45;&gt;15</title>\r\n",
       "<path fill=\"none\" stroke=\"black\" d=\"M790.322,-88.9485C801.39,-79.526 813.433,-69.2731 824.454,-59.8906\"/>\r\n",
       "<polygon fill=\"black\" stroke=\"black\" points=\"826.924,-62.3842 832.27,-53.2367 822.386,-57.0542 826.924,-62.3842\"/>\r\n",
       "</g>\r\n",
       "<!-- 17 -->\r\n",
       "<g id=\"node18\" class=\"node\"><title>17</title>\r\n",
       "<polygon fill=\"#72b9ec\" stroke=\"black\" points=\"1212,-261 1101,-261 1101,-193 1212,-193 1212,-261\"/>\r\n",
       "<text text-anchor=\"middle\" x=\"1156.5\" y=\"-245.8\" font-family=\"Times New Roman,serif\" font-size=\"14.00\">X[0] &lt;= 2.5</text>\r\n",
       "<text text-anchor=\"middle\" x=\"1156.5\" y=\"-230.8\" font-family=\"Times New Roman,serif\" font-size=\"14.00\">gini = 0.346</text>\r\n",
       "<text text-anchor=\"middle\" x=\"1156.5\" y=\"-215.8\" font-family=\"Times New Roman,serif\" font-size=\"14.00\">samples = 323</text>\r\n",
       "<text text-anchor=\"middle\" x=\"1156.5\" y=\"-200.8\" font-family=\"Times New Roman,serif\" font-size=\"14.00\">value = [72, 251]</text>\r\n",
       "</g>\r\n",
       "<!-- 16&#45;&gt;17 -->\r\n",
       "<g id=\"edge17\" class=\"edge\"><title>16&#45;&gt;17</title>\r\n",
       "<path fill=\"none\" stroke=\"black\" d=\"M1156.5,-296.884C1156.5,-288.778 1156.5,-279.982 1156.5,-271.472\"/>\r\n",
       "<polygon fill=\"black\" stroke=\"black\" points=\"1160,-271.299 1156.5,-261.299 1153,-271.299 1160,-271.299\"/>\r\n",
       "</g>\r\n",
       "<!-- 24 -->\r\n",
       "<g id=\"node25\" class=\"node\"><title>24</title>\r\n",
       "<polygon fill=\"#eba069\" stroke=\"black\" points=\"1394.5,-261 1290.5,-261 1290.5,-193 1394.5,-193 1394.5,-261\"/>\r\n",
       "<text text-anchor=\"middle\" x=\"1342.5\" y=\"-245.8\" font-family=\"Times New Roman,serif\" font-size=\"14.00\">X[0] &lt;= 2.5</text>\r\n",
       "<text text-anchor=\"middle\" x=\"1342.5\" y=\"-230.8\" font-family=\"Times New Roman,serif\" font-size=\"14.00\">gini = 0.315</text>\r\n",
       "<text text-anchor=\"middle\" x=\"1342.5\" y=\"-215.8\" font-family=\"Times New Roman,serif\" font-size=\"14.00\">samples = 51</text>\r\n",
       "<text text-anchor=\"middle\" x=\"1342.5\" y=\"-200.8\" font-family=\"Times New Roman,serif\" font-size=\"14.00\">value = [41, 10]</text>\r\n",
       "</g>\r\n",
       "<!-- 16&#45;&gt;24 -->\r\n",
       "<g id=\"edge24\" class=\"edge\"><title>16&#45;&gt;24</title>\r\n",
       "<path fill=\"none\" stroke=\"black\" d=\"M1215.61,-297.586C1236.64,-286.051 1260.36,-273.046 1281.55,-261.427\"/>\r\n",
       "<polygon fill=\"black\" stroke=\"black\" points=\"1283.37,-264.418 1290.46,-256.54 1280,-258.28 1283.37,-264.418\"/>\r\n",
       "</g>\r\n",
       "<!-- 18 -->\r\n",
       "<g id=\"node19\" class=\"node\"><title>18</title>\r\n",
       "<polygon fill=\"#55abe9\" stroke=\"black\" points=\"1153,-157 1042,-157 1042,-89 1153,-89 1153,-157\"/>\r\n",
       "<text text-anchor=\"middle\" x=\"1097.5\" y=\"-141.8\" font-family=\"Times New Roman,serif\" font-size=\"14.00\">X[1] &lt;= 0.5</text>\r\n",
       "<text text-anchor=\"middle\" x=\"1097.5\" y=\"-126.8\" font-family=\"Times New Roman,serif\" font-size=\"14.00\">gini = 0.215</text>\r\n",
       "<text text-anchor=\"middle\" x=\"1097.5\" y=\"-111.8\" font-family=\"Times New Roman,serif\" font-size=\"14.00\">samples = 196</text>\r\n",
       "<text text-anchor=\"middle\" x=\"1097.5\" y=\"-96.8\" font-family=\"Times New Roman,serif\" font-size=\"14.00\">value = [24, 172]</text>\r\n",
       "</g>\r\n",
       "<!-- 17&#45;&gt;18 -->\r\n",
       "<g id=\"edge18\" class=\"edge\"><title>17&#45;&gt;18</title>\r\n",
       "<path fill=\"none\" stroke=\"black\" d=\"M1137.34,-192.884C1132.4,-184.332 1127.01,-175.013 1121.84,-166.072\"/>\r\n",
       "<polygon fill=\"black\" stroke=\"black\" points=\"1124.8,-164.203 1116.76,-157.299 1118.74,-167.708 1124.8,-164.203\"/>\r\n",
       "</g>\r\n",
       "<!-- 21 -->\r\n",
       "<g id=\"node22\" class=\"node\"><title>21</title>\r\n",
       "<polygon fill=\"#b1d9f5\" stroke=\"black\" points=\"1275.5,-157 1171.5,-157 1171.5,-89 1275.5,-89 1275.5,-157\"/>\r\n",
       "<text text-anchor=\"middle\" x=\"1223.5\" y=\"-141.8\" font-family=\"Times New Roman,serif\" font-size=\"14.00\">X[2] &lt;= 0.5</text>\r\n",
       "<text text-anchor=\"middle\" x=\"1223.5\" y=\"-126.8\" font-family=\"Times New Roman,serif\" font-size=\"14.00\">gini = 0.47</text>\r\n",
       "<text text-anchor=\"middle\" x=\"1223.5\" y=\"-111.8\" font-family=\"Times New Roman,serif\" font-size=\"14.00\">samples = 127</text>\r\n",
       "<text text-anchor=\"middle\" x=\"1223.5\" y=\"-96.8\" font-family=\"Times New Roman,serif\" font-size=\"14.00\">value = [48, 79]</text>\r\n",
       "</g>\r\n",
       "<!-- 17&#45;&gt;21 -->\r\n",
       "<g id=\"edge21\" class=\"edge\"><title>17&#45;&gt;21</title>\r\n",
       "<path fill=\"none\" stroke=\"black\" d=\"M1178.25,-192.884C1183.93,-184.243 1190.12,-174.819 1196.05,-165.793\"/>\r\n",
       "<polygon fill=\"black\" stroke=\"black\" points=\"1199.06,-167.579 1201.63,-157.299 1193.21,-163.736 1199.06,-167.579\"/>\r\n",
       "</g>\r\n",
       "<!-- 19 -->\r\n",
       "<g id=\"node20\" class=\"node\"><title>19</title>\r\n",
       "<polygon fill=\"#e8f3fc\" stroke=\"black\" points=\"1033.5,-53 929.5,-53 929.5,-0 1033.5,-0 1033.5,-53\"/>\r\n",
       "<text text-anchor=\"middle\" x=\"981.5\" y=\"-37.8\" font-family=\"Times New Roman,serif\" font-size=\"14.00\">gini = 0.498</text>\r\n",
       "<text text-anchor=\"middle\" x=\"981.5\" y=\"-22.8\" font-family=\"Times New Roman,serif\" font-size=\"14.00\">samples = 32</text>\r\n",
       "<text text-anchor=\"middle\" x=\"981.5\" y=\"-7.8\" font-family=\"Times New Roman,serif\" font-size=\"14.00\">value = [15, 17]</text>\r\n",
       "</g>\r\n",
       "<!-- 18&#45;&gt;19 -->\r\n",
       "<g id=\"edge19\" class=\"edge\"><title>18&#45;&gt;19</title>\r\n",
       "<path fill=\"none\" stroke=\"black\" d=\"M1056.93,-88.9485C1045.25,-79.4346 1032.53,-69.074 1020.92,-59.6175\"/>\r\n",
       "<polygon fill=\"black\" stroke=\"black\" points=\"1023.06,-56.8392 1013.09,-53.2367 1018.63,-62.2663 1023.06,-56.8392\"/>\r\n",
       "</g>\r\n",
       "<!-- 20 -->\r\n",
       "<g id=\"node21\" class=\"node\"><title>20</title>\r\n",
       "<polygon fill=\"#44a3e7\" stroke=\"black\" points=\"1155.5,-53 1051.5,-53 1051.5,-0 1155.5,-0 1155.5,-53\"/>\r\n",
       "<text text-anchor=\"middle\" x=\"1103.5\" y=\"-37.8\" font-family=\"Times New Roman,serif\" font-size=\"14.00\">gini = 0.104</text>\r\n",
       "<text text-anchor=\"middle\" x=\"1103.5\" y=\"-22.8\" font-family=\"Times New Roman,serif\" font-size=\"14.00\">samples = 164</text>\r\n",
       "<text text-anchor=\"middle\" x=\"1103.5\" y=\"-7.8\" font-family=\"Times New Roman,serif\" font-size=\"14.00\">value = [9, 155]</text>\r\n",
       "</g>\r\n",
       "<!-- 18&#45;&gt;20 -->\r\n",
       "<g id=\"edge20\" class=\"edge\"><title>18&#45;&gt;20</title>\r\n",
       "<path fill=\"none\" stroke=\"black\" d=\"M1099.6,-88.9485C1100.12,-80.7153 1100.68,-71.848 1101.22,-63.4814\"/>\r\n",
       "<polygon fill=\"black\" stroke=\"black\" points=\"1104.73,-63.4384 1101.87,-53.2367 1097.74,-62.9948 1104.73,-63.4384\"/>\r\n",
       "</g>\r\n",
       "<!-- 22 -->\r\n",
       "<g id=\"node23\" class=\"node\"><title>22</title>\r\n",
       "<polygon fill=\"#58ace9\" stroke=\"black\" points=\"1271.5,-53 1173.5,-53 1173.5,-0 1271.5,-0 1271.5,-53\"/>\r\n",
       "<text text-anchor=\"middle\" x=\"1222.5\" y=\"-37.8\" font-family=\"Times New Roman,serif\" font-size=\"14.00\">gini = 0.236</text>\r\n",
       "<text text-anchor=\"middle\" x=\"1222.5\" y=\"-22.8\" font-family=\"Times New Roman,serif\" font-size=\"14.00\">samples = 22</text>\r\n",
       "<text text-anchor=\"middle\" x=\"1222.5\" y=\"-7.8\" font-family=\"Times New Roman,serif\" font-size=\"14.00\">value = [3, 19]</text>\r\n",
       "</g>\r\n",
       "<!-- 21&#45;&gt;22 -->\r\n",
       "<g id=\"edge22\" class=\"edge\"><title>21&#45;&gt;22</title>\r\n",
       "<path fill=\"none\" stroke=\"black\" d=\"M1223.15,-88.9485C1223.06,-80.7153 1222.97,-71.848 1222.88,-63.4814\"/>\r\n",
       "<polygon fill=\"black\" stroke=\"black\" points=\"1226.38,-63.1991 1222.77,-53.2367 1219.38,-63.2732 1226.38,-63.1991\"/>\r\n",
       "</g>\r\n",
       "<!-- 23 -->\r\n",
       "<g id=\"node24\" class=\"node\"><title>23</title>\r\n",
       "<polygon fill=\"#cee6f8\" stroke=\"black\" points=\"1393.5,-53 1289.5,-53 1289.5,-0 1393.5,-0 1393.5,-53\"/>\r\n",
       "<text text-anchor=\"middle\" x=\"1341.5\" y=\"-37.8\" font-family=\"Times New Roman,serif\" font-size=\"14.00\">gini = 0.49</text>\r\n",
       "<text text-anchor=\"middle\" x=\"1341.5\" y=\"-22.8\" font-family=\"Times New Roman,serif\" font-size=\"14.00\">samples = 105</text>\r\n",
       "<text text-anchor=\"middle\" x=\"1341.5\" y=\"-7.8\" font-family=\"Times New Roman,serif\" font-size=\"14.00\">value = [45, 60]</text>\r\n",
       "</g>\r\n",
       "<!-- 21&#45;&gt;23 -->\r\n",
       "<g id=\"edge23\" class=\"edge\"><title>21&#45;&gt;23</title>\r\n",
       "<path fill=\"none\" stroke=\"black\" d=\"M1264.77,-88.9485C1276.65,-79.4346 1289.59,-69.074 1301.4,-59.6175\"/>\r\n",
       "<polygon fill=\"black\" stroke=\"black\" points=\"1303.75,-62.2196 1309.36,-53.2367 1299.37,-56.7558 1303.75,-62.2196\"/>\r\n",
       "</g>\r\n",
       "<!-- 25 -->\r\n",
       "<g id=\"node26\" class=\"node\"><title>25</title>\r\n",
       "<polygon fill=\"#399de5\" stroke=\"black\" points=\"1388,-149.5 1297,-149.5 1297,-96.5 1388,-96.5 1388,-149.5\"/>\r\n",
       "<text text-anchor=\"middle\" x=\"1342.5\" y=\"-134.3\" font-family=\"Times New Roman,serif\" font-size=\"14.00\">gini = 0.0</text>\r\n",
       "<text text-anchor=\"middle\" x=\"1342.5\" y=\"-119.3\" font-family=\"Times New Roman,serif\" font-size=\"14.00\">samples = 6</text>\r\n",
       "<text text-anchor=\"middle\" x=\"1342.5\" y=\"-104.3\" font-family=\"Times New Roman,serif\" font-size=\"14.00\">value = [0, 6]</text>\r\n",
       "</g>\r\n",
       "<!-- 24&#45;&gt;25 -->\r\n",
       "<g id=\"edge25\" class=\"edge\"><title>24&#45;&gt;25</title>\r\n",
       "<path fill=\"none\" stroke=\"black\" d=\"M1342.5,-192.884C1342.5,-182.326 1342.5,-170.597 1342.5,-159.854\"/>\r\n",
       "<polygon fill=\"black\" stroke=\"black\" points=\"1346,-159.52 1342.5,-149.52 1339,-159.52 1346,-159.52\"/>\r\n",
       "</g>\r\n",
       "<!-- 26 -->\r\n",
       "<g id=\"node27\" class=\"node\"><title>26</title>\r\n",
       "<polygon fill=\"#e88d4c\" stroke=\"black\" points=\"1506.5,-157 1408.5,-157 1408.5,-89 1506.5,-89 1506.5,-157\"/>\r\n",
       "<text text-anchor=\"middle\" x=\"1457.5\" y=\"-141.8\" font-family=\"Times New Roman,serif\" font-size=\"14.00\">X[3] &lt;= 0.5</text>\r\n",
       "<text text-anchor=\"middle\" x=\"1457.5\" y=\"-126.8\" font-family=\"Times New Roman,serif\" font-size=\"14.00\">gini = 0.162</text>\r\n",
       "<text text-anchor=\"middle\" x=\"1457.5\" y=\"-111.8\" font-family=\"Times New Roman,serif\" font-size=\"14.00\">samples = 45</text>\r\n",
       "<text text-anchor=\"middle\" x=\"1457.5\" y=\"-96.8\" font-family=\"Times New Roman,serif\" font-size=\"14.00\">value = [41, 4]</text>\r\n",
       "</g>\r\n",
       "<!-- 24&#45;&gt;26 -->\r\n",
       "<g id=\"edge26\" class=\"edge\"><title>24&#45;&gt;26</title>\r\n",
       "<path fill=\"none\" stroke=\"black\" d=\"M1379.84,-192.884C1390.18,-183.709 1401.52,-173.65 1412.26,-164.123\"/>\r\n",
       "<polygon fill=\"black\" stroke=\"black\" points=\"1414.8,-166.553 1419.96,-157.299 1410.15,-161.317 1414.8,-166.553\"/>\r\n",
       "</g>\r\n",
       "<!-- 27 -->\r\n",
       "<g id=\"node28\" class=\"node\"><title>27</title>\r\n",
       "<polygon fill=\"#399de5\" stroke=\"black\" points=\"1503,-53 1412,-53 1412,-0 1503,-0 1503,-53\"/>\r\n",
       "<text text-anchor=\"middle\" x=\"1457.5\" y=\"-37.8\" font-family=\"Times New Roman,serif\" font-size=\"14.00\">gini = 0.0</text>\r\n",
       "<text text-anchor=\"middle\" x=\"1457.5\" y=\"-22.8\" font-family=\"Times New Roman,serif\" font-size=\"14.00\">samples = 1</text>\r\n",
       "<text text-anchor=\"middle\" x=\"1457.5\" y=\"-7.8\" font-family=\"Times New Roman,serif\" font-size=\"14.00\">value = [0, 1]</text>\r\n",
       "</g>\r\n",
       "<!-- 26&#45;&gt;27 -->\r\n",
       "<g id=\"edge27\" class=\"edge\"><title>26&#45;&gt;27</title>\r\n",
       "<path fill=\"none\" stroke=\"black\" d=\"M1457.5,-88.9485C1457.5,-80.7153 1457.5,-71.848 1457.5,-63.4814\"/>\r\n",
       "<polygon fill=\"black\" stroke=\"black\" points=\"1461,-63.2367 1457.5,-53.2367 1454,-63.2367 1461,-63.2367\"/>\r\n",
       "</g>\r\n",
       "<!-- 28 -->\r\n",
       "<g id=\"node29\" class=\"node\"><title>28</title>\r\n",
       "<polygon fill=\"#e78a47\" stroke=\"black\" points=\"1619.5,-53 1521.5,-53 1521.5,-0 1619.5,-0 1619.5,-53\"/>\r\n",
       "<text text-anchor=\"middle\" x=\"1570.5\" y=\"-37.8\" font-family=\"Times New Roman,serif\" font-size=\"14.00\">gini = 0.127</text>\r\n",
       "<text text-anchor=\"middle\" x=\"1570.5\" y=\"-22.8\" font-family=\"Times New Roman,serif\" font-size=\"14.00\">samples = 44</text>\r\n",
       "<text text-anchor=\"middle\" x=\"1570.5\" y=\"-7.8\" font-family=\"Times New Roman,serif\" font-size=\"14.00\">value = [41, 3]</text>\r\n",
       "</g>\r\n",
       "<!-- 26&#45;&gt;28 -->\r\n",
       "<g id=\"edge28\" class=\"edge\"><title>26&#45;&gt;28</title>\r\n",
       "<path fill=\"none\" stroke=\"black\" d=\"M1497.02,-88.9485C1508.29,-79.526 1520.55,-69.2731 1531.77,-59.8906\"/>\r\n",
       "<polygon fill=\"black\" stroke=\"black\" points=\"1534.3,-62.3368 1539.72,-53.2367 1529.81,-56.967 1534.3,-62.3368\"/>\r\n",
       "</g>\r\n",
       "</g>\r\n",
       "</svg>\r\n"
      ],
      "text/plain": [
       "<graphviz.files.Source at 0x186e1aef2e0>"
      ]
     },
     "metadata": {},
     "output_type": "display_data"
    }
   ],
   "source": [
    "import graphviz \n",
    "from sklearn.tree import export_graphviz\n",
    "\n",
    "export_graphviz(titanic_tree, out_file='titanic_tree.dot',\n",
    "                filled = True\n",
    "               )\n",
    "\n",
    "with open('titanic_tree.dot', encoding='utf-8') as f:\n",
    "    dot_graph = f.read()\n",
    "display(graphviz.Source(dot_graph))"
   ]
  },
  {
   "cell_type": "markdown",
   "metadata": {},
   "source": [
    "### V. Accuracy\n",
    "---"
   ]
  },
  {
   "cell_type": "code",
   "execution_count": 48,
   "metadata": {},
   "outputs": [
    {
     "name": "stdout",
     "output_type": "stream",
     "text": [
      "SVC :  83.17\n"
     ]
    }
   ],
   "source": [
    "print('SVC : ',round(np.mean(score)*100,2))"
   ]
  },
  {
   "cell_type": "markdown",
   "metadata": {},
   "source": [
    "### VI. Inference Test Predict\n",
    "---"
   ]
  },
  {
   "cell_type": "code",
   "execution_count": 49,
   "metadata": {},
   "outputs": [
    {
     "data": {
      "text/plain": [
       "array([0, 1, 0, 0, 1, 0, 1, 0, 1, 0, 0, 0, 1, 0, 1, 1, 0, 0, 1, 1, 0, 1,\n",
       "       1, 0, 1, 0, 1, 0, 0, 0, 0, 0, 1, 1, 0, 0, 1, 1, 0, 0, 0, 0, 0, 1,\n",
       "       1, 0, 0, 0, 1, 1, 0, 0, 1, 1, 0, 0, 0, 0, 0, 1, 0, 0, 0, 1, 1, 1,\n",
       "       1, 0, 0, 1, 1, 0, 1, 0, 1, 0, 0, 1, 0, 1, 1, 0, 0, 0, 0, 0, 1, 1,\n",
       "       1, 1, 1, 0, 1, 0, 0, 0, 1, 0, 1, 0, 1, 0, 0, 0, 1, 0, 0, 0, 0, 0,\n",
       "       0, 1, 1, 1, 1, 0, 0, 1, 0, 1, 1, 0, 1, 0, 0, 1, 0, 1, 0, 0, 0, 0,\n",
       "       0, 0, 0, 0, 0, 0, 1, 0, 0, 1, 0, 0, 0, 0, 0, 0, 0, 1, 1, 0, 0, 1,\n",
       "       0, 0, 1, 1, 0, 1, 1, 1, 1, 0, 0, 1, 0, 0, 1, 1, 0, 0, 0, 0, 0, 1,\n",
       "       1, 0, 1, 1, 0, 0, 1, 0, 1, 0, 1, 0, 0, 0, 0, 0, 1, 0, 1, 0, 1, 1,\n",
       "       0, 1, 1, 1, 1, 1, 0, 0, 1, 0, 1, 0, 0, 0, 0, 1, 0, 0, 1, 0, 1, 0,\n",
       "       1, 0, 1, 0, 1, 1, 0, 1, 0, 0, 0, 1, 0, 0, 0, 0, 0, 0, 1, 1, 1, 1,\n",
       "       0, 0, 1, 0, 1, 0, 1, 1, 1, 0, 0, 0, 0, 0, 0, 0, 1, 0, 0, 0, 1, 1,\n",
       "       0, 0, 0, 0, 1, 0, 0, 0, 1, 1, 0, 1, 0, 0, 0, 0, 1, 1, 1, 1, 1, 0,\n",
       "       0, 0, 0, 0, 0, 1, 0, 1, 0, 0, 1, 0, 0, 0, 0, 0, 0, 0, 1, 1, 0, 1,\n",
       "       0, 1, 0, 0, 0, 1, 1, 1, 0, 0, 0, 0, 0, 0, 0, 0, 1, 0, 1, 0, 0, 0,\n",
       "       1, 0, 0, 1, 0, 0, 0, 0, 0, 1, 0, 0, 0, 1, 1, 1, 0, 1, 0, 1, 1, 0,\n",
       "       0, 0, 1, 0, 1, 0, 0, 1, 0, 1, 1, 0, 1, 0, 0, 1, 1, 0, 0, 1, 0, 0,\n",
       "       1, 1, 1, 0, 0, 0, 0, 0, 1, 1, 0, 1, 0, 0, 0, 0, 0, 1, 1, 0, 0, 1,\n",
       "       0, 1, 0, 0, 1, 0, 1, 0, 0, 0, 0, 0, 1, 1, 1, 1, 1, 0, 1, 0, 0, 1],\n",
       "      dtype=int64)"
      ]
     },
     "execution_count": 49,
     "metadata": {},
     "output_type": "execute_result"
    }
   ],
   "source": [
    "# Test data를 통한 예측을 하자\n",
    "model=svm.SVC(gamma='auto')\n",
    "model.fit(train_data,train_label)\n",
    "\n",
    "pred = model.predict(test)\n",
    "pred"
   ]
  },
  {
   "cell_type": "markdown",
   "metadata": {},
   "source": [
    "### VII.Kaggle Submit\n",
    "---"
   ]
  },
  {
   "cell_type": "code",
   "execution_count": 50,
   "metadata": {},
   "outputs": [],
   "source": [
    "# 예측한 결과를 CSV로 만들어서 Kaggle 측에다 제출해 보겠다.\n",
    "submission = pd.DataFrame({\n",
    "    \"PassengerId\" : test_PassengerId,\n",
    "    \"Survived\" : pred\n",
    "    \n",
    "})\n",
    "\n",
    "submission.to_csv('submission3.csv', index=False)\n",
    "\n"
   ]
  },
  {
   "cell_type": "code",
   "execution_count": 51,
   "metadata": {},
   "outputs": [
    {
     "data": {
      "text/html": [
       "<div>\n",
       "<style scoped>\n",
       "    .dataframe tbody tr th:only-of-type {\n",
       "        vertical-align: middle;\n",
       "    }\n",
       "\n",
       "    .dataframe tbody tr th {\n",
       "        vertical-align: top;\n",
       "    }\n",
       "\n",
       "    .dataframe thead th {\n",
       "        text-align: right;\n",
       "    }\n",
       "</style>\n",
       "<table border=\"1\" class=\"dataframe\">\n",
       "  <thead>\n",
       "    <tr style=\"text-align: right;\">\n",
       "      <th></th>\n",
       "      <th>PassengerId</th>\n",
       "      <th>Survived</th>\n",
       "    </tr>\n",
       "  </thead>\n",
       "  <tbody>\n",
       "    <tr>\n",
       "      <th>0</th>\n",
       "      <td>892</td>\n",
       "      <td>0</td>\n",
       "    </tr>\n",
       "    <tr>\n",
       "      <th>1</th>\n",
       "      <td>893</td>\n",
       "      <td>1</td>\n",
       "    </tr>\n",
       "    <tr>\n",
       "      <th>2</th>\n",
       "      <td>894</td>\n",
       "      <td>0</td>\n",
       "    </tr>\n",
       "    <tr>\n",
       "      <th>3</th>\n",
       "      <td>895</td>\n",
       "      <td>0</td>\n",
       "    </tr>\n",
       "    <tr>\n",
       "      <th>4</th>\n",
       "      <td>896</td>\n",
       "      <td>1</td>\n",
       "    </tr>\n",
       "  </tbody>\n",
       "</table>\n",
       "</div>"
      ],
      "text/plain": [
       "   PassengerId  Survived\n",
       "0          892         0\n",
       "1          893         1\n",
       "2          894         0\n",
       "3          895         0\n",
       "4          896         1"
      ]
     },
     "execution_count": 51,
     "metadata": {},
     "output_type": "execute_result"
    }
   ],
   "source": [
    "'''\n",
    "위에서 생성된 submission.csv 파일을 Kaggle 대회측에 제출하자\n",
    "정답은 알아서 채점해준다. \n",
    "\n",
    "'''\n",
    "\n",
    "submission = pd.read_csv('submission3.csv')\n",
    "submission.head()"
   ]
  },
  {
   "cell_type": "markdown",
   "metadata": {},
   "source": [
    "# ================================="
   ]
  },
  {
   "cell_type": "code",
   "execution_count": 55,
   "metadata": {},
   "outputs": [
    {
     "data": {
      "text/html": [
       "<div>\n",
       "<style scoped>\n",
       "    .dataframe tbody tr th:only-of-type {\n",
       "        vertical-align: middle;\n",
       "    }\n",
       "\n",
       "    .dataframe tbody tr th {\n",
       "        vertical-align: top;\n",
       "    }\n",
       "\n",
       "    .dataframe thead th {\n",
       "        text-align: right;\n",
       "    }\n",
       "</style>\n",
       "<table border=\"1\" class=\"dataframe\">\n",
       "  <thead>\n",
       "    <tr style=\"text-align: right;\">\n",
       "      <th></th>\n",
       "      <th>Pclass</th>\n",
       "      <th>Sex</th>\n",
       "      <th>Age</th>\n",
       "      <th>Fare</th>\n",
       "      <th>Embarked</th>\n",
       "      <th>Title</th>\n",
       "      <th>FamilySize</th>\n",
       "      <th>Cabin_multiple</th>\n",
       "    </tr>\n",
       "  </thead>\n",
       "  <tbody>\n",
       "    <tr>\n",
       "      <th>0</th>\n",
       "      <td>3</td>\n",
       "      <td>0</td>\n",
       "      <td>3.0</td>\n",
       "      <td>0.0</td>\n",
       "      <td>2</td>\n",
       "      <td>0</td>\n",
       "      <td>0</td>\n",
       "      <td>0</td>\n",
       "    </tr>\n",
       "    <tr>\n",
       "      <th>1</th>\n",
       "      <td>3</td>\n",
       "      <td>1</td>\n",
       "      <td>4.0</td>\n",
       "      <td>0.0</td>\n",
       "      <td>0</td>\n",
       "      <td>2</td>\n",
       "      <td>1</td>\n",
       "      <td>0</td>\n",
       "    </tr>\n",
       "    <tr>\n",
       "      <th>2</th>\n",
       "      <td>2</td>\n",
       "      <td>0</td>\n",
       "      <td>4.0</td>\n",
       "      <td>0.0</td>\n",
       "      <td>2</td>\n",
       "      <td>0</td>\n",
       "      <td>0</td>\n",
       "      <td>0</td>\n",
       "    </tr>\n",
       "    <tr>\n",
       "      <th>3</th>\n",
       "      <td>3</td>\n",
       "      <td>0</td>\n",
       "      <td>2.0</td>\n",
       "      <td>0.0</td>\n",
       "      <td>0</td>\n",
       "      <td>0</td>\n",
       "      <td>0</td>\n",
       "      <td>0</td>\n",
       "    </tr>\n",
       "    <tr>\n",
       "      <th>4</th>\n",
       "      <td>3</td>\n",
       "      <td>1</td>\n",
       "      <td>1.0</td>\n",
       "      <td>0.0</td>\n",
       "      <td>0</td>\n",
       "      <td>2</td>\n",
       "      <td>2</td>\n",
       "      <td>0</td>\n",
       "    </tr>\n",
       "    <tr>\n",
       "      <th>...</th>\n",
       "      <td>...</td>\n",
       "      <td>...</td>\n",
       "      <td>...</td>\n",
       "      <td>...</td>\n",
       "      <td>...</td>\n",
       "      <td>...</td>\n",
       "      <td>...</td>\n",
       "      <td>...</td>\n",
       "    </tr>\n",
       "    <tr>\n",
       "      <th>413</th>\n",
       "      <td>3</td>\n",
       "      <td>0</td>\n",
       "      <td>2.0</td>\n",
       "      <td>0.0</td>\n",
       "      <td>0</td>\n",
       "      <td>0</td>\n",
       "      <td>0</td>\n",
       "      <td>0</td>\n",
       "    </tr>\n",
       "    <tr>\n",
       "      <th>414</th>\n",
       "      <td>1</td>\n",
       "      <td>1</td>\n",
       "      <td>3.0</td>\n",
       "      <td>4.0</td>\n",
       "      <td>1</td>\n",
       "      <td>3</td>\n",
       "      <td>0</td>\n",
       "      <td>1</td>\n",
       "    </tr>\n",
       "    <tr>\n",
       "      <th>415</th>\n",
       "      <td>3</td>\n",
       "      <td>0</td>\n",
       "      <td>3.0</td>\n",
       "      <td>0.0</td>\n",
       "      <td>0</td>\n",
       "      <td>0</td>\n",
       "      <td>0</td>\n",
       "      <td>0</td>\n",
       "    </tr>\n",
       "    <tr>\n",
       "      <th>416</th>\n",
       "      <td>3</td>\n",
       "      <td>0</td>\n",
       "      <td>2.0</td>\n",
       "      <td>0.0</td>\n",
       "      <td>0</td>\n",
       "      <td>0</td>\n",
       "      <td>0</td>\n",
       "      <td>0</td>\n",
       "    </tr>\n",
       "    <tr>\n",
       "      <th>417</th>\n",
       "      <td>3</td>\n",
       "      <td>0</td>\n",
       "      <td>0.0</td>\n",
       "      <td>1.0</td>\n",
       "      <td>1</td>\n",
       "      <td>3</td>\n",
       "      <td>2</td>\n",
       "      <td>0</td>\n",
       "    </tr>\n",
       "  </tbody>\n",
       "</table>\n",
       "<p>418 rows × 8 columns</p>\n",
       "</div>"
      ],
      "text/plain": [
       "     Pclass  Sex  Age  Fare  Embarked  Title  FamilySize  Cabin_multiple\n",
       "0         3    0  3.0   0.0         2      0           0               0\n",
       "1         3    1  4.0   0.0         0      2           1               0\n",
       "2         2    0  4.0   0.0         2      0           0               0\n",
       "3         3    0  2.0   0.0         0      0           0               0\n",
       "4         3    1  1.0   0.0         0      2           2               0\n",
       "..      ...  ...  ...   ...       ...    ...         ...             ...\n",
       "413       3    0  2.0   0.0         0      0           0               0\n",
       "414       1    1  3.0   4.0         1      3           0               1\n",
       "415       3    0  3.0   0.0         0      0           0               0\n",
       "416       3    0  2.0   0.0         0      0           0               0\n",
       "417       3    0  0.0   1.0         1      3           2               0\n",
       "\n",
       "[418 rows x 8 columns]"
      ]
     },
     "execution_count": 55,
     "metadata": {},
     "output_type": "execute_result"
    }
   ],
   "source": [
    "train_data\n",
    "train_label"
   ]
  },
  {
   "cell_type": "code",
   "execution_count": null,
   "metadata": {},
   "outputs": [],
   "source": []
  },
  {
   "cell_type": "code",
   "execution_count": null,
   "metadata": {},
   "outputs": [],
   "source": []
  },
  {
   "cell_type": "code",
   "execution_count": null,
   "metadata": {},
   "outputs": [],
   "source": []
  },
  {
   "cell_type": "code",
   "execution_count": null,
   "metadata": {},
   "outputs": [],
   "source": []
  }
 ],
 "metadata": {
  "kernelspec": {
   "display_name": "Python 3",
   "language": "python",
   "name": "python3"
  },
  "language_info": {
   "codemirror_mode": {
    "name": "ipython",
    "version": 3
   },
   "file_extension": ".py",
   "mimetype": "text/x-python",
   "name": "python",
   "nbconvert_exporter": "python",
   "pygments_lexer": "ipython3",
   "version": "3.8.5"
  }
 },
 "nbformat": 4,
 "nbformat_minor": 4
}
