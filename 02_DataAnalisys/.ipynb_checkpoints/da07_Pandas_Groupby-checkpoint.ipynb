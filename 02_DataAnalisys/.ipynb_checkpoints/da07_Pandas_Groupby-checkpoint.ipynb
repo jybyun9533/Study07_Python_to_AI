{
 "cells": [
  {
   "cell_type": "markdown",
   "metadata": {},
   "source": [
    "### 데이타 그룹 연산  -  groupby\n",
    "    통계자료에서 많이 사용한다.\n",
    "    그룹핑 시켜서 합을 도출하거나 평균 구하거나 등등.."
   ]
  },
  {
   "cell_type": "code",
   "execution_count": 3,
   "metadata": {},
   "outputs": [],
   "source": [
    "import numpy as np\n",
    "import pandas as pd\n",
    "from pandas import Series, DataFrame\n",
    "import matplotlib.pyplot as plt"
   ]
  },
  {
   "cell_type": "code",
   "execution_count": 4,
   "metadata": {},
   "outputs": [
    {
     "data": {
      "text/html": [
       "<div>\n",
       "<style scoped>\n",
       "    .dataframe tbody tr th:only-of-type {\n",
       "        vertical-align: middle;\n",
       "    }\n",
       "\n",
       "    .dataframe tbody tr th {\n",
       "        vertical-align: top;\n",
       "    }\n",
       "\n",
       "    .dataframe thead th {\n",
       "        text-align: right;\n",
       "    }\n",
       "</style>\n",
       "<table border=\"1\" class=\"dataframe\">\n",
       "  <thead>\n",
       "    <tr style=\"text-align: right;\">\n",
       "      <th></th>\n",
       "      <th>Gender</th>\n",
       "      <th>Smoking</th>\n",
       "      <th>Gold</th>\n",
       "      <th>Silver</th>\n",
       "    </tr>\n",
       "  </thead>\n",
       "  <tbody>\n",
       "    <tr>\n",
       "      <th>0</th>\n",
       "      <td>Female</td>\n",
       "      <td>Smoker</td>\n",
       "      <td>4</td>\n",
       "      <td>4</td>\n",
       "    </tr>\n",
       "    <tr>\n",
       "      <th>1</th>\n",
       "      <td>Male</td>\n",
       "      <td>Smoker</td>\n",
       "      <td>4</td>\n",
       "      <td>8</td>\n",
       "    </tr>\n",
       "    <tr>\n",
       "      <th>2</th>\n",
       "      <td>Female</td>\n",
       "      <td>Smoker</td>\n",
       "      <td>4</td>\n",
       "      <td>6</td>\n",
       "    </tr>\n",
       "    <tr>\n",
       "      <th>3</th>\n",
       "      <td>Male</td>\n",
       "      <td>Non-Smoker</td>\n",
       "      <td>4</td>\n",
       "      <td>4</td>\n",
       "    </tr>\n",
       "    <tr>\n",
       "      <th>4</th>\n",
       "      <td>Female</td>\n",
       "      <td>Non-Smoker</td>\n",
       "      <td>2</td>\n",
       "      <td>9</td>\n",
       "    </tr>\n",
       "    <tr>\n",
       "      <th>5</th>\n",
       "      <td>Male</td>\n",
       "      <td>Non-Smoker</td>\n",
       "      <td>3</td>\n",
       "      <td>5</td>\n",
       "    </tr>\n",
       "    <tr>\n",
       "      <th>6</th>\n",
       "      <td>Female</td>\n",
       "      <td>Non-Smoker</td>\n",
       "      <td>4</td>\n",
       "      <td>7</td>\n",
       "    </tr>\n",
       "    <tr>\n",
       "      <th>7</th>\n",
       "      <td>Female</td>\n",
       "      <td>Smoker</td>\n",
       "      <td>7</td>\n",
       "      <td>4</td>\n",
       "    </tr>\n",
       "  </tbody>\n",
       "</table>\n",
       "</div>"
      ],
      "text/plain": [
       "   Gender     Smoking  Gold  Silver\n",
       "0  Female      Smoker     4       4\n",
       "1    Male      Smoker     4       8\n",
       "2  Female      Smoker     4       6\n",
       "3    Male  Non-Smoker     4       4\n",
       "4  Female  Non-Smoker     2       9\n",
       "5    Male  Non-Smoker     3       5\n",
       "6  Female  Non-Smoker     4       7\n",
       "7  Female      Smoker     7       4"
      ]
     },
     "execution_count": 4,
     "metadata": {},
     "output_type": "execute_result"
    }
   ],
   "source": [
    "df = DataFrame({\n",
    "    'Gender':['Female','Male','Female','Male','Female','Male','Female','Female'],\n",
    "    'Smoking':['Smoker','Smoker','Smoker','Non-Smoker','Non-Smoker','Non-Smoker','Non-Smoker','Smoker'],\n",
    "    'Gold':np.random.randint(1,10,8),\n",
    "    'Silver':np.random.randint(1,10,8)\n",
    "})\n",
    "\n",
    "df"
   ]
  },
  {
   "cell_type": "code",
   "execution_count": null,
   "metadata": {},
   "outputs": [],
   "source": []
  },
  {
   "cell_type": "code",
   "execution_count": null,
   "metadata": {},
   "outputs": [],
   "source": []
  },
  {
   "cell_type": "code",
   "execution_count": null,
   "metadata": {},
   "outputs": [],
   "source": []
  },
  {
   "cell_type": "code",
   "execution_count": null,
   "metadata": {},
   "outputs": [],
   "source": []
  },
  {
   "cell_type": "code",
   "execution_count": null,
   "metadata": {},
   "outputs": [],
   "source": []
  },
  {
   "cell_type": "code",
   "execution_count": null,
   "metadata": {},
   "outputs": [],
   "source": []
  },
  {
   "cell_type": "markdown",
   "metadata": {},
   "source": [
    "### 다시 한번 짚어보기!!\n",
    "    1. unique()\n",
    "       중복된 것은 걸러버리고 중복되지 않은값만 데이타가 중복되어 있을때 \n",
    "       unique해서 고유한 값만 찾아내고 다른 값들은 버려버릴때 많이 쓴다. \n",
    "       SQL에서 DISTINCT와 동일한 기능 LIST를 SET으로 변경한후 다시 LIST로 만드는 \n",
    "       것과 동일\n",
    "       \n",
    "    2. describe()\n",
    "        describe() 함수는 데이타에 대한 간력한 설명\n",
    "        간략한 통계를 내준다.\n",
    "        숫자로서 가능한 데이타만 나온다.\n",
    "        하위 25%, 상위 25%\n",
    "        4분위할 때 쓰는 부분이다.\n",
    "        데이타 성격을 알고 싶을때 많이 사용한다.\n",
    "        \n",
    "    3. sum() 은 숫자 데이타에만 적용됨\n",
    "    4. count()는 값의 갯수..\n",
    "    \n",
    "    5. value_counts()\n",
    "       해당 컬럼에서 그 값이 몇번 나왔는지를 확인할때 사용한다.\n",
    "       빈도수 확인할때 사용됨\n",
    "       \n",
    "    6.apply()\n",
    "      판다스에서 내가 만들어서 적용시킬수 있는 함수기능\n",
    "      판다스에서 제공해주지 않는 함수를 내가 만들어서\n",
    "      적용할때 많이 사용한다.\n",
    "      df['C'].apply(add)..인자값으로 함수이름\n",
    "\n",
    "    7. 컬럼확인 | 인덱스 확인 | 컬럼명 수정\n",
    "       디비에서 데이타를 가져오거나\n",
    "       웹에서 데이타를 가져올때\n",
    "       내가 원하는 이름을 컬럼명을 바꾸고 싶을때가 있다.\n",
    "       컬럼명 수정은 빈번하게 진행된다."
   ]
  }
 ],
 "metadata": {
  "kernelspec": {
   "display_name": "Python 3",
   "language": "python",
   "name": "python3"
  },
  "language_info": {
   "codemirror_mode": {
    "name": "ipython",
    "version": 3
   },
   "file_extension": ".py",
   "mimetype": "text/x-python",
   "name": "python",
   "nbconvert_exporter": "python",
   "pygments_lexer": "ipython3",
   "version": "3.8.5"
  }
 },
 "nbformat": 4,
 "nbformat_minor": 4
}
