{
 "cells": [
  {
   "cell_type": "markdown",
   "metadata": {},
   "source": [
    "### Pandas\n",
    "    pandas는 Panel Datas의 약자\n",
    "    파이썬을 이용한 데이터 분석에서 가장 많이 사용되는 라이브러리\n",
    "    Numpy기반\n",
    "    \n",
    "    Pandas 자료구조\n",
    "    1. Series - 1차원 배열(벡터)\n",
    "    2. DataFrame - 2차원 배열(메트릭스) :: 가장중요(표형식)\n",
    "    3. Panel - 3차원(대상X)\n",
    "   "
   ]
  },
  {
   "cell_type": "markdown",
   "metadata": {},
   "source": [
    "#### Series\n",
    "    시리즈 생성, 구조확인"
   ]
  },
  {
   "cell_type": "code",
   "execution_count": 4,
   "metadata": {},
   "outputs": [],
   "source": [
    "import numpy as np\n",
    "import pandas as pd\n",
    "from pandas import Series, DataFrame\n",
    "import matplotlib.pyplot as plt"
   ]
  },
  {
   "cell_type": "code",
   "execution_count": 2,
   "metadata": {},
   "outputs": [],
   "source": [
    "Series?"
   ]
  },
  {
   "cell_type": "code",
   "execution_count": 9,
   "metadata": {},
   "outputs": [
    {
     "name": "stdout",
     "output_type": "stream",
     "text": [
      "Index(['a', 'b', 'c', 'd', 'e'], dtype='object')\n",
      "[18 11 16 12 14]\n",
      "int32\n",
      "a    18\n",
      "b    11\n",
      "c    16\n",
      "d    12\n",
      "e    14\n",
      "dtype: int32\n"
     ]
    }
   ],
   "source": [
    "'''\n",
    "index 속성없이 series를 생성하면 인덱스는 자동적으로 0~n-1까지 정수로 잡힘\n",
    "'''\n",
    "ser1 = Series(np.random.randint(10,20,5), index=list('abcde'))\n",
    "\n",
    "print(ser1.index)\n",
    "print(ser1.values)\n",
    "print(ser1.dtype)\n",
    "print(ser1)"
   ]
  },
  {
   "cell_type": "markdown",
   "metadata": {},
   "source": [
    "### 시리즈 값 조회하기\n",
    "    단일값을 선택하거나 여러값을 선택할때\n",
    "    1) 인덱스로 라벨을 사용할 수 있다.\n",
    "    2) 슬라이싱 방법\n",
    "        - 라벨사용 : 마지막 라벨 포함됨 ['a' : 'd']\n",
    "        - 숫자사용 : 마지막 숫자 포함 안됨"
   ]
  },
  {
   "cell_type": "code",
   "execution_count": 12,
   "metadata": {},
   "outputs": [
    {
     "data": {
      "text/plain": [
       "a    18\n",
       "b    11\n",
       "c    16\n",
       "d    12\n",
       "e    14\n",
       "dtype: int32"
      ]
     },
     "execution_count": 12,
     "metadata": {},
     "output_type": "execute_result"
    }
   ],
   "source": [
    "ser1"
   ]
  },
  {
   "cell_type": "code",
   "execution_count": 16,
   "metadata": {},
   "outputs": [
    {
     "name": "stdout",
     "output_type": "stream",
     "text": [
      "b    11\n",
      "c    16\n",
      "d    12\n",
      "dtype: int32\n",
      "b    11\n",
      "c    16\n",
      "d    12\n",
      "dtype: int32\n"
     ]
    }
   ],
   "source": [
    "ser1[0]\n",
    "ser1['a']\n",
    "# 슬라이시에서 숫자를 사용 :: 라벨을 사용하는 경우\n",
    "print(ser1[1:4])\n",
    "print(ser1['b':'d'])"
   ]
  },
  {
   "cell_type": "code",
   "execution_count": 20,
   "metadata": {},
   "outputs": [
    {
     "name": "stdout",
     "output_type": "stream",
     "text": [
      "a    18\n",
      "b    11\n",
      "c    16\n",
      "d    12\n",
      "e    14\n",
      "dtype: int32\n",
      "a    18\n",
      "c    16\n",
      "e    14\n",
      "dtype: int32\n"
     ]
    }
   ],
   "source": [
    "# 응용해서 조회하기 : 아래 2개의 표현법을 구분하자\n",
    "ser1[:2]\n",
    "print(ser1)\n",
    "ser1_1=ser1[::2]\n",
    "print(ser1_1)"
   ]
  },
  {
   "cell_type": "code",
   "execution_count": 21,
   "metadata": {},
   "outputs": [
    {
     "name": "stdout",
     "output_type": "stream",
     "text": [
      "a    36.0\n",
      "b     NaN\n",
      "c    32.0\n",
      "d     NaN\n",
      "e    28.0\n",
      "dtype: float64\n"
     ]
    }
   ],
   "source": [
    "# 시리즈 간의 연산\n",
    "\n",
    "resSer = ser1+ser1_1\n",
    "print(resSer)"
   ]
  },
  {
   "cell_type": "markdown",
   "metadata": {},
   "source": [
    "#### 누락 데이터 조회\n",
    "    isnull() notnull()"
   ]
  },
  {
   "cell_type": "code",
   "execution_count": 22,
   "metadata": {},
   "outputs": [
    {
     "data": {
      "text/plain": [
       "a    36.0\n",
       "b     NaN\n",
       "c    32.0\n",
       "d     NaN\n",
       "e    28.0\n",
       "dtype: float64"
      ]
     },
     "execution_count": 22,
     "metadata": {},
     "output_type": "execute_result"
    }
   ],
   "source": [
    "resSer"
   ]
  },
  {
   "cell_type": "code",
   "execution_count": 26,
   "metadata": {},
   "outputs": [
    {
     "name": "stdout",
     "output_type": "stream",
     "text": [
      "a    False\n",
      "b     True\n",
      "c    False\n",
      "d     True\n",
      "e    False\n",
      "dtype: bool\n",
      "b   NaN\n",
      "d   NaN\n",
      "dtype: float64\n",
      "******************************\n",
      "a     True\n",
      "b    False\n",
      "c     True\n",
      "d    False\n",
      "e     True\n",
      "dtype: bool\n",
      "a    36.0\n",
      "c    32.0\n",
      "e    28.0\n",
      "dtype: float64\n",
      "******************************\n",
      "2\n"
     ]
    }
   ],
   "source": [
    "print(resSer.isnull())\n",
    "print(resSer[resSer.isnull()])\n",
    "print('*'* 30)\n",
    "print(resSer.notnull())\n",
    "print(resSer[resSer.notnull()])\n",
    "print('*'* 30)\n",
    "print(resSer.isnull().sum())"
   ]
  },
  {
   "cell_type": "markdown",
   "metadata": {},
   "source": [
    "#### Pandas를 이용한 시각화\n",
    "    누락데이터가 아닌 데이터를 하눈에 보여준다"
   ]
  },
  {
   "cell_type": "code",
   "execution_count": 27,
   "metadata": {},
   "outputs": [
    {
     "data": {
      "image/png": "[encoded data removed]",
      "text/plain": [
       "<Figure size 432x288 with 1 Axes>"
      ]
     },
     "metadata": {
      "needs_background": "light"
     },
     "output_type": "display_data"
    }
   ],
   "source": [
    "resSer[resSer.notnull()].plot(kind='bar')\n",
    "# resSer[resSer.isnull()].plot(kind='bar')\n",
    "plt.show()"
   ]
  },
  {
   "cell_type": "code",
   "execution_count": null,
   "metadata": {},
   "outputs": [],
   "source": []
  },
  {
   "cell_type": "code",
   "execution_count": null,
   "metadata": {},
   "outputs": [],
   "source": []
  },
  {
   "cell_type": "code",
   "execution_count": null,
   "metadata": {},
   "outputs": [],
   "source": []
  }
 ],
 "metadata": {
  "kernelspec": {
   "display_name": "Python 3",
   "language": "python",
   "name": "python3"
  },
  "language_info": {
   "codemirror_mode": {
    "name": "ipython",
    "version": 3
   },
   "file_extension": ".py",
   "mimetype": "text/x-python",
   "name": "python",
   "nbconvert_exporter": "python",
   "pygments_lexer": "ipython3",
   "version": "3.8.5"
  }
 },
 "nbformat": 4,
 "nbformat_minor": 4
}
